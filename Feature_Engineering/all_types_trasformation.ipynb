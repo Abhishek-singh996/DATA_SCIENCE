{
 "cells": [
  {
   "cell_type": "markdown",
   "metadata": {},
   "source": [
    "## Transformation of Features\n",
    "Why Transformation of Features Are Required?\n",
    "\n",
    "Linear Regression---Gradient Descent ----Global Minima\n",
    "Algorithms like KNN,K Means,Hierarichal Clustering--- Eucledian Distance\n",
    "Every Point has some vectors and Directiom\n",
    "\n",
    "Deep Learning Techniques(Standardization, Scaling) 1.ANN--->GLobal Minima, Gradient 2.CNN 3.RNN\n",
    "\n",
    "0-255 pixels\n",
    "\n",
    "Types Of Transformation\n",
    "Normalization And Standardization\n",
    "Scaling to Minimum And Maximum values\n",
    "Scaling To Median And Quantiles\n",
    "Guassian Transformation\n",
    "Logarithmic Transformation\n",
    "Reciprocal Trnasformation\n",
    "Square Root Transformation\n",
    "Exponential Trnasformation\n",
    "Box Cox Transformation"
   ]
  },
  {
   "cell_type": "code",
   "execution_count": 38,
   "metadata": {},
   "outputs": [],
   "source": [
    "import seaborn as sns\n",
    "df = sns.get_dataset_names()"
   ]
  },
  {
   "cell_type": "code",
   "execution_count": 39,
   "metadata": {},
   "outputs": [
    {
     "data": {
      "text/plain": [
       "['anagrams',\n",
       " 'anscombe',\n",
       " 'attention',\n",
       " 'brain_networks',\n",
       " 'car_crashes',\n",
       " 'diamonds',\n",
       " 'dots',\n",
       " 'dowjones',\n",
       " 'exercise',\n",
       " 'flights',\n",
       " 'fmri',\n",
       " 'geyser',\n",
       " 'glue',\n",
       " 'healthexp',\n",
       " 'iris',\n",
       " 'mpg',\n",
       " 'penguins',\n",
       " 'planets',\n",
       " 'seaice',\n",
       " 'taxis',\n",
       " 'tips',\n",
       " 'titanic']"
      ]
     },
     "execution_count": 39,
     "metadata": {},
     "output_type": "execute_result"
    }
   ],
   "source": [
    "df"
   ]
  },
  {
   "cell_type": "code",
   "execution_count": 40,
   "metadata": {},
   "outputs": [],
   "source": [
    "df = sns.load_dataset('titanic')"
   ]
  },
  {
   "cell_type": "code",
   "execution_count": 41,
   "metadata": {},
   "outputs": [
    {
     "data": {
      "text/html": [
       "<div>\n",
       "<style scoped>\n",
       "    .dataframe tbody tr th:only-of-type {\n",
       "        vertical-align: middle;\n",
       "    }\n",
       "\n",
       "    .dataframe tbody tr th {\n",
       "        vertical-align: top;\n",
       "    }\n",
       "\n",
       "    .dataframe thead th {\n",
       "        text-align: right;\n",
       "    }\n",
       "</style>\n",
       "<table border=\"1\" class=\"dataframe\">\n",
       "  <thead>\n",
       "    <tr style=\"text-align: right;\">\n",
       "      <th></th>\n",
       "      <th>survived</th>\n",
       "      <th>pclass</th>\n",
       "      <th>sex</th>\n",
       "      <th>age</th>\n",
       "      <th>sibsp</th>\n",
       "      <th>parch</th>\n",
       "      <th>fare</th>\n",
       "      <th>embarked</th>\n",
       "      <th>class</th>\n",
       "      <th>who</th>\n",
       "      <th>adult_male</th>\n",
       "      <th>deck</th>\n",
       "      <th>embark_town</th>\n",
       "      <th>alive</th>\n",
       "      <th>alone</th>\n",
       "    </tr>\n",
       "  </thead>\n",
       "  <tbody>\n",
       "    <tr>\n",
       "      <th>0</th>\n",
       "      <td>0</td>\n",
       "      <td>3</td>\n",
       "      <td>male</td>\n",
       "      <td>22.0</td>\n",
       "      <td>1</td>\n",
       "      <td>0</td>\n",
       "      <td>7.2500</td>\n",
       "      <td>S</td>\n",
       "      <td>Third</td>\n",
       "      <td>man</td>\n",
       "      <td>True</td>\n",
       "      <td>NaN</td>\n",
       "      <td>Southampton</td>\n",
       "      <td>no</td>\n",
       "      <td>False</td>\n",
       "    </tr>\n",
       "    <tr>\n",
       "      <th>1</th>\n",
       "      <td>1</td>\n",
       "      <td>1</td>\n",
       "      <td>female</td>\n",
       "      <td>38.0</td>\n",
       "      <td>1</td>\n",
       "      <td>0</td>\n",
       "      <td>71.2833</td>\n",
       "      <td>C</td>\n",
       "      <td>First</td>\n",
       "      <td>woman</td>\n",
       "      <td>False</td>\n",
       "      <td>C</td>\n",
       "      <td>Cherbourg</td>\n",
       "      <td>yes</td>\n",
       "      <td>False</td>\n",
       "    </tr>\n",
       "    <tr>\n",
       "      <th>2</th>\n",
       "      <td>1</td>\n",
       "      <td>3</td>\n",
       "      <td>female</td>\n",
       "      <td>26.0</td>\n",
       "      <td>0</td>\n",
       "      <td>0</td>\n",
       "      <td>7.9250</td>\n",
       "      <td>S</td>\n",
       "      <td>Third</td>\n",
       "      <td>woman</td>\n",
       "      <td>False</td>\n",
       "      <td>NaN</td>\n",
       "      <td>Southampton</td>\n",
       "      <td>yes</td>\n",
       "      <td>True</td>\n",
       "    </tr>\n",
       "    <tr>\n",
       "      <th>3</th>\n",
       "      <td>1</td>\n",
       "      <td>1</td>\n",
       "      <td>female</td>\n",
       "      <td>35.0</td>\n",
       "      <td>1</td>\n",
       "      <td>0</td>\n",
       "      <td>53.1000</td>\n",
       "      <td>S</td>\n",
       "      <td>First</td>\n",
       "      <td>woman</td>\n",
       "      <td>False</td>\n",
       "      <td>C</td>\n",
       "      <td>Southampton</td>\n",
       "      <td>yes</td>\n",
       "      <td>False</td>\n",
       "    </tr>\n",
       "    <tr>\n",
       "      <th>4</th>\n",
       "      <td>0</td>\n",
       "      <td>3</td>\n",
       "      <td>male</td>\n",
       "      <td>35.0</td>\n",
       "      <td>0</td>\n",
       "      <td>0</td>\n",
       "      <td>8.0500</td>\n",
       "      <td>S</td>\n",
       "      <td>Third</td>\n",
       "      <td>man</td>\n",
       "      <td>True</td>\n",
       "      <td>NaN</td>\n",
       "      <td>Southampton</td>\n",
       "      <td>no</td>\n",
       "      <td>True</td>\n",
       "    </tr>\n",
       "  </tbody>\n",
       "</table>\n",
       "</div>"
      ],
      "text/plain": [
       "   survived  pclass     sex   age  sibsp  parch     fare embarked  class  \\\n",
       "0         0       3    male  22.0      1      0   7.2500        S  Third   \n",
       "1         1       1  female  38.0      1      0  71.2833        C  First   \n",
       "2         1       3  female  26.0      0      0   7.9250        S  Third   \n",
       "3         1       1  female  35.0      1      0  53.1000        S  First   \n",
       "4         0       3    male  35.0      0      0   8.0500        S  Third   \n",
       "\n",
       "     who  adult_male deck  embark_town alive  alone  \n",
       "0    man        True  NaN  Southampton    no  False  \n",
       "1  woman       False    C    Cherbourg   yes  False  \n",
       "2  woman       False  NaN  Southampton   yes   True  \n",
       "3  woman       False    C  Southampton   yes  False  \n",
       "4    man        True  NaN  Southampton    no   True  "
      ]
     },
     "execution_count": 41,
     "metadata": {},
     "output_type": "execute_result"
    }
   ],
   "source": [
    "df.head()"
   ]
  },
  {
   "cell_type": "code",
   "execution_count": 42,
   "metadata": {},
   "outputs": [],
   "source": [
    "df1 = df[['survived','pclass','age','fare']]"
   ]
  },
  {
   "cell_type": "code",
   "execution_count": 43,
   "metadata": {},
   "outputs": [],
   "source": [
    "df.to_csv('titanic.csv',index=False)"
   ]
  },
  {
   "cell_type": "code",
   "execution_count": 44,
   "metadata": {},
   "outputs": [
    {
     "name": "stdout",
     "output_type": "stream",
     "text": [
      "Shape of your Data Set loaded: (891, 15)\n",
      "#######################################################################################\n",
      "######################## C L A S S I F Y I N G  V A R I A B L E S  ####################\n",
      "#######################################################################################\n",
      "Classifying variables in data set...\n",
      "Data cleaning improvement suggestions. Complete them before proceeding to ML modeling.\n"
     ]
    },
    {
     "data": {
      "text/html": [
       "<style type=\"text/css\">\n",
       "#T_8ce20_row0_col0, #T_8ce20_row0_col4, #T_8ce20_row4_col2, #T_8ce20_row4_col3, #T_8ce20_row13_col5 {\n",
       "  background-color: #67000d;\n",
       "  color: #f1f1f1;\n",
       "  font-family: Segoe UI;\n",
       "}\n",
       "#T_8ce20_row0_col1, #T_8ce20_row0_col6, #T_8ce20_row1_col1, #T_8ce20_row1_col6, #T_8ce20_row2_col1, #T_8ce20_row2_col6, #T_8ce20_row3_col1, #T_8ce20_row3_col6, #T_8ce20_row4_col1, #T_8ce20_row4_col6, #T_8ce20_row5_col1, #T_8ce20_row5_col6, #T_8ce20_row6_col1, #T_8ce20_row6_col6, #T_8ce20_row7_col1, #T_8ce20_row7_col6, #T_8ce20_row8_col1, #T_8ce20_row8_col6, #T_8ce20_row9_col1, #T_8ce20_row9_col6, #T_8ce20_row10_col1, #T_8ce20_row10_col6, #T_8ce20_row11_col1, #T_8ce20_row11_col6, #T_8ce20_row12_col1, #T_8ce20_row12_col6, #T_8ce20_row13_col1, #T_8ce20_row13_col6, #T_8ce20_row14_col1, #T_8ce20_row14_col6 {\n",
       "  font-family: Segoe UI;\n",
       "}\n",
       "#T_8ce20_row0_col2, #T_8ce20_row0_col3, #T_8ce20_row0_col5, #T_8ce20_row1_col5, #T_8ce20_row2_col2, #T_8ce20_row2_col3, #T_8ce20_row2_col5, #T_8ce20_row3_col2, #T_8ce20_row3_col3, #T_8ce20_row3_col5, #T_8ce20_row5_col2, #T_8ce20_row5_col3, #T_8ce20_row5_col5, #T_8ce20_row6_col2, #T_8ce20_row6_col3, #T_8ce20_row7_col2, #T_8ce20_row7_col3, #T_8ce20_row8_col2, #T_8ce20_row8_col3, #T_8ce20_row9_col2, #T_8ce20_row9_col3, #T_8ce20_row10_col0, #T_8ce20_row10_col2, #T_8ce20_row10_col3, #T_8ce20_row10_col4, #T_8ce20_row10_col5, #T_8ce20_row11_col0, #T_8ce20_row11_col2, #T_8ce20_row11_col3, #T_8ce20_row11_col4, #T_8ce20_row12_col0, #T_8ce20_row12_col2, #T_8ce20_row12_col3, #T_8ce20_row12_col4, #T_8ce20_row12_col5, #T_8ce20_row13_col0, #T_8ce20_row13_col2, #T_8ce20_row13_col3, #T_8ce20_row13_col4, #T_8ce20_row14_col0, #T_8ce20_row14_col2, #T_8ce20_row14_col3, #T_8ce20_row14_col4, #T_8ce20_row14_col5 {\n",
       "  background-color: #fff5f0;\n",
       "  color: #000000;\n",
       "  font-family: Segoe UI;\n",
       "}\n",
       "#T_8ce20_row1_col0, #T_8ce20_row1_col4 {\n",
       "  background-color: #fc9b7c;\n",
       "  color: #000000;\n",
       "  font-family: Segoe UI;\n",
       "}\n",
       "#T_8ce20_row1_col2, #T_8ce20_row1_col3 {\n",
       "  background-color: #fcb99f;\n",
       "  color: #000000;\n",
       "  font-family: Segoe UI;\n",
       "}\n",
       "#T_8ce20_row2_col0, #T_8ce20_row2_col4, #T_8ce20_row3_col0, #T_8ce20_row3_col4, #T_8ce20_row4_col0, #T_8ce20_row4_col4 {\n",
       "  background-color: #fff2eb;\n",
       "  color: #000000;\n",
       "  font-family: Segoe UI;\n",
       "}\n",
       "#T_8ce20_row4_col5 {\n",
       "  background-color: #fff4ee;\n",
       "  color: #000000;\n",
       "  font-family: Segoe UI;\n",
       "}\n",
       "#T_8ce20_row5_col0, #T_8ce20_row5_col4, #T_8ce20_row6_col0, #T_8ce20_row6_col4, #T_8ce20_row7_col0, #T_8ce20_row7_col4, #T_8ce20_row8_col0, #T_8ce20_row8_col4, #T_8ce20_row9_col0, #T_8ce20_row9_col4 {\n",
       "  background-color: #fff4ef;\n",
       "  color: #000000;\n",
       "  font-family: Segoe UI;\n",
       "}\n",
       "#T_8ce20_row6_col5, #T_8ce20_row9_col5 {\n",
       "  background-color: #fcc3ab;\n",
       "  color: #000000;\n",
       "  font-family: Segoe UI;\n",
       "}\n",
       "#T_8ce20_row7_col5 {\n",
       "  background-color: #f75c41;\n",
       "  color: #f1f1f1;\n",
       "  font-family: Segoe UI;\n",
       "}\n",
       "#T_8ce20_row8_col5 {\n",
       "  background-color: #fcbda4;\n",
       "  color: #000000;\n",
       "  font-family: Segoe UI;\n",
       "}\n",
       "#T_8ce20_row11_col5 {\n",
       "  background-color: #8e0912;\n",
       "  color: #f1f1f1;\n",
       "  font-family: Segoe UI;\n",
       "}\n",
       "</style>\n",
       "<table id=\"T_8ce20\">\n",
       "  <thead>\n",
       "    <tr>\n",
       "      <th class=\"blank level0\" >&nbsp;</th>\n",
       "      <th id=\"T_8ce20_level0_col0\" class=\"col_heading level0 col0\" >Nuniques</th>\n",
       "      <th id=\"T_8ce20_level0_col1\" class=\"col_heading level0 col1\" >dtype</th>\n",
       "      <th id=\"T_8ce20_level0_col2\" class=\"col_heading level0 col2\" >Nulls</th>\n",
       "      <th id=\"T_8ce20_level0_col3\" class=\"col_heading level0 col3\" >Nullpercent</th>\n",
       "      <th id=\"T_8ce20_level0_col4\" class=\"col_heading level0 col4\" >NuniquePercent</th>\n",
       "      <th id=\"T_8ce20_level0_col5\" class=\"col_heading level0 col5\" >Value counts Min</th>\n",
       "      <th id=\"T_8ce20_level0_col6\" class=\"col_heading level0 col6\" >Data cleaning improvement suggestions</th>\n",
       "    </tr>\n",
       "  </thead>\n",
       "  <tbody>\n",
       "    <tr>\n",
       "      <th id=\"T_8ce20_level0_row0\" class=\"row_heading level0 row0\" >fare</th>\n",
       "      <td id=\"T_8ce20_row0_col0\" class=\"data row0 col0\" >248</td>\n",
       "      <td id=\"T_8ce20_row0_col1\" class=\"data row0 col1\" >float64</td>\n",
       "      <td id=\"T_8ce20_row0_col2\" class=\"data row0 col2\" >0</td>\n",
       "      <td id=\"T_8ce20_row0_col3\" class=\"data row0 col3\" >0.000000</td>\n",
       "      <td id=\"T_8ce20_row0_col4\" class=\"data row0 col4\" >27.833895</td>\n",
       "      <td id=\"T_8ce20_row0_col5\" class=\"data row0 col5\" >0</td>\n",
       "      <td id=\"T_8ce20_row0_col6\" class=\"data row0 col6\" >skewed: cap or drop outliers</td>\n",
       "    </tr>\n",
       "    <tr>\n",
       "      <th id=\"T_8ce20_level0_row1\" class=\"row_heading level0 row1\" >age</th>\n",
       "      <td id=\"T_8ce20_row1_col0\" class=\"data row1 col0\" >88</td>\n",
       "      <td id=\"T_8ce20_row1_col1\" class=\"data row1 col1\" >float64</td>\n",
       "      <td id=\"T_8ce20_row1_col2\" class=\"data row1 col2\" >177</td>\n",
       "      <td id=\"T_8ce20_row1_col3\" class=\"data row1 col3\" >19.865320</td>\n",
       "      <td id=\"T_8ce20_row1_col4\" class=\"data row1 col4\" >9.876543</td>\n",
       "      <td id=\"T_8ce20_row1_col5\" class=\"data row1 col5\" >0</td>\n",
       "      <td id=\"T_8ce20_row1_col6\" class=\"data row1 col6\" >fill missing</td>\n",
       "    </tr>\n",
       "    <tr>\n",
       "      <th id=\"T_8ce20_level0_row2\" class=\"row_heading level0 row2\" >sibsp</th>\n",
       "      <td id=\"T_8ce20_row2_col0\" class=\"data row2 col0\" >7</td>\n",
       "      <td id=\"T_8ce20_row2_col1\" class=\"data row2 col1\" >int64</td>\n",
       "      <td id=\"T_8ce20_row2_col2\" class=\"data row2 col2\" >0</td>\n",
       "      <td id=\"T_8ce20_row2_col3\" class=\"data row2 col3\" >0.000000</td>\n",
       "      <td id=\"T_8ce20_row2_col4\" class=\"data row2 col4\" >0.785634</td>\n",
       "      <td id=\"T_8ce20_row2_col5\" class=\"data row2 col5\" >0</td>\n",
       "      <td id=\"T_8ce20_row2_col6\" class=\"data row2 col6\" ></td>\n",
       "    </tr>\n",
       "    <tr>\n",
       "      <th id=\"T_8ce20_level0_row3\" class=\"row_heading level0 row3\" >parch</th>\n",
       "      <td id=\"T_8ce20_row3_col0\" class=\"data row3 col0\" >7</td>\n",
       "      <td id=\"T_8ce20_row3_col1\" class=\"data row3 col1\" >int64</td>\n",
       "      <td id=\"T_8ce20_row3_col2\" class=\"data row3 col2\" >0</td>\n",
       "      <td id=\"T_8ce20_row3_col3\" class=\"data row3 col3\" >0.000000</td>\n",
       "      <td id=\"T_8ce20_row3_col4\" class=\"data row3 col4\" >0.785634</td>\n",
       "      <td id=\"T_8ce20_row3_col5\" class=\"data row3 col5\" >0</td>\n",
       "      <td id=\"T_8ce20_row3_col6\" class=\"data row3 col6\" ></td>\n",
       "    </tr>\n",
       "    <tr>\n",
       "      <th id=\"T_8ce20_level0_row4\" class=\"row_heading level0 row4\" >deck</th>\n",
       "      <td id=\"T_8ce20_row4_col0\" class=\"data row4 col0\" >7</td>\n",
       "      <td id=\"T_8ce20_row4_col1\" class=\"data row4 col1\" >object</td>\n",
       "      <td id=\"T_8ce20_row4_col2\" class=\"data row4 col2\" >688</td>\n",
       "      <td id=\"T_8ce20_row4_col3\" class=\"data row4 col3\" >77.216611</td>\n",
       "      <td id=\"T_8ce20_row4_col4\" class=\"data row4 col4\" >0.785634</td>\n",
       "      <td id=\"T_8ce20_row4_col5\" class=\"data row4 col5\" >4</td>\n",
       "      <td id=\"T_8ce20_row4_col6\" class=\"data row4 col6\" >fill missing, fix mixed data types</td>\n",
       "    </tr>\n",
       "    <tr>\n",
       "      <th id=\"T_8ce20_level0_row5\" class=\"row_heading level0 row5\" >pclass</th>\n",
       "      <td id=\"T_8ce20_row5_col0\" class=\"data row5 col0\" >3</td>\n",
       "      <td id=\"T_8ce20_row5_col1\" class=\"data row5 col1\" >int64</td>\n",
       "      <td id=\"T_8ce20_row5_col2\" class=\"data row5 col2\" >0</td>\n",
       "      <td id=\"T_8ce20_row5_col3\" class=\"data row5 col3\" >0.000000</td>\n",
       "      <td id=\"T_8ce20_row5_col4\" class=\"data row5 col4\" >0.336700</td>\n",
       "      <td id=\"T_8ce20_row5_col5\" class=\"data row5 col5\" >0</td>\n",
       "      <td id=\"T_8ce20_row5_col6\" class=\"data row5 col6\" ></td>\n",
       "    </tr>\n",
       "    <tr>\n",
       "      <th id=\"T_8ce20_level0_row6\" class=\"row_heading level0 row6\" >embarked</th>\n",
       "      <td id=\"T_8ce20_row6_col0\" class=\"data row6 col0\" >3</td>\n",
       "      <td id=\"T_8ce20_row6_col1\" class=\"data row6 col1\" >object</td>\n",
       "      <td id=\"T_8ce20_row6_col2\" class=\"data row6 col2\" >2</td>\n",
       "      <td id=\"T_8ce20_row6_col3\" class=\"data row6 col3\" >0.224467</td>\n",
       "      <td id=\"T_8ce20_row6_col4\" class=\"data row6 col4\" >0.336700</td>\n",
       "      <td id=\"T_8ce20_row6_col5\" class=\"data row6 col5\" >77</td>\n",
       "      <td id=\"T_8ce20_row6_col6\" class=\"data row6 col6\" >fill missing, fix mixed data types</td>\n",
       "    </tr>\n",
       "    <tr>\n",
       "      <th id=\"T_8ce20_level0_row7\" class=\"row_heading level0 row7\" >class</th>\n",
       "      <td id=\"T_8ce20_row7_col0\" class=\"data row7 col0\" >3</td>\n",
       "      <td id=\"T_8ce20_row7_col1\" class=\"data row7 col1\" >object</td>\n",
       "      <td id=\"T_8ce20_row7_col2\" class=\"data row7 col2\" >0</td>\n",
       "      <td id=\"T_8ce20_row7_col3\" class=\"data row7 col3\" >0.000000</td>\n",
       "      <td id=\"T_8ce20_row7_col4\" class=\"data row7 col4\" >0.336700</td>\n",
       "      <td id=\"T_8ce20_row7_col5\" class=\"data row7 col5\" >184</td>\n",
       "      <td id=\"T_8ce20_row7_col6\" class=\"data row7 col6\" ></td>\n",
       "    </tr>\n",
       "    <tr>\n",
       "      <th id=\"T_8ce20_level0_row8\" class=\"row_heading level0 row8\" >who</th>\n",
       "      <td id=\"T_8ce20_row8_col0\" class=\"data row8 col0\" >3</td>\n",
       "      <td id=\"T_8ce20_row8_col1\" class=\"data row8 col1\" >object</td>\n",
       "      <td id=\"T_8ce20_row8_col2\" class=\"data row8 col2\" >0</td>\n",
       "      <td id=\"T_8ce20_row8_col3\" class=\"data row8 col3\" >0.000000</td>\n",
       "      <td id=\"T_8ce20_row8_col4\" class=\"data row8 col4\" >0.336700</td>\n",
       "      <td id=\"T_8ce20_row8_col5\" class=\"data row8 col5\" >83</td>\n",
       "      <td id=\"T_8ce20_row8_col6\" class=\"data row8 col6\" ></td>\n",
       "    </tr>\n",
       "    <tr>\n",
       "      <th id=\"T_8ce20_level0_row9\" class=\"row_heading level0 row9\" >embark_town</th>\n",
       "      <td id=\"T_8ce20_row9_col0\" class=\"data row9 col0\" >3</td>\n",
       "      <td id=\"T_8ce20_row9_col1\" class=\"data row9 col1\" >object</td>\n",
       "      <td id=\"T_8ce20_row9_col2\" class=\"data row9 col2\" >2</td>\n",
       "      <td id=\"T_8ce20_row9_col3\" class=\"data row9 col3\" >0.224467</td>\n",
       "      <td id=\"T_8ce20_row9_col4\" class=\"data row9 col4\" >0.336700</td>\n",
       "      <td id=\"T_8ce20_row9_col5\" class=\"data row9 col5\" >77</td>\n",
       "      <td id=\"T_8ce20_row9_col6\" class=\"data row9 col6\" >fill missing, fix mixed data types</td>\n",
       "    </tr>\n",
       "    <tr>\n",
       "      <th id=\"T_8ce20_level0_row10\" class=\"row_heading level0 row10\" >survived</th>\n",
       "      <td id=\"T_8ce20_row10_col0\" class=\"data row10 col0\" >2</td>\n",
       "      <td id=\"T_8ce20_row10_col1\" class=\"data row10 col1\" >int64</td>\n",
       "      <td id=\"T_8ce20_row10_col2\" class=\"data row10 col2\" >0</td>\n",
       "      <td id=\"T_8ce20_row10_col3\" class=\"data row10 col3\" >0.000000</td>\n",
       "      <td id=\"T_8ce20_row10_col4\" class=\"data row10 col4\" >0.224467</td>\n",
       "      <td id=\"T_8ce20_row10_col5\" class=\"data row10 col5\" >0</td>\n",
       "      <td id=\"T_8ce20_row10_col6\" class=\"data row10 col6\" ></td>\n",
       "    </tr>\n",
       "    <tr>\n",
       "      <th id=\"T_8ce20_level0_row11\" class=\"row_heading level0 row11\" >sex</th>\n",
       "      <td id=\"T_8ce20_row11_col0\" class=\"data row11 col0\" >2</td>\n",
       "      <td id=\"T_8ce20_row11_col1\" class=\"data row11 col1\" >object</td>\n",
       "      <td id=\"T_8ce20_row11_col2\" class=\"data row11 col2\" >0</td>\n",
       "      <td id=\"T_8ce20_row11_col3\" class=\"data row11 col3\" >0.000000</td>\n",
       "      <td id=\"T_8ce20_row11_col4\" class=\"data row11 col4\" >0.224467</td>\n",
       "      <td id=\"T_8ce20_row11_col5\" class=\"data row11 col5\" >314</td>\n",
       "      <td id=\"T_8ce20_row11_col6\" class=\"data row11 col6\" ></td>\n",
       "    </tr>\n",
       "    <tr>\n",
       "      <th id=\"T_8ce20_level0_row12\" class=\"row_heading level0 row12\" >adult_male</th>\n",
       "      <td id=\"T_8ce20_row12_col0\" class=\"data row12 col0\" >2</td>\n",
       "      <td id=\"T_8ce20_row12_col1\" class=\"data row12 col1\" >bool</td>\n",
       "      <td id=\"T_8ce20_row12_col2\" class=\"data row12 col2\" >0</td>\n",
       "      <td id=\"T_8ce20_row12_col3\" class=\"data row12 col3\" >0.000000</td>\n",
       "      <td id=\"T_8ce20_row12_col4\" class=\"data row12 col4\" >0.224467</td>\n",
       "      <td id=\"T_8ce20_row12_col5\" class=\"data row12 col5\" >0</td>\n",
       "      <td id=\"T_8ce20_row12_col6\" class=\"data row12 col6\" ></td>\n",
       "    </tr>\n",
       "    <tr>\n",
       "      <th id=\"T_8ce20_level0_row13\" class=\"row_heading level0 row13\" >alive</th>\n",
       "      <td id=\"T_8ce20_row13_col0\" class=\"data row13 col0\" >2</td>\n",
       "      <td id=\"T_8ce20_row13_col1\" class=\"data row13 col1\" >object</td>\n",
       "      <td id=\"T_8ce20_row13_col2\" class=\"data row13 col2\" >0</td>\n",
       "      <td id=\"T_8ce20_row13_col3\" class=\"data row13 col3\" >0.000000</td>\n",
       "      <td id=\"T_8ce20_row13_col4\" class=\"data row13 col4\" >0.224467</td>\n",
       "      <td id=\"T_8ce20_row13_col5\" class=\"data row13 col5\" >342</td>\n",
       "      <td id=\"T_8ce20_row13_col6\" class=\"data row13 col6\" ></td>\n",
       "    </tr>\n",
       "    <tr>\n",
       "      <th id=\"T_8ce20_level0_row14\" class=\"row_heading level0 row14\" >alone</th>\n",
       "      <td id=\"T_8ce20_row14_col0\" class=\"data row14 col0\" >2</td>\n",
       "      <td id=\"T_8ce20_row14_col1\" class=\"data row14 col1\" >bool</td>\n",
       "      <td id=\"T_8ce20_row14_col2\" class=\"data row14 col2\" >0</td>\n",
       "      <td id=\"T_8ce20_row14_col3\" class=\"data row14 col3\" >0.000000</td>\n",
       "      <td id=\"T_8ce20_row14_col4\" class=\"data row14 col4\" >0.224467</td>\n",
       "      <td id=\"T_8ce20_row14_col5\" class=\"data row14 col5\" >0</td>\n",
       "      <td id=\"T_8ce20_row14_col6\" class=\"data row14 col6\" ></td>\n",
       "    </tr>\n",
       "  </tbody>\n",
       "</table>\n"
      ],
      "text/plain": [
       "<pandas.io.formats.style.Styler at 0x16968ed60>"
      ]
     },
     "metadata": {},
     "output_type": "display_data"
    },
    {
     "name": "stdout",
     "output_type": "stream",
     "text": [
      "    15 Predictors classified...\n",
      "        No variables removed since no ID or low-information variables found in data set\n",
      "No scatter plots with depVar when no depVar is given.\n"
     ]
    },
    {
     "data": {},
     "metadata": {},
     "output_type": "display_data"
    },
    {
     "data": {},
     "metadata": {},
     "output_type": "display_data"
    },
    {
     "data": {
      "application/vnd.holoviews_exec.v0+json": "",
      "text/html": [
       "<div id='2019'>\n",
       "  <div class=\"bk-root\" id=\"d735ad53-4778-4167-b293-f4b6bf28a50d\" data-root-id=\"2019\"></div>\n",
       "</div>\n",
       "<script type=\"application/javascript\">(function(root) {\n",
       "  function embed_document(root) {\n",
       "    var docs_json = {\"f4524854-53d4-4815-a6f6-12d483677fa9\":{\"defs\":[{\"extends\":null,\"module\":null,\"name\":\"ReactiveHTML1\",\"overrides\":[],\"properties\":[]},{\"extends\":null,\"module\":null,\"name\":\"FlexBox1\",\"overrides\":[],\"properties\":[{\"default\":\"flex-start\",\"kind\":null,\"name\":\"align_content\"},{\"default\":\"flex-start\",\"kind\":null,\"name\":\"align_items\"},{\"default\":\"row\",\"kind\":null,\"name\":\"flex_direction\"},{\"default\":\"wrap\",\"kind\":null,\"name\":\"flex_wrap\"},{\"default\":\"flex-start\",\"kind\":null,\"name\":\"justify_content\"}]},{\"extends\":null,\"module\":null,\"name\":\"TemplateActions1\",\"overrides\":[],\"properties\":[{\"default\":0,\"kind\":null,\"name\":\"open_modal\"},{\"default\":0,\"kind\":null,\"name\":\"close_modal\"}]},{\"extends\":null,\"module\":null,\"name\":\"MaterialTemplateActions1\",\"overrides\":[],\"properties\":[{\"default\":0,\"kind\":null,\"name\":\"open_modal\"},{\"default\":0,\"kind\":null,\"name\":\"close_modal\"}]}],\"roots\":{\"references\":[{\"attributes\":{\"callback\":null,\"renderers\":[{\"id\":\"2064\"}],\"tags\":[\"hv_created\"],\"tooltips\":[[\"age\",\"@{age}\"],[\"fare\",\"@{fare}\"],[\"survived\",\"@{survived}\"],[\"pclass\",\"@{pclass}\"],[\"sex\",\"@{sex}\"],[\"sibsp\",\"@{sibsp}\"],[\"parch\",\"@{parch}\"],[\"embarked\",\"@{embarked}\"],[\"class\",\"@{class}\"],[\"who\",\"@{who}\"],[\"adult_male\",\"@{adult_male}\"],[\"deck\",\"@{deck}\"],[\"embark_town\",\"@{embark_town}\"],[\"alive\",\"@{alive}\"],[\"alone\",\"@{alone}\"]]},\"id\":\"2027\",\"type\":\"HoverTool\"},{\"attributes\":{},\"id\":\"2033\",\"type\":\"LinearScale\"},{\"attributes\":{\"client_comm_id\":\"3b280fbd3eba4014bf4bec1344a0da41\",\"comm_id\":\"0625f57b16fc4151821129597e72bfa6\",\"plot_id\":\"2019\"},\"id\":\"2123\",\"type\":\"panel.models.comm_manager.CommManager\"},{\"attributes\":{\"axis\":{\"id\":\"2037\"},\"coordinates\":null,\"grid_line_color\":null,\"group\":null,\"ticker\":null},\"id\":\"2040\",\"type\":\"Grid\"},{\"attributes\":{\"children\":[{\"id\":\"2021\"},{\"id\":\"2022\"},{\"id\":\"2023\"}],\"css_classes\":[\"panel-widget-box\"],\"margin\":[5,5,5,5],\"name\":\"WidgetBox04360\"},\"id\":\"2020\",\"type\":\"Column\"},{\"attributes\":{\"fill_alpha\":{\"value\":0.2},\"fill_color\":{\"value\":\"#30a2da\"},\"hatch_alpha\":{\"value\":0.2},\"hatch_color\":{\"value\":\"#30a2da\"},\"line_alpha\":{\"value\":0.2},\"size\":{\"value\":10},\"x\":{\"field\":\"age\"},\"y\":{\"field\":\"fare\"}},\"id\":\"2063\",\"type\":\"Scatter\"},{\"attributes\":{\"coordinates\":null,\"group\":null,\"text\":\"Age vs Fare\",\"text_color\":\"black\",\"text_font_size\":\"12pt\"},\"id\":\"2029\",\"type\":\"Title\"},{\"attributes\":{},\"id\":\"2072\",\"type\":\"AllLabels\"},{\"attributes\":{\"below\":[{\"id\":\"2037\"}],\"center\":[{\"id\":\"2040\"},{\"id\":\"2044\"}],\"height\":400,\"left\":[{\"id\":\"2041\"}],\"margin\":[5,5,5,5],\"min_border_bottom\":10,\"min_border_left\":10,\"min_border_right\":10,\"min_border_top\":10,\"renderers\":[{\"id\":\"2064\"}],\"sizing_mode\":\"fixed\",\"title\":{\"id\":\"2029\"},\"toolbar\":{\"id\":\"2051\"},\"toolbar_location\":\"above\",\"x_range\":{\"id\":\"2025\"},\"x_scale\":{\"id\":\"2033\"},\"y_range\":{\"id\":\"2026\"},\"y_scale\":{\"id\":\"2035\"}},\"id\":\"2028\",\"subtype\":\"Figure\",\"type\":\"Plot\"},{\"attributes\":{\"margin\":[5,10,5,10],\"options\":[\"age\",\"fare\"],\"title\":\"X-Axis\",\"value\":\"age\"},\"id\":\"2021\",\"type\":\"Select\"},{\"attributes\":{},\"id\":\"2038\",\"type\":\"BasicTicker\"},{\"attributes\":{\"axis_label\":\"age\",\"coordinates\":null,\"formatter\":{\"id\":\"2068\"},\"group\":null,\"major_label_policy\":{\"id\":\"2069\"},\"ticker\":{\"id\":\"2038\"}},\"id\":\"2037\",\"type\":\"LinearAxis\"},{\"attributes\":{\"source\":{\"id\":\"2058\"}},\"id\":\"2065\",\"type\":\"CDSView\"},{\"attributes\":{\"children\":[{\"id\":\"2020\"},{\"id\":\"2024\"}],\"margin\":[0,0,0,0],\"name\":\"Row04414\"},\"id\":\"2019\",\"type\":\"Row\"},{\"attributes\":{\"axis\":{\"id\":\"2041\"},\"coordinates\":null,\"dimension\":1,\"grid_line_color\":null,\"group\":null,\"ticker\":null},\"id\":\"2044\",\"type\":\"Grid\"},{\"attributes\":{},\"id\":\"2035\",\"type\":\"LinearScale\"},{\"attributes\":{},\"id\":\"2080\",\"type\":\"UnionRenderers\"},{\"attributes\":{\"axis_label\":\"fare\",\"coordinates\":null,\"formatter\":{\"id\":\"2071\"},\"group\":null,\"major_label_policy\":{\"id\":\"2072\"},\"ticker\":{\"id\":\"2042\"}},\"id\":\"2041\",\"type\":\"LinearAxis\"},{\"attributes\":{\"coordinates\":null,\"data_source\":{\"id\":\"2058\"},\"glyph\":{\"id\":\"2061\"},\"group\":null,\"hover_glyph\":null,\"muted_glyph\":{\"id\":\"2063\"},\"nonselection_glyph\":{\"id\":\"2062\"},\"selection_glyph\":{\"id\":\"2066\"},\"view\":{\"id\":\"2065\"}},\"id\":\"2064\",\"type\":\"GlyphRenderer\"},{\"attributes\":{},\"id\":\"2071\",\"type\":\"BasicTickFormatter\"},{\"attributes\":{},\"id\":\"2042\",\"type\":\"BasicTicker\"},{\"attributes\":{\"data\":{\"adult_male\":[true,false,false,false,true,true,true,false,false,false,false,false,true,true,false,false,false,true,false,false,true,true,false,true,false,false,true,true,false,true,true,false,false,true,true,true,true,true,false,false,false,false,true,false,false,true,true,false,true,false,false,true,false,false,true,true,false,true,false,false,true,false,true,false,true,true,false,true,false,true,true,false,true,true,true,true,true,true,false,false,true,true,false,true,false,false,true,true,false,true,true,true,true,true,true,true,true,true,false,true,false,true,true,true,true,true,false,true,true,false,true,false,true,false,false,true,true,true,true,false,true,true,true,false,true,false,true,true,false,true,true,true,false,false,true,true,false,true,true,true,false,false,false,true,true,true,true,false,true,true,true,false,true,true,true,true,false,true,true,true,true,false,true,true,false,false,false,false,true,true,true,false,false,true,true,true,true,false,true,true,false,true,false,false,false,true,false,true,true,true,false,true,false,false,false,false,true,true,false,false,true,true,true,true,true,false,true,true,false,true,true,false,true,true,true,false,false,true,false,true,true,true,true,true,true,true,true,true,true,false,false,true,true,false,true,false,true,false,true,true,false,false,true,true,true,true,false,false,true,true,true,false,true,true,false,false,false,false,false,false,true,false,true,true,false,true,true,true,false,false,true,true,false,true,false,false,false,true,false,false,true,true,true,true,true,true,true,true,true,false,false,false,true,false,true,true,true,false,true,false,false,true,true,false,true,false,false,false,true,false,false,false,false,true,true,false,false,true,false,false,true,true,false,false,true,false,true,false,false,false,false,true,true,true,false,true,true,false,true,true,false,false,true,true,true,false,false,false,false,true,true,true,false,true,true,true,false,false,false,false,true,true,false,true,true,true,false,false,false,false,true,true,true,true,false,false,false,true,true,true,false,false,true,false,true,true,false,false,true,false,true,true,true,false,false,true,false,true,true,false,true,true,false,true,false,true,true,false,true,false,true,true,false,true,true,false,false,false,true,false,true,true,true,false,true,true,false,false,true,true,true,false,false,true,true,false,false,false,true,true,false,true,true,false,true,false,false,true,false,true,true,true,true,true,true,true,true,false,false,true,true,true,true,true,true,true,true,true,true,false,true,true,false,false,false,true,true,true,true,false,false,true,true,false,true,false,false,true,true,false,true,true,true,true,true,true,false,true,false,true,true,false,false,false,false,true,false,true,true,true,true,true,true,false,true,true,false,true,false,true,false,true,true,false,true,true,false,true,true,true,false,true,true,false,false,false,true,false,true,false,false,false,false,true,true,true,false,true,true,false,true,true,true,true,false,true,false,true,false,false,true,true,true,true,false,true,true,false,true,true,true,false,true,false,true,true,false,false,false,true,false,false,true,true,true,false,true,true,true,true,true,false,true,false,true,true,false,true,true,true,false,true,true,true,true,true,true,true,false,false,false,true,false,true,true,false,true,false,false,true,true,true,true,true,true,true,true,false,true,true,true,true,true,true,false,false,true,true,false,true,true,false,false,true,false,true,true,true,true,false,true,false,true,false,false,true,true,false,true,true,true,true,true,true,true,true,true,true,true,false,false,true,true,true,true,true,true,false,false,true,false,true,true,false,true,true,false,true,true,false,true,false,true,true,true,true,true,false,true,true,false,true,false,true,true,true,false,true,false,true,false,true,true,true,true,true,false,false,true,true,false,true,true,true,true,true,false,false,true,false,false,false,true,true,true,true,false,true,true,true,true,true,false,true,true,true,true,false,true,true,false,false,true,true,false,false,true,true,true,false,true,true,true,false,true,false,true,false,true,true,true,true,false,true,false,true,true,false,true,false,false,false,true,true,true,true,false,false,false,true,true,true,false,true,true,true,false,false,true,false,true,false,false,false,true,true,true,false,true,false,true,true,true,false,true,true,false,true,true,false,false,true,true,false,false,true,true,false,true,false,false,false,true,true,true,false,true,true,true,true,true,true,false,true,true,true,true,true,true,false,false,true,false,false,false,false,false,true,false,true,true,true,false,false,true,false,false,true,true,false,true,false,true,true,false,false,true,true,true,false,false,true,false,true,true,false,true,false,false,true,true],\"age\":{\"__ndarray__\":\"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\",\"dtype\":\"float64\",\"order\":\"little\",\"shape\":[891]},\"alive\":[\"no\",\"yes\",\"yes\",\"yes\",\"no\",\"no\",\"no\",\"no\",\"yes\",\"yes\",\"yes\",\"yes\",\"no\",\"no\",\"no\",\"yes\",\"no\",\"yes\",\"no\",\"yes\",\"no\",\"yes\",\"yes\",\"yes\",\"no\",\"yes\",\"no\",\"no\",\"yes\",\"no\",\"no\",\"yes\",\"yes\",\"no\",\"no\",\"no\",\"yes\",\"no\",\"no\",\"yes\",\"no\",\"no\",\"no\",\"yes\",\"yes\",\"no\",\"no\",\"yes\",\"no\",\"no\",\"no\",\"no\",\"yes\",\"yes\",\"no\",\"yes\",\"yes\",\"no\",\"yes\",\"no\",\"no\",\"yes\",\"no\",\"no\",\"no\",\"yes\",\"yes\",\"no\",\"yes\",\"no\",\"no\",\"no\",\"no\",\"no\",\"yes\",\"no\",\"no\",\"no\",\"yes\",\"yes\",\"no\",\"yes\",\"yes\",\"no\",\"yes\",\"yes\",\"no\",\"no\",\"yes\",\"no\",\"no\",\"no\",\"no\",\"no\",\"no\",\"no\",\"no\",\"yes\",\"yes\",\"no\",\"no\",\"no\",\"no\",\"no\",\"no\",\"no\",\"yes\",\"yes\",\"no\",\"yes\",\"no\",\"no\",\"no\",\"no\",\"no\",\"no\",\"no\",\"no\",\"no\",\"no\",\"no\",\"no\",\"no\",\"yes\",\"no\",\"yes\",\"no\",\"yes\",\"yes\",\"no\",\"no\",\"no\",\"no\",\"yes\",\"no\",\"no\",\"yes\",\"no\",\"no\",\"no\",\"no\",\"yes\",\"yes\",\"no\",\"no\",\"no\",\"yes\",\"no\",\"no\",\"no\",\"no\",\"yes\",\"no\",\"no\",\"no\",\"no\",\"yes\",\"no\",\"no\",\"no\",\"no\",\"yes\",\"no\",\"no\",\"no\",\"yes\",\"yes\",\"no\",\"no\",\"no\",\"no\",\"no\",\"yes\",\"no\",\"no\",\"no\",\"no\",\"no\",\"no\",\"no\",\"no\",\"no\",\"no\",\"yes\",\"yes\",\"no\",\"yes\",\"yes\",\"no\",\"no\",\"yes\",\"no\",\"yes\",\"yes\",\"yes\",\"yes\",\"no\",\"no\",\"yes\",\"no\",\"no\",\"no\",\"no\",\"no\",\"yes\",\"no\",\"no\",\"yes\",\"yes\",\"yes\",\"no\",\"yes\",\"no\",\"no\",\"no\",\"yes\",\"yes\",\"no\",\"yes\",\"no\",\"yes\",\"no\",\"no\",\"no\",\"yes\",\"no\",\"yes\",\"no\",\"no\",\"no\",\"yes\",\"no\",\"no\",\"yes\",\"no\",\"no\",\"no\",\"yes\",\"no\",\"no\",\"no\",\"yes\",\"no\",\"no\",\"no\",\"no\",\"no\",\"yes\",\"yes\",\"no\",\"no\",\"no\",\"no\",\"no\",\"no\",\"yes\",\"yes\",\"yes\",\"yes\",\"yes\",\"no\",\"yes\",\"no\",\"no\",\"no\",\"no\",\"no\",\"yes\",\"yes\",\"yes\",\"no\",\"yes\",\"yes\",\"no\",\"yes\",\"yes\",\"no\",\"no\",\"no\",\"yes\",\"no\",\"no\",\"no\",\"yes\",\"no\",\"no\",\"yes\",\"no\",\"yes\",\"yes\",\"yes\",\"yes\",\"no\",\"no\",\"no\",\"no\",\"no\",\"no\",\"yes\",\"yes\",\"yes\",\"yes\",\"no\",\"yes\",\"no\",\"yes\",\"yes\",\"yes\",\"no\",\"yes\",\"yes\",\"yes\",\"no\",\"no\",\"no\",\"yes\",\"yes\",\"no\",\"yes\",\"yes\",\"no\",\"no\",\"yes\",\"yes\",\"no\",\"yes\",\"no\",\"yes\",\"yes\",\"yes\",\"yes\",\"no\",\"no\",\"no\",\"yes\",\"no\",\"no\",\"yes\",\"yes\",\"no\",\"yes\",\"yes\",\"no\",\"no\",\"no\",\"yes\",\"yes\",\"yes\",\"yes\",\"no\",\"no\",\"no\",\"no\",\"no\",\"no\",\"no\",\"yes\",\"no\",\"yes\",\"yes\",\"no\",\"no\",\"no\",\"no\",\"no\",\"no\",\"yes\",\"yes\",\"yes\",\"yes\",\"yes\",\"no\",\"no\",\"no\",\"no\",\"yes\",\"yes\",\"no\",\"no\",\"no\",\"yes\",\"yes\",\"no\",\"yes\",\"no\",\"no\",\"no\",\"yes\",\"no\",\"yes\",\"yes\",\"yes\",\"no\",\"yes\",\"yes\",\"no\",\"no\",\"no\",\"no\",\"yes\",\"yes\",\"no\",\"no\",\"no\",\"no\",\"no\",\"no\",\"yes\",\"no\",\"no\",\"no\",\"no\",\"yes\",\"no\",\"yes\",\"no\",\"yes\",\"yes\",\"no\",\"no\",\"no\",\"no\",\"no\",\"no\",\"no\",\"no\",\"yes\",\"yes\",\"no\",\"yes\",\"yes\",\"yes\",\"yes\",\"no\",\"no\",\"yes\",\"no\",\"yes\",\"no\",\"no\",\"yes\",\"no\",\"no\",\"yes\",\"yes\",\"yes\",\"yes\",\"yes\",\"yes\",\"yes\",\"no\",\"no\",\"no\",\"yes\",\"no\",\"yes\",\"no\",\"yes\",\"yes\",\"no\",\"yes\",\"no\",\"no\",\"no\",\"no\",\"no\",\"no\",\"no\",\"no\",\"yes\",\"no\",\"no\",\"yes\",\"yes\",\"no\",\"no\",\"no\",\"no\",\"no\",\"yes\",\"no\",\"no\",\"no\",\"yes\",\"yes\",\"no\",\"yes\",\"no\",\"no\",\"yes\",\"no\",\"no\",\"no\",\"no\",\"no\",\"no\",\"yes\",\"no\",\"no\",\"no\",\"no\",\"no\",\"no\",\"no\",\"yes\",\"no\",\"yes\",\"yes\",\"no\",\"yes\",\"yes\",\"no\",\"yes\",\"yes\",\"no\",\"no\",\"yes\",\"no\",\"yes\",\"no\",\"yes\",\"no\",\"no\",\"yes\",\"no\",\"no\",\"yes\",\"no\",\"no\",\"no\",\"yes\",\"no\",\"no\",\"yes\",\"no\",\"yes\",\"no\",\"yes\",\"no\",\"yes\",\"yes\",\"no\",\"no\",\"yes\",\"no\",\"no\",\"yes\",\"yes\",\"no\",\"yes\",\"yes\",\"no\",\"no\",\"yes\",\"yes\",\"no\",\"yes\",\"no\",\"yes\",\"yes\",\"no\",\"no\",\"no\",\"no\",\"no\",\"no\",\"no\",\"no\",\"no\",\"yes\",\"yes\",\"yes\",\"yes\",\"yes\",\"no\",\"no\",\"yes\",\"yes\",\"no\",\"yes\",\"yes\",\"yes\",\"no\",\"no\",\"no\",\"yes\",\"no\",\"yes\",\"no\",\"no\",\"no\",\"yes\",\"no\",\"no\",\"no\",\"no\",\"yes\",\"no\",\"no\",\"yes\",\"yes\",\"no\",\"no\",\"no\",\"yes\",\"no\",\"no\",\"yes\",\"yes\",\"yes\",\"no\",\"no\",\"yes\",\"no\",\"no\",\"yes\",\"no\",\"no\",\"yes\",\"no\",\"no\",\"yes\",\"yes\",\"no\",\"no\",\"no\",\"no\",\"yes\",\"no\",\"no\",\"yes\",\"no\",\"yes\",\"no\",\"no\",\"yes\",\"no\",\"no\",\"no\",\"no\",\"no\",\"yes\",\"no\",\"yes\",\"yes\",\"yes\",\"no\",\"yes\",\"no\",\"yes\",\"no\",\"yes\",\"no\",\"yes\",\"no\",\"no\",\"no\",\"no\",\"no\",\"no\",\"yes\",\"no\",\"no\",\"no\",\"yes\",\"no\",\"no\",\"no\",\"no\",\"yes\",\"yes\",\"no\",\"no\",\"yes\",\"no\",\"no\",\"no\",\"yes\",\"no\",\"yes\",\"no\",\"yes\",\"no\",\"no\",\"no\",\"no\",\"no\",\"no\",\"no\",\"yes\",\"yes\",\"yes\",\"yes\",\"no\",\"no\",\"no\",\"no\",\"yes\",\"no\",\"no\",\"yes\",\"yes\",\"no\",\"no\",\"no\",\"no\",\"yes\",\"yes\",\"yes\",\"yes\",\"yes\",\"no\",\"yes\",\"no\",\"no\",\"no\",\"yes\",\"yes\",\"no\",\"no\",\"yes\",\"no\",\"no\",\"no\",\"yes\",\"no\",\"yes\",\"yes\",\"no\",\"no\",\"yes\",\"no\",\"no\",\"no\",\"no\",\"no\",\"no\",\"yes\",\"no\",\"no\",\"yes\",\"no\",\"yes\",\"no\",\"yes\",\"no\",\"no\",\"yes\",\"no\",\"no\",\"yes\",\"yes\",\"no\",\"no\",\"yes\",\"yes\",\"no\",\"no\",\"no\",\"yes\",\"no\",\"no\",\"yes\",\"yes\",\"no\",\"yes\",\"no\",\"no\",\"no\",\"no\",\"no\",\"no\",\"no\",\"no\",\"yes\",\"no\",\"no\",\"yes\",\"no\",\"yes\",\"yes\",\"yes\",\"no\",\"no\",\"no\",\"no\",\"yes\",\"no\",\"yes\",\"no\",\"no\",\"no\",\"no\",\"no\",\"no\",\"no\",\"yes\",\"yes\",\"no\",\"no\",\"no\",\"yes\",\"yes\",\"yes\",\"yes\",\"no\",\"no\",\"no\",\"no\",\"yes\",\"no\",\"no\",\"no\",\"no\",\"no\",\"no\",\"no\",\"no\",\"no\",\"no\",\"yes\",\"yes\",\"no\",\"yes\",\"no\",\"no\",\"no\",\"yes\",\"yes\",\"yes\",\"yes\",\"yes\",\"no\",\"no\",\"no\",\"yes\",\"no\",\"no\",\"yes\",\"yes\",\"no\",\"no\",\"yes\",\"no\",\"no\",\"no\",\"no\",\"no\",\"no\",\"yes\",\"no\",\"no\",\"no\",\"yes\",\"no\",\"yes\",\"yes\",\"yes\",\"yes\",\"no\",\"no\",\"no\",\"yes\",\"no\",\"no\",\"yes\",\"yes\",\"no\",\"no\",\"yes\",\"no\",\"yes\",\"no\",\"no\",\"yes\",\"yes\",\"no\",\"no\",\"no\",\"yes\",\"yes\",\"no\",\"no\",\"no\",\"no\",\"no\",\"no\",\"yes\",\"no\",\"yes\",\"no\"],\"alone\":[false,false,true,false,true,true,true,false,false,false,false,true,true,false,true,true,false,true,false,true,true,true,true,true,false,false,true,false,true,true,true,false,true,true,false,false,true,true,false,false,false,false,true,false,true,true,false,true,false,false,false,true,false,false,false,true,true,true,false,false,true,true,false,false,true,false,true,true,false,false,true,false,true,false,true,true,true,true,false,true,true,true,true,true,true,false,false,true,false,true,true,true,false,false,true,true,true,false,false,false,true,true,false,true,false,true,true,true,true,false,true,false,true,false,true,true,true,false,false,false,false,true,false,true,false,false,true,true,false,true,true,true,false,false,true,true,false,false,true,true,false,true,false,true,true,false,true,false,false,true,true,false,true,false,true,false,true,true,true,false,false,true,true,true,false,false,false,false,true,true,true,false,false,true,true,false,false,true,true,true,false,true,false,false,false,true,false,true,false,true,true,true,false,false,true,true,true,false,true,true,true,false,true,true,true,false,false,true,true,true,true,true,true,true,false,false,true,false,true,true,true,true,true,true,false,true,true,true,true,false,false,true,true,false,true,true,false,false,true,true,false,false,true,true,true,false,true,false,false,false,true,false,true,false,false,false,true,true,true,false,true,false,false,true,true,true,false,false,false,true,true,true,false,false,true,false,true,true,false,false,true,true,true,true,true,true,true,true,true,true,true,false,true,true,true,true,true,false,true,false,true,false,true,true,true,false,true,false,false,true,true,false,false,true,false,true,false,true,false,false,true,true,true,false,false,true,true,true,false,false,false,true,false,false,false,true,false,true,true,true,false,false,true,true,true,true,true,false,false,true,true,true,false,false,true,true,false,true,true,true,false,false,false,true,false,true,false,true,true,true,false,false,true,true,false,false,true,false,true,true,true,false,true,false,true,true,false,true,true,true,false,true,false,false,false,true,true,true,true,true,true,true,false,false,true,false,true,false,true,false,true,true,false,true,true,true,false,false,true,false,true,true,true,false,false,true,false,true,true,true,true,false,false,true,false,false,false,false,false,true,false,true,false,true,true,false,false,true,false,true,false,false,true,false,true,true,true,false,true,true,true,true,true,true,true,true,true,true,true,false,true,true,false,true,true,true,false,false,true,false,false,true,true,true,false,false,false,true,true,false,false,true,true,true,true,true,false,true,false,true,true,true,true,true,true,false,false,true,true,true,true,true,true,false,true,true,true,true,false,true,true,true,true,false,true,true,true,true,true,false,false,true,false,false,true,false,true,true,true,false,false,false,false,false,false,true,false,true,false,false,false,true,true,true,true,true,false,true,false,false,true,true,true,true,true,false,true,false,true,true,true,false,true,true,true,true,true,false,false,true,false,false,true,true,true,false,true,false,true,true,true,false,true,false,false,false,true,true,true,false,false,true,true,true,true,false,true,true,false,true,false,true,false,true,true,false,false,false,false,true,false,false,false,true,true,true,true,true,true,true,true,true,true,true,false,true,true,false,false,false,true,true,false,true,false,false,true,true,true,true,true,false,true,true,true,false,true,false,true,false,false,true,true,true,false,false,true,true,true,false,false,false,true,true,true,true,true,true,false,false,true,true,true,false,false,false,false,true,true,false,false,false,true,true,true,true,true,true,false,true,false,true,false,true,false,true,true,true,true,false,true,true,false,true,true,true,true,true,true,true,false,false,true,true,false,true,false,true,false,false,true,true,true,true,true,true,false,true,true,true,true,false,false,false,true,false,false,true,false,true,false,false,true,true,false,false,true,true,true,true,true,true,true,false,true,false,true,true,false,true,true,true,true,true,false,true,true,true,true,false,true,false,true,false,true,true,true,false,false,true,true,true,false,true,true,true,true,true,true,false,true,false,false,false,true,true,true,true,true,false,true,true,true,false,true,true,true,false,true,false,false,true,true,false,false,true,true,false,true,true,false,false,true,true,true,false,true,true,true,true,true,true,true,true,true,true,false,true,false,false,false,true,false,false,false,false,false,true,false,true,false,false,true,false,true,true,false,true,true,false,true,false,true,true,false,true,true,true,true,false,false,true,true,true,true,false,true,true,false,true,true],\"class\":[\"Third\",\"First\",\"Third\",\"First\",\"Third\",\"Third\",\"First\",\"Third\",\"Third\",\"Second\",\"Third\",\"First\",\"Third\",\"Third\",\"Third\",\"Second\",\"Third\",\"Second\",\"Third\",\"Third\",\"Second\",\"Second\",\"Third\",\"First\",\"Third\",\"Third\",\"Third\",\"First\",\"Third\",\"Third\",\"First\",\"First\",\"Third\",\"Second\",\"First\",\"First\",\"Third\",\"Third\",\"Third\",\"Third\",\"Third\",\"Second\",\"Third\",\"Second\",\"Third\",\"Third\",\"Third\",\"Third\",\"Third\",\"Third\",\"Third\",\"Third\",\"First\",\"Second\",\"First\",\"First\",\"Second\",\"Third\",\"Second\",\"Third\",\"Third\",\"First\",\"First\",\"Third\",\"First\",\"Third\",\"Second\",\"Third\",\"Third\",\"Third\",\"Second\",\"Third\",\"Second\",\"Third\",\"Third\",\"Third\",\"Third\",\"Third\",\"Second\",\"Third\",\"Third\",\"Third\",\"Third\",\"First\",\"Second\",\"Third\",\"Third\",\"Third\",\"First\",\"Third\",\"Third\",\"Third\",\"First\",\"Third\",\"Third\",\"Third\",\"First\",\"First\",\"Second\",\"Second\",\"Third\",\"Third\",\"First\",\"Third\",\"Third\",\"Third\",\"Third\",\"Third\",\"Third\",\"Third\",\"First\",\"Third\",\"Third\",\"Third\",\"Third\",\"Third\",\"Third\",\"Second\",\"First\",\"Third\",\"Second\",\"Third\",\"Second\",\"Second\",\"First\",\"Third\",\"Third\",\"Third\",\"Third\",\"Third\",\"Third\",\"Third\",\"Third\",\"Second\",\"Second\",\"Second\",\"First\",\"First\",\"Third\",\"First\",\"Third\",\"Third\",\"Third\",\"Third\",\"Second\",\"Second\",\"Third\",\"Third\",\"Second\",\"Second\",\"Second\",\"First\",\"Third\",\"Third\",\"Third\",\"First\",\"Third\",\"Third\",\"Third\",\"Third\",\"Third\",\"Second\",\"Third\",\"Third\",\"Third\",\"Third\",\"First\",\"Third\",\"First\",\"Third\",\"First\",\"Third\",\"Third\",\"Third\",\"First\",\"Third\",\"Third\",\"First\",\"Second\",\"Third\",\"Third\",\"Second\",\"Third\",\"Second\",\"Third\",\"First\",\"Third\",\"First\",\"Third\",\"Third\",\"Second\",\"Second\",\"Third\",\"Second\",\"First\",\"First\",\"Third\",\"Third\",\"Third\",\"Second\",\"Third\",\"Third\",\"Third\",\"Third\",\"Third\",\"Third\",\"Third\",\"Third\",\"Third\",\"First\",\"Third\",\"Second\",\"Third\",\"Second\",\"Third\",\"First\",\"Third\",\"Second\",\"First\",\"Second\",\"Third\",\"Second\",\"Third\",\"Third\",\"First\",\"Third\",\"Second\",\"Third\",\"Second\",\"Third\",\"First\",\"Third\",\"Second\",\"Third\",\"Second\",\"Third\",\"Second\",\"Second\",\"Second\",\"Second\",\"Third\",\"Third\",\"Second\",\"Third\",\"Third\",\"First\",\"Third\",\"Second\",\"First\",\"Second\",\"Third\",\"Third\",\"First\",\"Third\",\"Third\",\"Third\",\"First\",\"First\",\"First\",\"Second\",\"Third\",\"Third\",\"First\",\"First\",\"Third\",\"Second\",\"Third\",\"Third\",\"First\",\"First\",\"First\",\"Third\",\"Second\",\"First\",\"Third\",\"First\",\"Third\",\"Second\",\"Third\",\"Third\",\"Third\",\"Third\",\"Third\",\"Third\",\"First\",\"Third\",\"Third\",\"Third\",\"Second\",\"Third\",\"First\",\"First\",\"Second\",\"Third\",\"Third\",\"First\",\"Third\",\"First\",\"First\",\"First\",\"Third\",\"Third\",\"Third\",\"Second\",\"Third\",\"First\",\"First\",\"First\",\"Second\",\"First\",\"First\",\"First\",\"Second\",\"Third\",\"Second\",\"Third\",\"Second\",\"Second\",\"First\",\"First\",\"Third\",\"Third\",\"Second\",\"Second\",\"Third\",\"First\",\"Third\",\"Second\",\"Third\",\"First\",\"Third\",\"First\",\"First\",\"Third\",\"First\",\"Third\",\"First\",\"First\",\"Third\",\"First\",\"Second\",\"First\",\"Second\",\"Second\",\"Second\",\"Second\",\"Second\",\"Third\",\"Third\",\"Third\",\"Third\",\"First\",\"Third\",\"Third\",\"Third\",\"Third\",\"First\",\"Second\",\"Third\",\"Third\",\"Third\",\"Second\",\"Third\",\"Third\",\"Third\",\"Third\",\"First\",\"Third\",\"Third\",\"First\",\"First\",\"Third\",\"Third\",\"First\",\"Third\",\"First\",\"Third\",\"First\",\"Third\",\"Third\",\"First\",\"Third\",\"Third\",\"First\",\"Third\",\"Second\",\"Third\",\"Second\",\"Third\",\"Second\",\"First\",\"Third\",\"Third\",\"First\",\"Third\",\"Third\",\"Third\",\"Second\",\"Second\",\"Second\",\"Third\",\"Third\",\"Third\",\"Third\",\"Third\",\"Second\",\"Third\",\"Second\",\"Third\",\"Third\",\"Third\",\"Third\",\"First\",\"Second\",\"Third\",\"Third\",\"Second\",\"Second\",\"Second\",\"Third\",\"Third\",\"Third\",\"Third\",\"Third\",\"Third\",\"Third\",\"Second\",\"Second\",\"Third\",\"Third\",\"First\",\"Third\",\"Second\",\"Third\",\"First\",\"First\",\"Third\",\"Second\",\"First\",\"Second\",\"Second\",\"Third\",\"Third\",\"Second\",\"Third\",\"First\",\"Second\",\"First\",\"Third\",\"First\",\"Second\",\"Third\",\"First\",\"First\",\"Third\",\"Third\",\"First\",\"First\",\"Second\",\"Third\",\"First\",\"Third\",\"First\",\"Second\",\"Third\",\"Third\",\"Second\",\"First\",\"Third\",\"Third\",\"Third\",\"Third\",\"Second\",\"Second\",\"Third\",\"First\",\"Second\",\"Third\",\"Third\",\"Third\",\"Third\",\"Second\",\"Third\",\"Third\",\"First\",\"Third\",\"First\",\"First\",\"Third\",\"Third\",\"Third\",\"Third\",\"First\",\"First\",\"Third\",\"Third\",\"First\",\"Third\",\"First\",\"Third\",\"Third\",\"Third\",\"Third\",\"Third\",\"First\",\"First\",\"Second\",\"First\",\"Third\",\"Third\",\"Third\",\"Third\",\"First\",\"First\",\"Third\",\"First\",\"Second\",\"Third\",\"Second\",\"Third\",\"First\",\"Third\",\"Third\",\"First\",\"Third\",\"Third\",\"Second\",\"First\",\"Third\",\"Second\",\"Second\",\"Third\",\"Third\",\"Third\",\"Third\",\"Second\",\"First\",\"First\",\"Third\",\"First\",\"First\",\"Third\",\"Third\",\"Second\",\"First\",\"First\",\"Second\",\"Second\",\"Third\",\"Second\",\"First\",\"Second\",\"Third\",\"Third\",\"Third\",\"First\",\"First\",\"First\",\"First\",\"Third\",\"Third\",\"Third\",\"Second\",\"Third\",\"Third\",\"Third\",\"Third\",\"Third\",\"Third\",\"Third\",\"Second\",\"First\",\"First\",\"Third\",\"Third\",\"Third\",\"Second\",\"First\",\"Third\",\"Third\",\"Second\",\"First\",\"Second\",\"First\",\"Third\",\"First\",\"Second\",\"First\",\"Third\",\"Third\",\"Third\",\"First\",\"Third\",\"Third\",\"Second\",\"Third\",\"Second\",\"Third\",\"Third\",\"First\",\"Second\",\"Third\",\"First\",\"Third\",\"First\",\"Third\",\"Third\",\"First\",\"Second\",\"First\",\"Third\",\"Third\",\"Third\",\"Third\",\"Third\",\"Second\",\"Third\",\"Third\",\"Second\",\"Second\",\"Third\",\"First\",\"Third\",\"Third\",\"Third\",\"First\",\"Second\",\"First\",\"Third\",\"Third\",\"First\",\"Third\",\"First\",\"First\",\"Third\",\"Second\",\"Third\",\"Second\",\"Third\",\"Third\",\"Third\",\"First\",\"Third\",\"Third\",\"Third\",\"First\",\"Third\",\"First\",\"Third\",\"Third\",\"Third\",\"Second\",\"Third\",\"Third\",\"Third\",\"Second\",\"Third\",\"Third\",\"Second\",\"First\",\"First\",\"Third\",\"First\",\"Third\",\"Third\",\"Second\",\"Second\",\"Third\",\"Third\",\"First\",\"Second\",\"First\",\"Second\",\"Second\",\"Second\",\"Third\",\"Third\",\"Third\",\"Third\",\"First\",\"Third\",\"First\",\"Third\",\"Third\",\"Second\",\"Second\",\"Third\",\"Third\",\"Third\",\"First\",\"First\",\"Third\",\"Third\",\"Third\",\"First\",\"Second\",\"Third\",\"Third\",\"First\",\"Third\",\"First\",\"First\",\"Third\",\"Third\",\"Third\",\"Second\",\"Second\",\"First\",\"First\",\"Third\",\"First\",\"First\",\"First\",\"Third\",\"Second\",\"Third\",\"First\",\"Second\",\"Third\",\"Third\",\"Second\",\"Third\",\"Second\",\"Second\",\"First\",\"Third\",\"Second\",\"Third\",\"Second\",\"Third\",\"First\",\"Third\",\"Second\",\"Second\",\"Second\",\"Third\",\"Third\",\"First\",\"Third\",\"Third\",\"First\",\"First\",\"First\",\"Third\",\"Third\",\"First\",\"Third\",\"Second\",\"First\",\"Third\",\"Second\",\"Third\",\"Third\",\"Third\",\"Second\",\"Second\",\"Third\",\"Second\",\"Third\",\"First\",\"Third\",\"Third\",\"Third\",\"First\",\"Third\",\"First\",\"First\",\"Third\",\"Third\",\"Third\",\"Third\",\"Third\",\"Second\",\"Third\",\"Second\",\"Third\",\"Third\",\"Third\",\"Third\",\"First\",\"Third\",\"First\",\"First\",\"Third\",\"Third\",\"Third\",\"Third\",\"Third\",\"Third\",\"First\",\"Third\",\"Second\",\"Third\",\"First\",\"Third\",\"Second\",\"First\",\"Third\",\"Third\",\"Third\",\"Second\",\"Second\",\"First\",\"Third\",\"Third\",\"Third\",\"First\",\"Third\",\"Second\",\"First\",\"Third\",\"Third\",\"Second\",\"Third\",\"Third\",\"First\",\"Third\",\"Second\",\"Third\",\"Third\",\"First\",\"Third\",\"First\",\"Third\",\"Third\",\"Third\",\"Third\",\"Second\",\"Third\",\"First\",\"Third\",\"Second\",\"Third\",\"Third\",\"Third\",\"First\",\"Third\",\"Third\",\"Third\",\"First\",\"Third\",\"Second\",\"First\",\"Third\",\"Third\",\"Third\",\"Third\",\"Third\",\"Second\",\"First\",\"Third\",\"Third\",\"Third\",\"First\",\"Second\",\"Third\",\"First\",\"First\",\"Third\",\"Third\",\"Third\",\"Second\",\"First\",\"Third\",\"Second\",\"Second\",\"Second\",\"First\",\"Third\",\"Third\",\"Third\",\"First\",\"First\",\"Third\",\"Second\",\"Third\",\"Third\",\"Third\",\"Third\",\"First\",\"Second\",\"Third\",\"Third\",\"Second\",\"Third\",\"Third\",\"Second\",\"First\",\"Third\",\"First\",\"Third\"],\"deck\":[\"nan\",\"C\",\"nan\",\"C\",\"nan\",\"nan\",\"E\",\"nan\",\"nan\",\"nan\",\"G\",\"C\",\"nan\",\"nan\",\"nan\",\"nan\",\"nan\",\"nan\",\"nan\",\"nan\",\"nan\",\"D\",\"nan\",\"A\",\"nan\",\"nan\",\"nan\",\"C\",\"nan\",\"nan\",\"nan\",\"B\",\"nan\",\"nan\",\"nan\",\"nan\",\"nan\",\"nan\",\"nan\",\"nan\",\"nan\",\"nan\",\"nan\",\"nan\",\"nan\",\"nan\",\"nan\",\"nan\",\"nan\",\"nan\",\"nan\",\"nan\",\"D\",\"nan\",\"B\",\"C\",\"nan\",\"nan\",\"nan\",\"nan\",\"nan\",\"B\",\"C\",\"nan\",\"nan\",\"nan\",\"F\",\"nan\",\"nan\",\"nan\",\"nan\",\"nan\",\"nan\",\"nan\",\"nan\",\"F\",\"nan\",\"nan\",\"nan\",\"nan\",\"nan\",\"nan\",\"nan\",\"nan\",\"nan\",\"nan\",\"nan\",\"nan\",\"C\",\"nan\",\"nan\",\"nan\",\"E\",\"nan\",\"nan\",\"nan\",\"A\",\"D\",\"nan\",\"nan\",\"nan\",\"nan\",\"D\",\"nan\",\"nan\",\"nan\",\"nan\",\"nan\",\"nan\",\"nan\",\"C\",\"nan\",\"nan\",\"nan\",\"nan\",\"nan\",\"nan\",\"nan\",\"B\",\"nan\",\"nan\",\"nan\",\"nan\",\"E\",\"D\",\"nan\",\"nan\",\"nan\",\"F\",\"nan\",\"nan\",\"nan\",\"nan\",\"nan\",\"nan\",\"nan\",\"D\",\"C\",\"nan\",\"B\",\"nan\",\"nan\",\"nan\",\"nan\",\"nan\",\"nan\",\"nan\",\"nan\",\"F\",\"nan\",\"nan\",\"C\",\"nan\",\"nan\",\"nan\",\"nan\",\"nan\",\"nan\",\"nan\",\"nan\",\"nan\",\"nan\",\"nan\",\"nan\",\"nan\",\"nan\",\"E\",\"nan\",\"nan\",\"nan\",\"B\",\"nan\",\"nan\",\"nan\",\"A\",\"nan\",\"nan\",\"C\",\"nan\",\"nan\",\"nan\",\"nan\",\"nan\",\"F\",\"nan\",\"A\",\"nan\",\"nan\",\"nan\",\"nan\",\"nan\",\"nan\",\"nan\",\"F\",\"B\",\"B\",\"nan\",\"nan\",\"nan\",\"nan\",\"nan\",\"nan\",\"nan\",\"nan\",\"nan\",\"G\",\"nan\",\"nan\",\"nan\",\"A\",\"nan\",\"nan\",\"nan\",\"nan\",\"nan\",\"D\",\"nan\",\"nan\",\"D\",\"nan\",\"nan\",\"nan\",\"nan\",\"nan\",\"C\",\"nan\",\"nan\",\"nan\",\"nan\",\"nan\",\"C\",\"nan\",\"nan\",\"nan\",\"nan\",\"nan\",\"nan\",\"nan\",\"nan\",\"nan\",\"nan\",\"nan\",\"nan\",\"nan\",\"nan\",\"C\",\"nan\",\"nan\",\"D\",\"nan\",\"nan\",\"G\",\"C\",\"nan\",\"nan\",\"nan\",\"nan\",\"B\",\"nan\",\"nan\",\"nan\",\"nan\",\"E\",\"B\",\"nan\",\"nan\",\"nan\",\"nan\",\"C\",\"C\",\"nan\",\"nan\",\"nan\",\"C\",\"nan\",\"D\",\"nan\",\"nan\",\"nan\",\"nan\",\"nan\",\"nan\",\"nan\",\"nan\",\"A\",\"nan\",\"nan\",\"nan\",\"nan\",\"nan\",\"nan\",\"B\",\"D\",\"nan\",\"nan\",\"nan\",\"nan\",\"C\",\"C\",\"B\",\"nan\",\"nan\",\"nan\",\"E\",\"nan\",\"C\",\"nan\",\"C\",\"nan\",\"E\",\"C\",\"B\",\"nan\",\"nan\",\"nan\",\"nan\",\"nan\",\"nan\",\"C\",\"E\",\"nan\",\"nan\",\"nan\",\"nan\",\"nan\",\"C\",\"nan\",\"D\",\"nan\",\"B\",\"nan\",\"C\",\"C\",\"nan\",\"nan\",\"nan\",\"C\",\"E\",\"nan\",\"nan\",\"F\",\"C\",\"nan\",\"nan\",\"nan\",\"F\",\"nan\",\"nan\",\"nan\",\"nan\",\"nan\",\"C\",\"nan\",\"nan\",\"nan\",\"nan\",\"E\",\"nan\",\"nan\",\"nan\",\"nan\",\"nan\",\"nan\",\"nan\",\"nan\",\"nan\",\"D\",\"nan\",\"nan\",\"B\",\"E\",\"nan\",\"nan\",\"nan\",\"nan\",\"nan\",\"nan\",\"C\",\"nan\",\"nan\",\"nan\",\"nan\",\"nan\",\"nan\",\"nan\",\"nan\",\"nan\",\"nan\",\"nan\",\"nan\",\"B\",\"nan\",\"nan\",\"D\",\"G\",\"nan\",\"nan\",\"nan\",\"nan\",\"nan\",\"nan\",\"nan\",\"nan\",\"nan\",\"nan\",\"nan\",\"nan\",\"nan\",\"nan\",\"nan\",\"nan\",\"nan\",\"C\",\"nan\",\"nan\",\"nan\",\"nan\",\"nan\",\"nan\",\"nan\",\"nan\",\"nan\",\"nan\",\"nan\",\"nan\",\"nan\",\"nan\",\"nan\",\"nan\",\"E\",\"C\",\"nan\",\"nan\",\"nan\",\"E\",\"B\",\"nan\",\"nan\",\"C\",\"nan\",\"nan\",\"nan\",\"nan\",\"nan\",\"nan\",\"A\",\"nan\",\"nan\",\"nan\",\"C\",\"nan\",\"nan\",\"C\",\"C\",\"nan\",\"nan\",\"E\",\"D\",\"nan\",\"nan\",\"E\",\"nan\",\"E\",\"nan\",\"nan\",\"nan\",\"nan\",\"nan\",\"nan\",\"nan\",\"nan\",\"nan\",\"nan\",\"D\",\"nan\",\"A\",\"nan\",\"nan\",\"nan\",\"nan\",\"nan\",\"nan\",\"nan\",\"nan\",\"B\",\"nan\",\"C\",\"B\",\"nan\",\"nan\",\"nan\",\"nan\",\"C\",\"nan\",\"nan\",\"nan\",\"D\",\"nan\",\"C\",\"nan\",\"nan\",\"nan\",\"nan\",\"nan\",\"B\",\"C\",\"nan\",\"nan\",\"nan\",\"nan\",\"nan\",\"nan\",\"E\",\"nan\",\"nan\",\"D\",\"F\",\"nan\",\"nan\",\"nan\",\"B\",\"nan\",\"nan\",\"B\",\"nan\",\"nan\",\"nan\",\"C\",\"nan\",\"nan\",\"nan\",\"nan\",\"nan\",\"nan\",\"nan\",\"nan\",\"B\",\"nan\",\"nan\",\"B\",\"B\",\"nan\",\"nan\",\"nan\",\"C\",\"nan\",\"nan\",\"nan\",\"nan\",\"nan\",\"C\",\"nan\",\"nan\",\"nan\",\"nan\",\"nan\",\"A\",\"nan\",\"E\",\"nan\",\"nan\",\"nan\",\"nan\",\"nan\",\"nan\",\"nan\",\"nan\",\"nan\",\"nan\",\"nan\",\"nan\",\"C\",\"E\",\"nan\",\"nan\",\"nan\",\"nan\",\"E\",\"nan\",\"nan\",\"nan\",\"C\",\"nan\",\"A\",\"nan\",\"E\",\"nan\",\"B\",\"nan\",\"nan\",\"nan\",\"D\",\"nan\",\"nan\",\"nan\",\"nan\",\"nan\",\"nan\",\"nan\",\"A\",\"nan\",\"nan\",\"nan\",\"nan\",\"nan\",\"nan\",\"nan\",\"nan\",\"nan\",\"C\",\"nan\",\"nan\",\"nan\",\"nan\",\"nan\",\"nan\",\"nan\",\"nan\",\"F\",\"nan\",\"nan\",\"D\",\"nan\",\"nan\",\"nan\",\"D\",\"nan\",\"D\",\"nan\",\"nan\",\"A\",\"nan\",\"B\",\"nan\",\"nan\",\"nan\",\"nan\",\"nan\",\"nan\",\"nan\",\"nan\",\"B\",\"nan\",\"nan\",\"nan\",\"D\",\"nan\",\"A\",\"nan\",\"nan\",\"nan\",\"nan\",\"nan\",\"nan\",\"nan\",\"nan\",\"nan\",\"nan\",\"nan\",\"D\",\"nan\",\"nan\",\"E\",\"nan\",\"nan\",\"nan\",\"nan\",\"nan\",\"nan\",\"C\",\"nan\",\"B\",\"nan\",\"nan\",\"nan\",\"nan\",\"nan\",\"nan\",\"nan\",\"B\",\"nan\",\"D\",\"nan\",\"nan\",\"nan\",\"nan\",\"nan\",\"nan\",\"nan\",\"B\",\"B\",\"nan\",\"nan\",\"nan\",\"nan\",\"nan\",\"nan\",\"nan\",\"C\",\"F\",\"C\",\"E\",\"nan\",\"nan\",\"nan\",\"nan\",\"nan\",\"E\",\"nan\",\"nan\",\"C\",\"C\",\"C\",\"nan\",\"nan\",\"F\",\"C\",\"E\",\"nan\",\"nan\",\"nan\",\"nan\",\"nan\",\"nan\",\"E\",\"nan\",\"nan\",\"nan\",\"nan\",\"nan\",\"B\",\"nan\",\"nan\",\"nan\",\"nan\",\"nan\",\"nan\",\"B\",\"nan\",\"nan\",\"D\",\"C\",\"B\",\"nan\",\"nan\",\"B\",\"nan\",\"nan\",\"D\",\"nan\",\"nan\",\"E\",\"nan\",\"nan\",\"nan\",\"nan\",\"nan\",\"nan\",\"nan\",\"B\",\"nan\",\"nan\",\"nan\",\"B\",\"nan\",\"D\",\"nan\",\"nan\",\"nan\",\"nan\",\"nan\",\"nan\",\"E\",\"nan\",\"nan\",\"nan\",\"F\",\"nan\",\"nan\",\"B\",\"nan\",\"B\",\"D\",\"nan\",\"nan\",\"nan\",\"nan\",\"nan\",\"nan\",\"B\",\"nan\",\"nan\",\"nan\",\"nan\",\"nan\",\"nan\",\"D\",\"nan\",\"nan\",\"nan\",\"nan\",\"nan\",\"B\",\"nan\",\"nan\",\"nan\",\"A\",\"nan\",\"nan\",\"E\",\"nan\",\"nan\",\"nan\",\"nan\",\"nan\",\"B\",\"nan\",\"nan\",\"nan\",\"nan\",\"B\",\"nan\",\"nan\",\"E\",\"nan\",\"nan\",\"nan\",\"nan\",\"nan\",\"B\",\"nan\",\"nan\",\"nan\",\"nan\",\"nan\",\"E\",\"nan\",\"nan\",\"nan\",\"C\",\"nan\",\"nan\",\"nan\",\"nan\",\"nan\",\"nan\",\"nan\",\"nan\",\"nan\",\"C\",\"nan\",\"nan\",\"nan\",\"D\",\"nan\",\"nan\",\"nan\",\"E\",\"nan\",\"nan\",\"nan\",\"nan\",\"D\",\"nan\",\"nan\",\"nan\",\"nan\",\"A\",\"nan\",\"nan\",\"nan\",\"D\",\"B\",\"nan\",\"nan\",\"nan\",\"nan\",\"nan\",\"nan\",\"C\",\"nan\",\"nan\",\"nan\",\"nan\",\"nan\",\"nan\",\"nan\",\"B\",\"nan\",\"C\",\"nan\"],\"embark_town\":[\"Southampton\",\"Cherbourg\",\"Southampton\",\"Southampton\",\"Southampton\",\"Queenstown\",\"Southampton\",\"Southampton\",\"Southampton\",\"Cherbourg\",\"Southampton\",\"Southampton\",\"Southampton\",\"Southampton\",\"Southampton\",\"Southampton\",\"Queenstown\",\"Southampton\",\"Southampton\",\"Cherbourg\",\"Southampton\",\"Southampton\",\"Queenstown\",\"Southampton\",\"Southampton\",\"Southampton\",\"Cherbourg\",\"Southampton\",\"Queenstown\",\"Southampton\",\"Cherbourg\",\"Cherbourg\",\"Queenstown\",\"Southampton\",\"Cherbourg\",\"Southampton\",\"Cherbourg\",\"Southampton\",\"Southampton\",\"Cherbourg\",\"Southampton\",\"Southampton\",\"Cherbourg\",\"Cherbourg\",\"Queenstown\",\"Southampton\",\"Queenstown\",\"Queenstown\",\"Cherbourg\",\"Southampton\",\"Southampton\",\"Southampton\",\"Cherbourg\",\"Southampton\",\"Cherbourg\",\"Southampton\",\"Southampton\",\"Cherbourg\",\"Southampton\",\"Southampton\",\"Cherbourg\",\"nan\",\"Southampton\",\"Southampton\",\"Cherbourg\",\"Cherbourg\",\"Southampton\",\"Southampton\",\"Southampton\",\"Southampton\",\"Southampton\",\"Southampton\",\"Southampton\",\"Cherbourg\",\"Southampton\",\"Southampton\",\"Southampton\",\"Southampton\",\"Southampton\",\"Southampton\",\"Southampton\",\"Southampton\",\"Queenstown\",\"Southampton\",\"Southampton\",\"Southampton\",\"Southampton\",\"Southampton\",\"Southampton\",\"Southampton\",\"Southampton\",\"Southampton\",\"Southampton\",\"Southampton\",\"Southampton\",\"Southampton\",\"Cherbourg\",\"Cherbourg\",\"Southampton\",\"Southampton\",\"Southampton\",\"Southampton\",\"Southampton\",\"Southampton\",\"Southampton\",\"Southampton\",\"Southampton\",\"Southampton\",\"Southampton\",\"Queenstown\",\"Southampton\",\"Cherbourg\",\"Southampton\",\"Southampton\",\"Cherbourg\",\"Southampton\",\"Queenstown\",\"Southampton\",\"Cherbourg\",\"Southampton\",\"Southampton\",\"Southampton\",\"Cherbourg\",\"Southampton\",\"Southampton\",\"Cherbourg\",\"Queenstown\",\"Southampton\",\"Cherbourg\",\"Southampton\",\"Cherbourg\",\"Southampton\",\"Southampton\",\"Southampton\",\"Southampton\",\"Cherbourg\",\"Southampton\",\"Southampton\",\"Southampton\",\"Cherbourg\",\"Cherbourg\",\"Southampton\",\"Southampton\",\"Queenstown\",\"Southampton\",\"Southampton\",\"Southampton\",\"Southampton\",\"Southampton\",\"Southampton\",\"Southampton\",\"Southampton\",\"Southampton\",\"Southampton\",\"Southampton\",\"Cherbourg\",\"Queenstown\",\"Southampton\",\"Southampton\",\"Southampton\",\"Southampton\",\"Southampton\",\"Southampton\",\"Southampton\",\"Southampton\",\"Southampton\",\"Southampton\",\"Southampton\",\"Southampton\",\"Southampton\",\"Southampton\",\"Queenstown\",\"Southampton\",\"Southampton\",\"Cherbourg\",\"Southampton\",\"Southampton\",\"Cherbourg\",\"Southampton\",\"Southampton\",\"Southampton\",\"Cherbourg\",\"Southampton\",\"Southampton\",\"Southampton\",\"Southampton\",\"Queenstown\",\"Southampton\",\"Queenstown\",\"Southampton\",\"Southampton\",\"Southampton\",\"Southampton\",\"Southampton\",\"Cherbourg\",\"Cherbourg\",\"Queenstown\",\"Southampton\",\"Queenstown\",\"Southampton\",\"Southampton\",\"Southampton\",\"Southampton\",\"Cherbourg\",\"Southampton\",\"Southampton\",\"Southampton\",\"Cherbourg\",\"Queenstown\",\"Cherbourg\",\"Southampton\",\"Southampton\",\"Southampton\",\"Southampton\",\"Queenstown\",\"Cherbourg\",\"Southampton\",\"Southampton\",\"Cherbourg\",\"Southampton\",\"Southampton\",\"Southampton\",\"Southampton\",\"Southampton\",\"Southampton\",\"Southampton\",\"Southampton\",\"Southampton\",\"Southampton\",\"Southampton\",\"Southampton\",\"Southampton\",\"Southampton\",\"Southampton\",\"Southampton\",\"Southampton\",\"Southampton\",\"Southampton\",\"Southampton\",\"Southampton\",\"Cherbourg\",\"Queenstown\",\"Southampton\",\"Southampton\",\"Cherbourg\",\"Queenstown\",\"Southampton\",\"Southampton\",\"Southampton\",\"Southampton\",\"Southampton\",\"Southampton\",\"Southampton\",\"Southampton\",\"Southampton\",\"Cherbourg\",\"Cherbourg\",\"Southampton\",\"Cherbourg\",\"Southampton\",\"Queenstown\",\"Southampton\",\"Southampton\",\"Southampton\",\"Queenstown\",\"Southampton\",\"Southampton\",\"Southampton\",\"Southampton\",\"Southampton\",\"Southampton\",\"Southampton\",\"Southampton\",\"Cherbourg\",\"Queenstown\",\"Southampton\",\"Southampton\",\"Southampton\",\"Queenstown\",\"Southampton\",\"Queenstown\",\"Southampton\",\"Southampton\",\"Southampton\",\"Southampton\",\"Cherbourg\",\"Southampton\",\"Southampton\",\"Southampton\",\"Queenstown\",\"Southampton\",\"Cherbourg\",\"Cherbourg\",\"Southampton\",\"Southampton\",\"Cherbourg\",\"Cherbourg\",\"Southampton\",\"Southampton\",\"Cherbourg\",\"Queenstown\",\"Queenstown\",\"Southampton\",\"Queenstown\",\"Southampton\",\"Southampton\",\"Cherbourg\",\"Cherbourg\",\"Cherbourg\",\"Cherbourg\",\"Cherbourg\",\"Cherbourg\",\"Southampton\",\"Southampton\",\"Southampton\",\"Southampton\",\"Southampton\",\"Southampton\",\"Southampton\",\"Cherbourg\",\"Southampton\",\"Southampton\",\"Queenstown\",\"Southampton\",\"Southampton\",\"Cherbourg\",\"Southampton\",\"Southampton\",\"Southampton\",\"Cherbourg\",\"Queenstown\",\"Southampton\",\"Southampton\",\"Southampton\",\"Southampton\",\"Southampton\",\"Southampton\",\"Cherbourg\",\"Southampton\",\"Southampton\",\"Southampton\",\"Southampton\",\"Southampton\",\"Southampton\",\"Southampton\",\"Southampton\",\"Southampton\",\"Southampton\",\"Southampton\",\"Southampton\",\"Southampton\",\"Southampton\",\"Cherbourg\",\"Southampton\",\"Cherbourg\",\"Southampton\",\"Southampton\",\"Southampton\",\"Queenstown\",\"Queenstown\",\"Southampton\",\"Cherbourg\",\"Cherbourg\",\"Southampton\",\"Queenstown\",\"Southampton\",\"Cherbourg\",\"Cherbourg\",\"Queenstown\",\"Cherbourg\",\"Cherbourg\",\"Southampton\",\"Southampton\",\"Cherbourg\",\"Southampton\",\"Cherbourg\",\"Southampton\",\"Cherbourg\",\"Cherbourg\",\"Southampton\",\"Cherbourg\",\"Cherbourg\",\"Southampton\",\"Southampton\",\"Southampton\",\"Southampton\",\"Southampton\",\"Southampton\",\"Queenstown\",\"Cherbourg\",\"Southampton\",\"Southampton\",\"Southampton\",\"Cherbourg\",\"Southampton\",\"Southampton\",\"Southampton\",\"Southampton\",\"Southampton\",\"Southampton\",\"Southampton\",\"Southampton\",\"Southampton\",\"Southampton\",\"Southampton\",\"Southampton\",\"Southampton\",\"Southampton\",\"Southampton\",\"Southampton\",\"Southampton\",\"Queenstown\",\"Queenstown\",\"Southampton\",\"Southampton\",\"Southampton\",\"Southampton\",\"Southampton\",\"Southampton\",\"Southampton\",\"Cherbourg\",\"Queenstown\",\"Southampton\",\"Southampton\",\"Southampton\",\"Southampton\",\"Southampton\",\"Southampton\",\"Queenstown\",\"Southampton\",\"Southampton\",\"Southampton\",\"Southampton\",\"Southampton\",\"Southampton\",\"Southampton\",\"Southampton\",\"Southampton\",\"Southampton\",\"Southampton\",\"Southampton\",\"Southampton\",\"Southampton\",\"Southampton\",\"Southampton\",\"Southampton\",\"Southampton\",\"Southampton\",\"Cherbourg\",\"Southampton\",\"Southampton\",\"Southampton\",\"Cherbourg\",\"Cherbourg\",\"Southampton\",\"Cherbourg\",\"Southampton\",\"Southampton\",\"Southampton\",\"Queenstown\",\"Southampton\",\"Southampton\",\"Southampton\",\"Southampton\",\"Southampton\",\"Southampton\",\"Southampton\",\"Southampton\",\"Queenstown\",\"Cherbourg\",\"Southampton\",\"Southampton\",\"Southampton\",\"Cherbourg\",\"Southampton\",\"Southampton\",\"Southampton\",\"Southampton\",\"Southampton\",\"Southampton\",\"Southampton\",\"Southampton\",\"Southampton\",\"Southampton\",\"Cherbourg\",\"Southampton\",\"Southampton\",\"Cherbourg\",\"Southampton\",\"Southampton\",\"Southampton\",\"Southampton\",\"Southampton\",\"Cherbourg\",\"Southampton\",\"Cherbourg\",\"Cherbourg\",\"Southampton\",\"Southampton\",\"Southampton\",\"Southampton\",\"Queenstown\",\"Queenstown\",\"Southampton\",\"Southampton\",\"Cherbourg\",\"Southampton\",\"Southampton\",\"Southampton\",\"Southampton\",\"Queenstown\",\"Southampton\",\"Southampton\",\"Cherbourg\",\"Southampton\",\"Southampton\",\"Southampton\",\"Queenstown\",\"Southampton\",\"Southampton\",\"Southampton\",\"Southampton\",\"Cherbourg\",\"Cherbourg\",\"Cherbourg\",\"Queenstown\",\"Southampton\",\"Southampton\",\"Southampton\",\"Southampton\",\"Southampton\",\"Cherbourg\",\"Cherbourg\",\"Cherbourg\",\"Southampton\",\"Southampton\",\"Southampton\",\"Cherbourg\",\"Southampton\",\"Cherbourg\",\"Southampton\",\"Southampton\",\"Southampton\",\"Southampton\",\"Cherbourg\",\"Southampton\",\"Southampton\",\"Cherbourg\",\"Southampton\",\"Southampton\",\"Cherbourg\",\"Southampton\",\"Queenstown\",\"Cherbourg\",\"Southampton\",\"Southampton\",\"Cherbourg\",\"Cherbourg\",\"Southampton\",\"Southampton\",\"Queenstown\",\"Southampton\",\"Southampton\",\"Southampton\",\"Southampton\",\"Southampton\",\"Southampton\",\"Southampton\",\"Cherbourg\",\"Southampton\",\"Southampton\",\"Southampton\",\"Southampton\",\"Queenstown\",\"Southampton\",\"Southampton\",\"Southampton\",\"Southampton\",\"Cherbourg\",\"Southampton\",\"Southampton\",\"Cherbourg\",\"Southampton\",\"Cherbourg\",\"Cherbourg\",\"Southampton\",\"Southampton\",\"Cherbourg\",\"Southampton\",\"Southampton\",\"Southampton\",\"Cherbourg\",\"Southampton\",\"Queenstown\",\"Southampton\",\"Southampton\",\"Southampton\",\"Southampton\",\"Cherbourg\",\"Cherbourg\",\"Southampton\",\"Southampton\",\"Southampton\",\"Southampton\",\"Cherbourg\",\"Southampton\",\"Southampton\",\"Southampton\",\"Cherbourg\",\"Southampton\",\"Southampton\",\"Southampton\",\"Queenstown\",\"Queenstown\",\"Southampton\",\"Southampton\",\"Southampton\",\"Southampton\",\"Southampton\",\"Southampton\",\"Cherbourg\",\"Southampton\",\"Cherbourg\",\"Southampton\",\"Southampton\",\"Southampton\",\"Queenstown\",\"Southampton\",\"Southampton\",\"Queenstown\",\"Southampton\",\"Southampton\",\"Cherbourg\",\"Southampton\",\"Southampton\",\"Southampton\",\"Southampton\",\"Southampton\",\"Southampton\",\"Southampton\",\"Southampton\",\"Cherbourg\",\"Southampton\",\"Southampton\",\"Cherbourg\",\"Cherbourg\",\"Southampton\",\"Cherbourg\",\"Southampton\",\"Southampton\",\"Southampton\",\"Southampton\",\"Southampton\",\"Queenstown\",\"Queenstown\",\"Southampton\",\"Southampton\",\"Queenstown\",\"Southampton\",\"Cherbourg\",\"Southampton\",\"Cherbourg\",\"Southampton\",\"Southampton\",\"Southampton\",\"Southampton\",\"Southampton\",\"Southampton\",\"Southampton\",\"Southampton\",\"Southampton\",\"Southampton\",\"Southampton\",\"Southampton\",\"Southampton\",\"Southampton\",\"Southampton\",\"Southampton\",\"Southampton\",\"Cherbourg\",\"Queenstown\",\"Cherbourg\",\"Southampton\",\"Southampton\",\"Southampton\",\"Cherbourg\",\"Southampton\",\"Southampton\",\"Southampton\",\"Southampton\",\"Southampton\",\"Cherbourg\",\"Southampton\",\"Cherbourg\",\"Southampton\",\"Southampton\",\"Southampton\",\"Queenstown\",\"Cherbourg\",\"Southampton\",\"Cherbourg\",\"Southampton\",\"Cherbourg\",\"Queenstown\",\"Southampton\",\"Southampton\",\"Southampton\",\"Southampton\",\"Southampton\",\"Cherbourg\",\"Cherbourg\",\"Southampton\",\"Southampton\",\"Southampton\",\"Southampton\",\"Southampton\",\"Cherbourg\",\"Southampton\",\"Queenstown\",\"Southampton\",\"Southampton\",\"Southampton\",\"Southampton\",\"Southampton\",\"Southampton\",\"Southampton\",\"Southampton\",\"Queenstown\",\"Southampton\",\"Southampton\",\"Southampton\",\"Cherbourg\",\"Southampton\",\"Southampton\",\"Southampton\",\"Southampton\",\"Southampton\",\"Cherbourg\",\"Southampton\",\"Southampton\",\"Southampton\",\"Southampton\",\"Cherbourg\",\"Southampton\",\"Southampton\",\"Southampton\",\"Southampton\",\"Southampton\",\"Southampton\",\"Queenstown\",\"Southampton\",\"Southampton\",\"Southampton\",\"Southampton\",\"Southampton\",\"Southampton\",\"Southampton\",\"Southampton\",\"Southampton\",\"Southampton\",\"Southampton\",\"Southampton\",\"Cherbourg\",\"Southampton\",\"Southampton\",\"Southampton\",\"Cherbourg\",\"Queenstown\",\"Queenstown\",\"Southampton\",\"Southampton\",\"Southampton\",\"Southampton\",\"Cherbourg\",\"Southampton\",\"Southampton\",\"Queenstown\",\"Southampton\",\"Queenstown\",\"Southampton\",\"Cherbourg\",\"Southampton\",\"Southampton\",\"Southampton\",\"Southampton\",\"Southampton\",\"Southampton\",\"Queenstown\",\"Southampton\",\"Cherbourg\",\"Queenstown\",\"Southampton\",\"Southampton\",\"Cherbourg\",\"Southampton\",\"Southampton\",\"Southampton\",\"Southampton\",\"Cherbourg\",\"Southampton\",\"Southampton\",\"Southampton\",\"Southampton\",\"Cherbourg\",\"Southampton\",\"Southampton\",\"Southampton\",\"Southampton\",\"Southampton\",\"Southampton\",\"Southampton\",\"Southampton\",\"Southampton\",\"Southampton\",\"Southampton\",\"Southampton\",\"Southampton\",\"Cherbourg\",\"Southampton\",\"Southampton\",\"Southampton\",\"Southampton\",\"Southampton\",\"Southampton\",\"Southampton\",\"Queenstown\",\"Southampton\",\"Cherbourg\",\"Queenstown\",\"nan\",\"Cherbourg\",\"Southampton\",\"Cherbourg\",\"Southampton\",\"Southampton\",\"Cherbourg\",\"Southampton\",\"Southampton\",\"Southampton\",\"Cherbourg\",\"Southampton\",\"Southampton\",\"Cherbourg\",\"Cherbourg\",\"Southampton\",\"Southampton\",\"Southampton\",\"Cherbourg\",\"Southampton\",\"Cherbourg\",\"Southampton\",\"Southampton\",\"Cherbourg\",\"Southampton\",\"Southampton\",\"Southampton\",\"Southampton\",\"Southampton\",\"Cherbourg\",\"Cherbourg\",\"Southampton\",\"Southampton\",\"Southampton\",\"Southampton\",\"Southampton\",\"Southampton\",\"Cherbourg\",\"Southampton\",\"Southampton\",\"Southampton\",\"Southampton\",\"Southampton\",\"Southampton\",\"Southampton\",\"Cherbourg\",\"Cherbourg\",\"Southampton\",\"Southampton\",\"Southampton\",\"Cherbourg\",\"Southampton\",\"Southampton\",\"Southampton\",\"Southampton\",\"Southampton\",\"Queenstown\",\"Southampton\",\"Southampton\",\"Southampton\",\"Cherbourg\",\"Queenstown\"],\"embarked\":[\"S\",\"C\",\"S\",\"S\",\"S\",\"Q\",\"S\",\"S\",\"S\",\"C\",\"S\",\"S\",\"S\",\"S\",\"S\",\"S\",\"Q\",\"S\",\"S\",\"C\",\"S\",\"S\",\"Q\",\"S\",\"S\",\"S\",\"C\",\"S\",\"Q\",\"S\",\"C\",\"C\",\"Q\",\"S\",\"C\",\"S\",\"C\",\"S\",\"S\",\"C\",\"S\",\"S\",\"C\",\"C\",\"Q\",\"S\",\"Q\",\"Q\",\"C\",\"S\",\"S\",\"S\",\"C\",\"S\",\"C\",\"S\",\"S\",\"C\",\"S\",\"S\",\"C\",\"nan\",\"S\",\"S\",\"C\",\"C\",\"S\",\"S\",\"S\",\"S\",\"S\",\"S\",\"S\",\"C\",\"S\",\"S\",\"S\",\"S\",\"S\",\"S\",\"S\",\"S\",\"Q\",\"S\",\"S\",\"S\",\"S\",\"S\",\"S\",\"S\",\"S\",\"S\",\"S\",\"S\",\"S\",\"S\",\"C\",\"C\",\"S\",\"S\",\"S\",\"S\",\"S\",\"S\",\"S\",\"S\",\"S\",\"S\",\"S\",\"Q\",\"S\",\"C\",\"S\",\"S\",\"C\",\"S\",\"Q\",\"S\",\"C\",\"S\",\"S\",\"S\",\"C\",\"S\",\"S\",\"C\",\"Q\",\"S\",\"C\",\"S\",\"C\",\"S\",\"S\",\"S\",\"S\",\"C\",\"S\",\"S\",\"S\",\"C\",\"C\",\"S\",\"S\",\"Q\",\"S\",\"S\",\"S\",\"S\",\"S\",\"S\",\"S\",\"S\",\"S\",\"S\",\"S\",\"C\",\"Q\",\"S\",\"S\",\"S\",\"S\",\"S\",\"S\",\"S\",\"S\",\"S\",\"S\",\"S\",\"S\",\"S\",\"S\",\"Q\",\"S\",\"S\",\"C\",\"S\",\"S\",\"C\",\"S\",\"S\",\"S\",\"C\",\"S\",\"S\",\"S\",\"S\",\"Q\",\"S\",\"Q\",\"S\",\"S\",\"S\",\"S\",\"S\",\"C\",\"C\",\"Q\",\"S\",\"Q\",\"S\",\"S\",\"S\",\"S\",\"C\",\"S\",\"S\",\"S\",\"C\",\"Q\",\"C\",\"S\",\"S\",\"S\",\"S\",\"Q\",\"C\",\"S\",\"S\",\"C\",\"S\",\"S\",\"S\",\"S\",\"S\",\"S\",\"S\",\"S\",\"S\",\"S\",\"S\",\"S\",\"S\",\"S\",\"S\",\"S\",\"S\",\"S\",\"S\",\"S\",\"S\",\"C\",\"Q\",\"S\",\"S\",\"C\",\"Q\",\"S\",\"S\",\"S\",\"S\",\"S\",\"S\",\"S\",\"S\",\"S\",\"C\",\"C\",\"S\",\"C\",\"S\",\"Q\",\"S\",\"S\",\"S\",\"Q\",\"S\",\"S\",\"S\",\"S\",\"S\",\"S\",\"S\",\"S\",\"C\",\"Q\",\"S\",\"S\",\"S\",\"Q\",\"S\",\"Q\",\"S\",\"S\",\"S\",\"S\",\"C\",\"S\",\"S\",\"S\",\"Q\",\"S\",\"C\",\"C\",\"S\",\"S\",\"C\",\"C\",\"S\",\"S\",\"C\",\"Q\",\"Q\",\"S\",\"Q\",\"S\",\"S\",\"C\",\"C\",\"C\",\"C\",\"C\",\"C\",\"S\",\"S\",\"S\",\"S\",\"S\",\"S\",\"S\",\"C\",\"S\",\"S\",\"Q\",\"S\",\"S\",\"C\",\"S\",\"S\",\"S\",\"C\",\"Q\",\"S\",\"S\",\"S\",\"S\",\"S\",\"S\",\"C\",\"S\",\"S\",\"S\",\"S\",\"S\",\"S\",\"S\",\"S\",\"S\",\"S\",\"S\",\"S\",\"S\",\"S\",\"C\",\"S\",\"C\",\"S\",\"S\",\"S\",\"Q\",\"Q\",\"S\",\"C\",\"C\",\"S\",\"Q\",\"S\",\"C\",\"C\",\"Q\",\"C\",\"C\",\"S\",\"S\",\"C\",\"S\",\"C\",\"S\",\"C\",\"C\",\"S\",\"C\",\"C\",\"S\",\"S\",\"S\",\"S\",\"S\",\"S\",\"Q\",\"C\",\"S\",\"S\",\"S\",\"C\",\"S\",\"S\",\"S\",\"S\",\"S\",\"S\",\"S\",\"S\",\"S\",\"S\",\"S\",\"S\",\"S\",\"S\",\"S\",\"S\",\"S\",\"Q\",\"Q\",\"S\",\"S\",\"S\",\"S\",\"S\",\"S\",\"S\",\"C\",\"Q\",\"S\",\"S\",\"S\",\"S\",\"S\",\"S\",\"Q\",\"S\",\"S\",\"S\",\"S\",\"S\",\"S\",\"S\",\"S\",\"S\",\"S\",\"S\",\"S\",\"S\",\"S\",\"S\",\"S\",\"S\",\"S\",\"S\",\"C\",\"S\",\"S\",\"S\",\"C\",\"C\",\"S\",\"C\",\"S\",\"S\",\"S\",\"Q\",\"S\",\"S\",\"S\",\"S\",\"S\",\"S\",\"S\",\"S\",\"Q\",\"C\",\"S\",\"S\",\"S\",\"C\",\"S\",\"S\",\"S\",\"S\",\"S\",\"S\",\"S\",\"S\",\"S\",\"S\",\"C\",\"S\",\"S\",\"C\",\"S\",\"S\",\"S\",\"S\",\"S\",\"C\",\"S\",\"C\",\"C\",\"S\",\"S\",\"S\",\"S\",\"Q\",\"Q\",\"S\",\"S\",\"C\",\"S\",\"S\",\"S\",\"S\",\"Q\",\"S\",\"S\",\"C\",\"S\",\"S\",\"S\",\"Q\",\"S\",\"S\",\"S\",\"S\",\"C\",\"C\",\"C\",\"Q\",\"S\",\"S\",\"S\",\"S\",\"S\",\"C\",\"C\",\"C\",\"S\",\"S\",\"S\",\"C\",\"S\",\"C\",\"S\",\"S\",\"S\",\"S\",\"C\",\"S\",\"S\",\"C\",\"S\",\"S\",\"C\",\"S\",\"Q\",\"C\",\"S\",\"S\",\"C\",\"C\",\"S\",\"S\",\"Q\",\"S\",\"S\",\"S\",\"S\",\"S\",\"S\",\"S\",\"C\",\"S\",\"S\",\"S\",\"S\",\"Q\",\"S\",\"S\",\"S\",\"S\",\"C\",\"S\",\"S\",\"C\",\"S\",\"C\",\"C\",\"S\",\"S\",\"C\",\"S\",\"S\",\"S\",\"C\",\"S\",\"Q\",\"S\",\"S\",\"S\",\"S\",\"C\",\"C\",\"S\",\"S\",\"S\",\"S\",\"C\",\"S\",\"S\",\"S\",\"C\",\"S\",\"S\",\"S\",\"Q\",\"Q\",\"S\",\"S\",\"S\",\"S\",\"S\",\"S\",\"C\",\"S\",\"C\",\"S\",\"S\",\"S\",\"Q\",\"S\",\"S\",\"Q\",\"S\",\"S\",\"C\",\"S\",\"S\",\"S\",\"S\",\"S\",\"S\",\"S\",\"S\",\"C\",\"S\",\"S\",\"C\",\"C\",\"S\",\"C\",\"S\",\"S\",\"S\",\"S\",\"S\",\"Q\",\"Q\",\"S\",\"S\",\"Q\",\"S\",\"C\",\"S\",\"C\",\"S\",\"S\",\"S\",\"S\",\"S\",\"S\",\"S\",\"S\",\"S\",\"S\",\"S\",\"S\",\"S\",\"S\",\"S\",\"S\",\"S\",\"C\",\"Q\",\"C\",\"S\",\"S\",\"S\",\"C\",\"S\",\"S\",\"S\",\"S\",\"S\",\"C\",\"S\",\"C\",\"S\",\"S\",\"S\",\"Q\",\"C\",\"S\",\"C\",\"S\",\"C\",\"Q\",\"S\",\"S\",\"S\",\"S\",\"S\",\"C\",\"C\",\"S\",\"S\",\"S\",\"S\",\"S\",\"C\",\"S\",\"Q\",\"S\",\"S\",\"S\",\"S\",\"S\",\"S\",\"S\",\"S\",\"Q\",\"S\",\"S\",\"S\",\"C\",\"S\",\"S\",\"S\",\"S\",\"S\",\"C\",\"S\",\"S\",\"S\",\"S\",\"C\",\"S\",\"S\",\"S\",\"S\",\"S\",\"S\",\"Q\",\"S\",\"S\",\"S\",\"S\",\"S\",\"S\",\"S\",\"S\",\"S\",\"S\",\"S\",\"S\",\"C\",\"S\",\"S\",\"S\",\"C\",\"Q\",\"Q\",\"S\",\"S\",\"S\",\"S\",\"C\",\"S\",\"S\",\"Q\",\"S\",\"Q\",\"S\",\"C\",\"S\",\"S\",\"S\",\"S\",\"S\",\"S\",\"Q\",\"S\",\"C\",\"Q\",\"S\",\"S\",\"C\",\"S\",\"S\",\"S\",\"S\",\"C\",\"S\",\"S\",\"S\",\"S\",\"C\",\"S\",\"S\",\"S\",\"S\",\"S\",\"S\",\"S\",\"S\",\"S\",\"S\",\"S\",\"S\",\"S\",\"C\",\"S\",\"S\",\"S\",\"S\",\"S\",\"S\",\"S\",\"Q\",\"S\",\"C\",\"Q\",\"nan\",\"C\",\"S\",\"C\",\"S\",\"S\",\"C\",\"S\",\"S\",\"S\",\"C\",\"S\",\"S\",\"C\",\"C\",\"S\",\"S\",\"S\",\"C\",\"S\",\"C\",\"S\",\"S\",\"C\",\"S\",\"S\",\"S\",\"S\",\"S\",\"C\",\"C\",\"S\",\"S\",\"S\",\"S\",\"S\",\"S\",\"C\",\"S\",\"S\",\"S\",\"S\",\"S\",\"S\",\"S\",\"C\",\"C\",\"S\",\"S\",\"S\",\"C\",\"S\",\"S\",\"S\",\"S\",\"S\",\"Q\",\"S\",\"S\",\"S\",\"C\",\"Q\"],\"fare\":{\"__ndarray__\":\"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\",\"dtype\":\"float64\",\"order\":\"little\",\"shape\":[891]},\"parch\":[0,0,0,0,0,0,0,1,2,0,1,0,0,5,0,0,1,0,0,0,0,0,0,0,1,5,0,2,0,0,0,0,0,0,0,0,0,0,0,0,0,0,0,2,0,0,0,0,0,0,1,0,0,0,1,0,0,0,2,2,0,0,0,2,0,1,0,0,2,0,0,2,0,0,0,0,0,0,2,0,0,0,0,0,0,0,3,0,2,0,0,0,0,2,0,0,0,1,1,0,0,0,1,0,0,0,0,0,0,0,0,0,0,0,0,0,0,0,1,2,0,0,0,0,1,0,0,0,1,0,0,0,0,0,0,0,2,0,0,0,2,0,0,0,0,1,0,2,2,0,0,0,0,2,0,1,0,0,0,2,1,0,0,0,1,2,1,4,0,0,0,1,1,0,0,1,1,0,0,0,2,0,2,1,2,0,0,0,1,0,0,0,0,1,0,0,0,1,0,0,0,2,0,0,0,1,0,0,0,0,0,0,0,0,0,0,0,0,0,0,0,0,0,0,0,0,0,0,0,1,0,0,0,2,0,0,0,2,0,0,0,0,0,0,0,0,0,2,1,0,0,1,0,0,2,2,0,0,0,1,0,2,1,0,0,0,1,0,1,0,0,0,1,1,0,0,0,0,1,1,0,0,0,0,0,0,0,0,0,0,0,0,0,0,0,0,0,2,0,1,0,0,0,0,0,2,0,0,0,0,0,2,1,0,1,0,0,0,2,1,0,0,0,1,2,0,0,0,1,1,0,0,1,0,0,0,0,0,0,0,1,2,0,0,0,0,0,0,1,0,0,0,1,0,0,0,1,0,0,0,4,0,1,0,0,0,0,0,0,0,0,0,0,0,1,0,0,2,0,0,0,2,0,0,0,0,2,0,0,0,2,0,0,0,2,0,0,0,0,0,0,0,0,0,0,0,0,1,0,1,0,0,0,0,0,0,1,2,0,2,0,0,0,1,1,0,0,0,0,0,0,0,0,0,0,2,2,3,4,0,1,0,0,0,0,2,1,0,1,0,2,0,0,0,0,0,0,0,0,0,0,0,0,0,0,0,0,0,0,1,0,0,2,0,0,0,0,0,0,1,2,0,0,0,0,1,0,0,0,1,0,0,0,0,0,0,0,0,2,0,0,0,0,0,0,0,2,0,0,0,0,0,0,0,0,0,0,0,0,0,0,0,0,1,0,0,0,0,0,1,1,0,1,2,0,2,0,0,0,2,2,2,2,0,0,0,0,0,1,1,2,0,0,0,0,0,0,0,1,0,0,0,0,0,0,0,0,4,0,0,0,0,0,0,0,0,0,0,0,0,1,1,0,0,0,2,0,1,0,0,0,0,0,2,0,1,0,0,0,0,1,0,0,0,0,0,0,0,2,0,5,0,0,0,0,2,1,0,1,0,0,0,1,0,0,0,0,0,0,0,0,0,0,0,2,0,0,1,5,0,0,0,2,0,1,0,0,0,0,0,0,1,0,0,0,0,0,1,0,2,0,0,0,0,0,0,0,0,0,0,1,0,0,0,0,0,0,0,6,1,0,0,0,2,1,2,1,0,0,1,0,1,0,0,0,0,0,0,1,0,0,0,1,0,0,0,0,0,0,1,0,0,0,0,0,0,0,0,0,0,1,0,0,0,0,0,0,0,0,0,0,0,0,0,0,0,3,0,0,0,0,0,2,0,0,1,1,0,0,0,1,1,0,0,2,1,0,0,0,0,0,0,0,2,0,0,0,0,0,0,0,0,0,0,3,0,0,0,0,1,0,0,0,2,0,0,0,1,2,0,0,0,2,0,0,0,0,0,0,1,0,1,2,1,0,0,0,0,0,0,0,0,0,2,0,0,0,1,0,2,1,0,0,1,1,0,0,2,0,0,0,1,0,0,0,1,0,0,0,0,0,0,0,0,0,0,2,0,1,0,2,0,1,1,0,1,1,0,3,0,0,0,0,2,0,0,0,0,0,1,0,1,0,0,0,0,0,0,0,1,1,0,0,0,0,5,0,0,2,0,0],\"pclass\":[3,1,3,1,3,3,1,3,3,2,3,1,3,3,3,2,3,2,3,3,2,2,3,1,3,3,3,1,3,3,1,1,3,2,1,1,3,3,3,3,3,2,3,2,3,3,3,3,3,3,3,3,1,2,1,1,2,3,2,3,3,1,1,3,1,3,2,3,3,3,2,3,2,3,3,3,3,3,2,3,3,3,3,1,2,3,3,3,1,3,3,3,1,3,3,3,1,1,2,2,3,3,1,3,3,3,3,3,3,3,1,3,3,3,3,3,3,2,1,3,2,3,2,2,1,3,3,3,3,3,3,3,3,2,2,2,1,1,3,1,3,3,3,3,2,2,3,3,2,2,2,1,3,3,3,1,3,3,3,3,3,2,3,3,3,3,1,3,1,3,1,3,3,3,1,3,3,1,2,3,3,2,3,2,3,1,3,1,3,3,2,2,3,2,1,1,3,3,3,2,3,3,3,3,3,3,3,3,3,1,3,2,3,2,3,1,3,2,1,2,3,2,3,3,1,3,2,3,2,3,1,3,2,3,2,3,2,2,2,2,3,3,2,3,3,1,3,2,1,2,3,3,1,3,3,3,1,1,1,2,3,3,1,1,3,2,3,3,1,1,1,3,2,1,3,1,3,2,3,3,3,3,3,3,1,3,3,3,2,3,1,1,2,3,3,1,3,1,1,1,3,3,3,2,3,1,1,1,2,1,1,1,2,3,2,3,2,2,1,1,3,3,2,2,3,1,3,2,3,1,3,1,1,3,1,3,1,1,3,1,2,1,2,2,2,2,2,3,3,3,3,1,3,3,3,3,1,2,3,3,3,2,3,3,3,3,1,3,3,1,1,3,3,1,3,1,3,1,3,3,1,3,3,1,3,2,3,2,3,2,1,3,3,1,3,3,3,2,2,2,3,3,3,3,3,2,3,2,3,3,3,3,1,2,3,3,2,2,2,3,3,3,3,3,3,3,2,2,3,3,1,3,2,3,1,1,3,2,1,2,2,3,3,2,3,1,2,1,3,1,2,3,1,1,3,3,1,1,2,3,1,3,1,2,3,3,2,1,3,3,3,3,2,2,3,1,2,3,3,3,3,2,3,3,1,3,1,1,3,3,3,3,1,1,3,3,1,3,1,3,3,3,3,3,1,1,2,1,3,3,3,3,1,1,3,1,2,3,2,3,1,3,3,1,3,3,2,1,3,2,2,3,3,3,3,2,1,1,3,1,1,3,3,2,1,1,2,2,3,2,1,2,3,3,3,1,1,1,1,3,3,3,2,3,3,3,3,3,3,3,2,1,1,3,3,3,2,1,3,3,2,1,2,1,3,1,2,1,3,3,3,1,3,3,2,3,2,3,3,1,2,3,1,3,1,3,3,1,2,1,3,3,3,3,3,2,3,3,2,2,3,1,3,3,3,1,2,1,3,3,1,3,1,1,3,2,3,2,3,3,3,1,3,3,3,1,3,1,3,3,3,2,3,3,3,2,3,3,2,1,1,3,1,3,3,2,2,3,3,1,2,1,2,2,2,3,3,3,3,1,3,1,3,3,2,2,3,3,3,1,1,3,3,3,1,2,3,3,1,3,1,1,3,3,3,2,2,1,1,3,1,1,1,3,2,3,1,2,3,3,2,3,2,2,1,3,2,3,2,3,1,3,2,2,2,3,3,1,3,3,1,1,1,3,3,1,3,2,1,3,2,3,3,3,2,2,3,2,3,1,3,3,3,1,3,1,1,3,3,3,3,3,2,3,2,3,3,3,3,1,3,1,1,3,3,3,3,3,3,1,3,2,3,1,3,2,1,3,3,3,2,2,1,3,3,3,1,3,2,1,3,3,2,3,3,1,3,2,3,3,1,3,1,3,3,3,3,2,3,1,3,2,3,3,3,1,3,3,3,1,3,2,1,3,3,3,3,3,2,1,3,3,3,1,2,3,1,1,3,3,3,2,1,3,2,2,2,1,3,3,3,1,1,3,2,3,3,3,3,1,2,3,3,2,3,3,2,1,3,1,3],\"sex\":[\"male\",\"female\",\"female\",\"female\",\"male\",\"male\",\"male\",\"male\",\"female\",\"female\",\"female\",\"female\",\"male\",\"male\",\"female\",\"female\",\"male\",\"male\",\"female\",\"female\",\"male\",\"male\",\"female\",\"male\",\"female\",\"female\",\"male\",\"male\",\"female\",\"male\",\"male\",\"female\",\"female\",\"male\",\"male\",\"male\",\"male\",\"male\",\"female\",\"female\",\"female\",\"female\",\"male\",\"female\",\"female\",\"male\",\"male\",\"female\",\"male\",\"female\",\"male\",\"male\",\"female\",\"female\",\"male\",\"male\",\"female\",\"male\",\"female\",\"male\",\"male\",\"female\",\"male\",\"male\",\"male\",\"male\",\"female\",\"male\",\"female\",\"male\",\"male\",\"female\",\"male\",\"male\",\"male\",\"male\",\"male\",\"male\",\"male\",\"female\",\"male\",\"male\",\"female\",\"male\",\"female\",\"female\",\"male\",\"male\",\"female\",\"male\",\"male\",\"male\",\"male\",\"male\",\"male\",\"male\",\"male\",\"male\",\"female\",\"male\",\"female\",\"male\",\"male\",\"male\",\"male\",\"male\",\"female\",\"male\",\"male\",\"female\",\"male\",\"female\",\"male\",\"female\",\"female\",\"male\",\"male\",\"male\",\"male\",\"female\",\"male\",\"male\",\"male\",\"female\",\"male\",\"male\",\"male\",\"male\",\"female\",\"male\",\"male\",\"male\",\"female\",\"female\",\"male\",\"male\",\"female\",\"male\",\"male\",\"male\",\"female\",\"female\",\"female\",\"male\",\"male\",\"male\",\"male\",\"female\",\"male\",\"male\",\"male\",\"female\",\"male\",\"male\",\"male\",\"male\",\"female\",\"male\",\"male\",\"male\",\"male\",\"female\",\"male\",\"male\",\"male\",\"male\",\"female\",\"female\",\"male\",\"male\",\"male\",\"male\",\"female\",\"male\",\"male\",\"male\",\"male\",\"female\",\"male\",\"male\",\"female\",\"male\",\"male\",\"male\",\"female\",\"male\",\"female\",\"male\",\"male\",\"male\",\"female\",\"male\",\"female\",\"male\",\"female\",\"female\",\"male\",\"male\",\"female\",\"female\",\"male\",\"male\",\"male\",\"male\",\"male\",\"female\",\"male\",\"male\",\"female\",\"male\",\"male\",\"female\",\"male\",\"male\",\"male\",\"female\",\"female\",\"male\",\"female\",\"male\",\"male\",\"male\",\"male\",\"male\",\"male\",\"male\",\"male\",\"male\",\"male\",\"female\",\"female\",\"male\",\"male\",\"female\",\"male\",\"female\",\"male\",\"female\",\"male\",\"male\",\"female\",\"female\",\"male\",\"male\",\"male\",\"male\",\"female\",\"female\",\"male\",\"male\",\"male\",\"female\",\"male\",\"male\",\"female\",\"female\",\"female\",\"female\",\"female\",\"female\",\"male\",\"male\",\"male\",\"male\",\"female\",\"male\",\"male\",\"male\",\"female\",\"female\",\"male\",\"male\",\"female\",\"male\",\"female\",\"female\",\"female\",\"male\",\"male\",\"female\",\"male\",\"male\",\"male\",\"male\",\"male\",\"male\",\"male\",\"male\",\"male\",\"female\",\"female\",\"female\",\"male\",\"female\",\"male\",\"male\",\"male\",\"female\",\"male\",\"female\",\"female\",\"male\",\"male\",\"female\",\"male\",\"male\",\"female\",\"female\",\"male\",\"female\",\"female\",\"female\",\"female\",\"male\",\"male\",\"female\",\"female\",\"male\",\"female\",\"female\",\"male\",\"male\",\"female\",\"female\",\"male\",\"female\",\"male\",\"female\",\"female\",\"female\",\"female\",\"male\",\"male\",\"male\",\"female\",\"male\",\"male\",\"female\",\"male\",\"male\",\"male\",\"female\",\"male\",\"male\",\"male\",\"female\",\"female\",\"female\",\"male\",\"male\",\"male\",\"male\",\"male\",\"male\",\"male\",\"male\",\"female\",\"female\",\"female\",\"female\",\"male\",\"male\",\"female\",\"male\",\"male\",\"male\",\"female\",\"female\",\"female\",\"female\",\"male\",\"male\",\"male\",\"male\",\"female\",\"female\",\"female\",\"male\",\"male\",\"male\",\"female\",\"female\",\"male\",\"female\",\"male\",\"male\",\"male\",\"female\",\"male\",\"female\",\"male\",\"male\",\"male\",\"female\",\"female\",\"male\",\"female\",\"male\",\"male\",\"female\",\"male\",\"male\",\"female\",\"male\",\"female\",\"male\",\"male\",\"male\",\"male\",\"female\",\"male\",\"male\",\"female\",\"male\",\"male\",\"female\",\"female\",\"female\",\"male\",\"female\",\"male\",\"male\",\"male\",\"female\",\"male\",\"male\",\"female\",\"female\",\"male\",\"male\",\"male\",\"female\",\"female\",\"male\",\"male\",\"female\",\"female\",\"female\",\"male\",\"male\",\"female\",\"male\",\"male\",\"female\",\"male\",\"male\",\"female\",\"male\",\"female\",\"male\",\"male\",\"male\",\"male\",\"male\",\"male\",\"male\",\"male\",\"female\",\"female\",\"male\",\"male\",\"male\",\"male\",\"male\",\"male\",\"male\",\"male\",\"male\",\"male\",\"female\",\"male\",\"male\",\"female\",\"female\",\"female\",\"male\",\"male\",\"male\",\"male\",\"female\",\"male\",\"male\",\"male\",\"female\",\"male\",\"female\",\"female\",\"male\",\"male\",\"male\",\"male\",\"male\",\"male\",\"male\",\"male\",\"male\",\"female\",\"male\",\"female\",\"male\",\"male\",\"female\",\"female\",\"female\",\"female\",\"male\",\"female\",\"male\",\"male\",\"male\",\"male\",\"male\",\"male\",\"female\",\"male\",\"male\",\"female\",\"male\",\"female\",\"male\",\"female\",\"male\",\"male\",\"female\",\"male\",\"male\",\"female\",\"male\",\"male\",\"male\",\"female\",\"male\",\"male\",\"female\",\"female\",\"female\",\"male\",\"female\",\"male\",\"female\",\"female\",\"female\",\"female\",\"male\",\"male\",\"male\",\"female\",\"male\",\"male\",\"male\",\"male\",\"male\",\"male\",\"male\",\"female\",\"male\",\"female\",\"male\",\"female\",\"female\",\"male\",\"male\",\"male\",\"male\",\"female\",\"male\",\"male\",\"female\",\"male\",\"male\",\"male\",\"female\",\"male\",\"female\",\"male\",\"male\",\"female\",\"female\",\"female\",\"male\",\"female\",\"female\",\"male\",\"male\",\"male\",\"female\",\"male\",\"male\",\"male\",\"male\",\"male\",\"female\",\"male\",\"female\",\"male\",\"male\",\"female\",\"male\",\"male\",\"male\",\"female\",\"male\",\"male\",\"male\",\"male\",\"male\",\"male\",\"male\",\"female\",\"female\",\"female\",\"male\",\"female\",\"male\",\"male\",\"female\",\"male\",\"female\",\"female\",\"male\",\"male\",\"male\",\"male\",\"male\",\"male\",\"male\",\"male\",\"female\",\"male\",\"male\",\"male\",\"male\",\"male\",\"male\",\"female\",\"female\",\"male\",\"male\",\"female\",\"male\",\"male\",\"female\",\"female\",\"male\",\"female\",\"male\",\"male\",\"male\",\"male\",\"female\",\"male\",\"female\",\"male\",\"female\",\"female\",\"male\",\"male\",\"female\",\"male\",\"male\",\"male\",\"male\",\"male\",\"male\",\"male\",\"male\",\"male\",\"male\",\"male\",\"female\",\"female\",\"male\",\"male\",\"male\",\"male\",\"male\",\"male\",\"female\",\"female\",\"male\",\"female\",\"male\",\"male\",\"male\",\"male\",\"male\",\"male\",\"male\",\"male\",\"female\",\"male\",\"female\",\"male\",\"male\",\"male\",\"male\",\"male\",\"female\",\"male\",\"male\",\"female\",\"male\",\"female\",\"male\",\"male\",\"male\",\"female\",\"male\",\"female\",\"male\",\"female\",\"male\",\"male\",\"male\",\"male\",\"male\",\"female\",\"female\",\"male\",\"male\",\"female\",\"male\",\"male\",\"male\",\"male\",\"male\",\"female\",\"female\",\"male\",\"female\",\"female\",\"male\",\"male\",\"male\",\"male\",\"male\",\"female\",\"male\",\"male\",\"male\",\"male\",\"male\",\"female\",\"male\",\"male\",\"male\",\"male\",\"female\",\"male\",\"male\",\"female\",\"male\",\"male\",\"male\",\"female\",\"male\",\"male\",\"male\",\"male\",\"female\",\"male\",\"male\",\"male\",\"female\",\"male\",\"female\",\"male\",\"female\",\"male\",\"male\",\"male\",\"male\",\"female\",\"male\",\"female\",\"male\",\"male\",\"female\",\"male\",\"female\",\"female\",\"female\",\"male\",\"male\",\"male\",\"male\",\"female\",\"male\",\"male\",\"male\",\"male\",\"male\",\"female\",\"male\",\"male\",\"male\",\"female\",\"female\",\"male\",\"female\",\"male\",\"female\",\"male\",\"male\",\"male\",\"male\",\"male\",\"female\",\"male\",\"female\",\"male\",\"male\",\"male\",\"female\",\"male\",\"male\",\"female\",\"male\",\"male\",\"male\",\"female\",\"male\",\"male\",\"female\",\"male\",\"male\",\"male\",\"male\",\"male\",\"female\",\"female\",\"male\",\"male\",\"male\",\"male\",\"female\",\"male\",\"male\",\"male\",\"male\",\"male\",\"male\",\"female\",\"male\",\"male\",\"male\",\"male\",\"male\",\"male\",\"female\",\"male\",\"male\",\"female\",\"female\",\"female\",\"female\",\"female\",\"male\",\"female\",\"male\",\"male\",\"male\",\"female\",\"female\",\"male\",\"female\",\"female\",\"male\",\"male\",\"male\",\"male\",\"female\",\"male\",\"male\",\"female\",\"female\",\"male\",\"male\",\"male\",\"female\",\"female\",\"male\",\"female\",\"male\",\"male\",\"female\",\"male\",\"female\",\"female\",\"male\",\"male\"],\"sibsp\":[1,1,0,1,0,0,0,3,0,1,1,0,0,1,0,0,4,0,1,0,0,0,0,0,3,1,0,3,0,0,0,1,0,0,1,1,0,0,2,1,1,1,0,1,0,0,1,0,2,1,4,0,1,1,0,0,0,0,1,5,0,0,1,3,0,1,0,0,4,2,0,5,0,1,0,0,0,0,0,0,0,0,0,0,0,3,1,0,3,0,0,0,1,1,0,0,0,0,0,1,0,0,0,0,2,0,0,0,0,1,0,1,0,1,0,0,0,1,0,4,2,0,1,0,0,1,0,0,1,0,0,0,1,1,0,0,0,1,0,0,0,0,1,0,0,1,0,2,0,0,0,1,0,0,0,0,0,0,0,8,0,0,0,0,4,0,0,1,0,0,0,4,1,0,0,1,3,0,0,0,8,0,4,2,0,0,1,0,1,0,0,0,1,1,0,0,0,0,0,0,0,8,0,0,0,0,1,0,0,0,0,0,0,0,1,1,0,1,0,0,0,0,0,0,1,0,0,0,0,3,1,0,0,4,0,0,1,0,0,0,1,1,0,0,0,2,0,0,1,1,0,1,0,1,0,0,0,0,0,0,0,4,1,0,0,0,4,1,0,0,0,0,0,0,0,1,0,0,4,1,0,0,0,0,0,0,0,0,0,0,0,1,0,0,0,0,0,1,0,0,0,2,0,0,0,1,0,1,1,0,0,2,1,0,1,0,1,0,0,1,0,0,0,1,8,0,0,0,1,0,2,0,0,2,1,0,1,0,0,0,1,3,0,0,0,0,0,1,1,0,0,0,1,1,0,0,0,0,0,0,1,1,0,0,1,0,1,0,0,0,1,1,0,0,3,1,0,0,0,0,0,0,0,1,0,0,5,0,0,0,1,0,2,1,0,0,0,0,0,0,0,0,1,1,0,1,0,1,0,3,0,0,1,0,0,0,1,0,0,0,0,0,0,1,1,0,1,0,0,0,0,1,1,0,1,1,2,2,1,0,1,0,1,0,0,0,0,0,2,0,1,1,0,1,0,0,0,1,0,0,0,0,0,0,0,0,0,0,0,2,0,0,1,0,0,0,1,1,0,0,5,0,0,0,1,3,1,0,0,1,1,0,0,0,0,0,1,0,1,0,0,0,0,0,0,1,0,0,0,0,0,0,0,1,0,0,0,0,1,0,0,0,0,0,0,0,0,0,0,2,1,0,1,0,0,0,0,0,0,0,0,4,4,1,1,0,1,0,1,1,0,0,0,0,0,0,1,0,1,1,0,0,0,0,0,2,0,0,0,0,0,2,0,0,0,0,0,1,1,0,1,1,0,0,0,0,0,1,0,0,0,1,0,0,1,1,0,0,0,1,2,0,0,0,0,1,0,0,1,0,1,0,1,0,0,1,1,1,2,0,1,1,1,0,0,0,0,0,0,0,0,0,0,0,3,0,0,1,0,1,0,0,3,0,2,1,0,0,0,0,0,0,0,0,0,2,0,1,0,0,2,0,0,0,1,2,0,0,0,1,1,1,0,0,0,0,0,0,1,0,0,0,0,5,1,1,4,0,0,0,1,0,0,0,0,0,0,0,1,0,1,0,0,0,1,0,0,0,0,1,0,0,1,0,0,0,0,0,0,0,0,1,0,0,1,0,3,0,1,1,0,0,0,0,0,0,1,0,0,0,0,1,2,1,0,1,1,0,1,0,1,0,0,0,1,1,0,0,0,0,0,0,0,1,0,1,0,0,1,0,0,0,0,0,1,0,0,0,0,0,0,1,0,1,0,0,0,4,1,0,0,0,8,0,0,0,0,0,0,1,0,1,1,0,0,0,0,0,0,1,0,0,0,4,0,0,0,1,0,3,1,0,0,0,4,0,0,0,0,0,1,1,0,0,0,1,0,0,0,0,0,0,0,0,0,0,8,0,0,1,4,0,1,0,1,0,1,0,0,0,2,1,0,8,0,0,1,0,0,1,0,1,0,0,1,0,0,0,0,0,0,0,0,0,0,0,0,0,1,0,0],\"survived\":[0,1,1,1,0,0,0,0,1,1,1,1,0,0,0,1,0,1,0,1,0,1,1,1,0,1,0,0,1,0,0,1,1,0,0,0,1,0,0,1,0,0,0,1,1,0,0,1,0,0,0,0,1,1,0,1,1,0,1,0,0,1,0,0,0,1,1,0,1,0,0,0,0,0,1,0,0,0,1,1,0,1,1,0,1,1,0,0,1,0,0,0,0,0,0,0,0,1,1,0,0,0,0,0,0,0,1,1,0,1,0,0,0,0,0,0,0,0,0,0,0,0,0,1,0,1,0,1,1,0,0,0,0,1,0,0,1,0,0,0,0,1,1,0,0,0,1,0,0,0,0,1,0,0,0,0,1,0,0,0,0,1,0,0,0,1,1,0,0,0,0,0,1,0,0,0,0,0,0,0,0,0,0,1,1,0,1,1,0,0,1,0,1,1,1,1,0,0,1,0,0,0,0,0,1,0,0,1,1,1,0,1,0,0,0,1,1,0,1,0,1,0,0,0,1,0,1,0,0,0,1,0,0,1,0,0,0,1,0,0,0,1,0,0,0,0,0,1,1,0,0,0,0,0,0,1,1,1,1,1,0,1,0,0,0,0,0,1,1,1,0,1,1,0,1,1,0,0,0,1,0,0,0,1,0,0,1,0,1,1,1,1,0,0,0,0,0,0,1,1,1,1,0,1,0,1,1,1,0,1,1,1,0,0,0,1,1,0,1,1,0,0,1,1,0,1,0,1,1,1,1,0,0,0,1,0,0,1,1,0,1,1,0,0,0,1,1,1,1,0,0,0,0,0,0,0,1,0,1,1,0,0,0,0,0,0,1,1,1,1,1,0,0,0,0,1,1,0,0,0,1,1,0,1,0,0,0,1,0,1,1,1,0,1,1,0,0,0,0,1,1,0,0,0,0,0,0,1,0,0,0,0,1,0,1,0,1,1,0,0,0,0,0,0,0,0,1,1,0,1,1,1,1,0,0,1,0,1,0,0,1,0,0,1,1,1,1,1,1,1,0,0,0,1,0,1,0,1,1,0,1,0,0,0,0,0,0,0,0,1,0,0,1,1,0,0,0,0,0,1,0,0,0,1,1,0,1,0,0,1,0,0,0,0,0,0,1,0,0,0,0,0,0,0,1,0,1,1,0,1,1,0,1,1,0,0,1,0,1,0,1,0,0,1,0,0,1,0,0,0,1,0,0,1,0,1,0,1,0,1,1,0,0,1,0,0,1,1,0,1,1,0,0,1,1,0,1,0,1,1,0,0,0,0,0,0,0,0,0,1,1,1,1,1,0,0,1,1,0,1,1,1,0,0,0,1,0,1,0,0,0,1,0,0,0,0,1,0,0,1,1,0,0,0,1,0,0,1,1,1,0,0,1,0,0,1,0,0,1,0,0,1,1,0,0,0,0,1,0,0,1,0,1,0,0,1,0,0,0,0,0,1,0,1,1,1,0,1,0,1,0,1,0,1,0,0,0,0,0,0,1,0,0,0,1,0,0,0,0,1,1,0,0,1,0,0,0,1,0,1,0,1,0,0,0,0,0,0,0,1,1,1,1,0,0,0,0,1,0,0,1,1,0,0,0,0,1,1,1,1,1,0,1,0,0,0,1,1,0,0,1,0,0,0,1,0,1,1,0,0,1,0,0,0,0,0,0,1,0,0,1,0,1,0,1,0,0,1,0,0,1,1,0,0,1,1,0,0,0,1,0,0,1,1,0,1,0,0,0,0,0,0,0,0,1,0,0,1,0,1,1,1,0,0,0,0,1,0,1,0,0,0,0,0,0,0,1,1,0,0,0,1,1,1,1,0,0,0,0,1,0,0,0,0,0,0,0,0,0,0,1,1,0,1,0,0,0,1,1,1,1,1,0,0,0,1,0,0,1,1,0,0,1,0,0,0,0,0,0,1,0,0,0,1,0,1,1,1,1,0,0,0,1,0,0,1,1,0,0,1,0,1,0,0,1,1,0,0,0,1,1,0,0,0,0,0,0,1,0,1,0],\"who\":[\"man\",\"woman\",\"woman\",\"woman\",\"man\",\"man\",\"man\",\"child\",\"woman\",\"child\",\"child\",\"woman\",\"man\",\"man\",\"child\",\"woman\",\"child\",\"man\",\"woman\",\"woman\",\"man\",\"man\",\"child\",\"man\",\"child\",\"woman\",\"man\",\"man\",\"woman\",\"man\",\"man\",\"woman\",\"woman\",\"man\",\"man\",\"man\",\"man\",\"man\",\"woman\",\"child\",\"woman\",\"woman\",\"man\",\"child\",\"woman\",\"man\",\"man\",\"woman\",\"man\",\"woman\",\"child\",\"man\",\"woman\",\"woman\",\"man\",\"man\",\"woman\",\"man\",\"child\",\"child\",\"man\",\"woman\",\"man\",\"child\",\"man\",\"man\",\"woman\",\"man\",\"woman\",\"man\",\"man\",\"woman\",\"man\",\"man\",\"man\",\"man\",\"man\",\"man\",\"child\",\"woman\",\"man\",\"man\",\"woman\",\"man\",\"woman\",\"woman\",\"man\",\"man\",\"woman\",\"man\",\"man\",\"man\",\"man\",\"man\",\"man\",\"man\",\"man\",\"man\",\"woman\",\"man\",\"woman\",\"man\",\"man\",\"man\",\"man\",\"man\",\"woman\",\"man\",\"man\",\"woman\",\"man\",\"child\",\"man\",\"woman\",\"woman\",\"man\",\"man\",\"man\",\"man\",\"child\",\"man\",\"man\",\"man\",\"woman\",\"man\",\"child\",\"man\",\"man\",\"woman\",\"man\",\"man\",\"man\",\"woman\",\"woman\",\"man\",\"man\",\"woman\",\"man\",\"man\",\"man\",\"woman\",\"woman\",\"woman\",\"man\",\"man\",\"man\",\"man\",\"child\",\"man\",\"man\",\"man\",\"woman\",\"man\",\"man\",\"man\",\"man\",\"woman\",\"man\",\"man\",\"man\",\"man\",\"woman\",\"man\",\"man\",\"child\",\"child\",\"woman\",\"woman\",\"man\",\"man\",\"man\",\"child\",\"child\",\"man\",\"man\",\"man\",\"man\",\"woman\",\"man\",\"man\",\"woman\",\"man\",\"child\",\"child\",\"child\",\"man\",\"woman\",\"man\",\"man\",\"man\",\"woman\",\"man\",\"woman\",\"child\",\"woman\",\"woman\",\"man\",\"man\",\"woman\",\"woman\",\"man\",\"man\",\"man\",\"man\",\"man\",\"child\",\"man\",\"man\",\"woman\",\"man\",\"man\",\"woman\",\"man\",\"man\",\"man\",\"woman\",\"woman\",\"man\",\"woman\",\"man\",\"man\",\"man\",\"man\",\"man\",\"man\",\"man\",\"man\",\"man\",\"man\",\"woman\",\"woman\",\"man\",\"man\",\"child\",\"man\",\"woman\",\"man\",\"child\",\"man\",\"man\",\"woman\",\"woman\",\"man\",\"man\",\"man\",\"man\",\"woman\",\"woman\",\"man\",\"man\",\"man\",\"woman\",\"man\",\"man\",\"woman\",\"woman\",\"woman\",\"woman\",\"woman\",\"woman\",\"man\",\"child\",\"man\",\"man\",\"woman\",\"man\",\"man\",\"man\",\"woman\",\"woman\",\"man\",\"man\",\"woman\",\"man\",\"woman\",\"woman\",\"woman\",\"man\",\"child\",\"woman\",\"man\",\"man\",\"man\",\"man\",\"man\",\"man\",\"man\",\"man\",\"man\",\"woman\",\"woman\",\"woman\",\"man\",\"woman\",\"man\",\"man\",\"man\",\"child\",\"man\",\"woman\",\"woman\",\"man\",\"man\",\"woman\",\"man\",\"child\",\"woman\",\"woman\",\"man\",\"woman\",\"woman\",\"woman\",\"woman\",\"man\",\"man\",\"woman\",\"woman\",\"man\",\"woman\",\"woman\",\"man\",\"man\",\"woman\",\"woman\",\"man\",\"woman\",\"man\",\"woman\",\"woman\",\"woman\",\"woman\",\"man\",\"man\",\"man\",\"woman\",\"man\",\"man\",\"woman\",\"man\",\"man\",\"child\",\"woman\",\"man\",\"man\",\"man\",\"woman\",\"woman\",\"woman\",\"child\",\"man\",\"man\",\"man\",\"child\",\"man\",\"man\",\"man\",\"woman\",\"woman\",\"woman\",\"woman\",\"man\",\"man\",\"woman\",\"man\",\"man\",\"man\",\"woman\",\"woman\",\"woman\",\"woman\",\"man\",\"man\",\"man\",\"man\",\"child\",\"woman\",\"woman\",\"man\",\"man\",\"man\",\"woman\",\"child\",\"man\",\"woman\",\"man\",\"man\",\"child\",\"woman\",\"man\",\"woman\",\"man\",\"man\",\"man\",\"woman\",\"woman\",\"man\",\"woman\",\"man\",\"man\",\"woman\",\"man\",\"man\",\"woman\",\"man\",\"woman\",\"man\",\"man\",\"child\",\"man\",\"woman\",\"man\",\"man\",\"woman\",\"man\",\"man\",\"woman\",\"woman\",\"woman\",\"man\",\"child\",\"man\",\"man\",\"man\",\"woman\",\"man\",\"man\",\"woman\",\"woman\",\"man\",\"man\",\"man\",\"woman\",\"woman\",\"man\",\"man\",\"child\",\"woman\",\"woman\",\"man\",\"man\",\"woman\",\"man\",\"man\",\"woman\",\"man\",\"child\",\"child\",\"man\",\"child\",\"man\",\"man\",\"man\",\"man\",\"man\",\"man\",\"man\",\"man\",\"woman\",\"woman\",\"man\",\"man\",\"man\",\"man\",\"man\",\"man\",\"man\",\"man\",\"man\",\"man\",\"child\",\"man\",\"man\",\"woman\",\"woman\",\"woman\",\"man\",\"man\",\"man\",\"man\",\"child\",\"child\",\"man\",\"man\",\"woman\",\"man\",\"woman\",\"woman\",\"man\",\"man\",\"child\",\"man\",\"man\",\"man\",\"man\",\"man\",\"man\",\"woman\",\"man\",\"woman\",\"man\",\"man\",\"woman\",\"woman\",\"woman\",\"woman\",\"man\",\"woman\",\"man\",\"man\",\"man\",\"man\",\"man\",\"man\",\"woman\",\"man\",\"man\",\"woman\",\"man\",\"woman\",\"man\",\"woman\",\"man\",\"man\",\"woman\",\"man\",\"man\",\"woman\",\"man\",\"man\",\"man\",\"child\",\"man\",\"man\",\"woman\",\"woman\",\"child\",\"man\",\"woman\",\"man\",\"woman\",\"woman\",\"child\",\"child\",\"man\",\"man\",\"man\",\"woman\",\"man\",\"man\",\"child\",\"man\",\"man\",\"man\",\"man\",\"woman\",\"man\",\"woman\",\"man\",\"woman\",\"woman\",\"man\",\"man\",\"man\",\"man\",\"woman\",\"man\",\"man\",\"woman\",\"man\",\"man\",\"man\",\"woman\",\"man\",\"woman\",\"man\",\"man\",\"woman\",\"woman\",\"woman\",\"man\",\"woman\",\"woman\",\"man\",\"man\",\"man\",\"woman\",\"man\",\"man\",\"man\",\"man\",\"man\",\"woman\",\"man\",\"woman\",\"man\",\"man\",\"woman\",\"man\",\"man\",\"man\",\"woman\",\"man\",\"man\",\"man\",\"man\",\"man\",\"man\",\"man\",\"woman\",\"woman\",\"woman\",\"man\",\"woman\",\"man\",\"man\",\"woman\",\"man\",\"woman\",\"child\",\"man\",\"man\",\"man\",\"man\",\"man\",\"man\",\"man\",\"man\",\"woman\",\"man\",\"man\",\"man\",\"man\",\"man\",\"man\",\"child\",\"woman\",\"man\",\"man\",\"woman\",\"man\",\"man\",\"woman\",\"child\",\"man\",\"child\",\"man\",\"man\",\"man\",\"man\",\"woman\",\"man\",\"woman\",\"man\",\"woman\",\"woman\",\"man\",\"man\",\"woman\",\"man\",\"man\",\"man\",\"man\",\"man\",\"man\",\"man\",\"man\",\"man\",\"man\",\"man\",\"woman\",\"woman\",\"man\",\"man\",\"man\",\"man\",\"man\",\"man\",\"woman\",\"woman\",\"man\",\"woman\",\"man\",\"man\",\"child\",\"man\",\"man\",\"child\",\"man\",\"man\",\"child\",\"man\",\"child\",\"man\",\"man\",\"man\",\"man\",\"man\",\"woman\",\"man\",\"man\",\"woman\",\"man\",\"woman\",\"man\",\"man\",\"man\",\"woman\",\"man\",\"woman\",\"man\",\"woman\",\"man\",\"man\",\"man\",\"man\",\"man\",\"woman\",\"woman\",\"man\",\"man\",\"child\",\"man\",\"man\",\"man\",\"man\",\"man\",\"woman\",\"woman\",\"man\",\"woman\",\"woman\",\"child\",\"man\",\"man\",\"man\",\"man\",\"woman\",\"man\",\"man\",\"man\",\"man\",\"man\",\"woman\",\"man\",\"man\",\"man\",\"man\",\"woman\",\"man\",\"man\",\"child\",\"child\",\"man\",\"man\",\"woman\",\"child\",\"man\",\"man\",\"man\",\"woman\",\"man\",\"man\",\"man\",\"woman\",\"man\",\"woman\",\"man\",\"woman\",\"man\",\"man\",\"man\",\"man\",\"woman\",\"man\",\"woman\",\"man\",\"man\",\"child\",\"man\",\"woman\",\"child\",\"woman\",\"man\",\"man\",\"man\",\"man\",\"woman\",\"child\",\"child\",\"man\",\"man\",\"man\",\"woman\",\"man\",\"man\",\"man\",\"woman\",\"woman\",\"man\",\"woman\",\"man\",\"woman\",\"child\",\"child\",\"man\",\"man\",\"man\",\"woman\",\"man\",\"woman\",\"man\",\"man\",\"man\",\"child\",\"man\",\"man\",\"woman\",\"man\",\"man\",\"child\",\"woman\",\"man\",\"man\",\"woman\",\"child\",\"man\",\"man\",\"child\",\"man\",\"woman\",\"child\",\"child\",\"man\",\"man\",\"man\",\"woman\",\"man\",\"man\",\"man\",\"man\",\"man\",\"man\",\"woman\",\"man\",\"man\",\"man\",\"man\",\"man\",\"man\",\"woman\",\"child\",\"man\",\"child\",\"woman\",\"woman\",\"woman\",\"woman\",\"man\",\"woman\",\"man\",\"man\",\"man\",\"woman\",\"woman\",\"man\",\"woman\",\"woman\",\"man\",\"man\",\"child\",\"man\",\"woman\",\"man\",\"man\",\"woman\",\"child\",\"man\",\"man\",\"man\",\"woman\",\"woman\",\"man\",\"woman\",\"man\",\"man\",\"woman\",\"man\",\"woman\",\"woman\",\"man\",\"man\"]},\"selected\":{\"id\":\"2059\"},\"selection_policy\":{\"id\":\"2080\"}},\"id\":\"2058\",\"type\":\"ColumnDataSource\"},{\"attributes\":{\"fill_alpha\":{\"value\":0.5},\"fill_color\":{\"value\":\"#30a2da\"},\"hatch_alpha\":{\"value\":0.1},\"hatch_color\":{\"value\":\"#30a2da\"},\"line_alpha\":{\"value\":0.5},\"size\":{\"value\":10},\"x\":{\"field\":\"age\"},\"y\":{\"field\":\"fare\"}},\"id\":\"2062\",\"type\":\"Scatter\"},{\"attributes\":{\"fill_alpha\":{\"value\":0.5},\"fill_color\":{\"value\":\"#30a2da\"},\"hatch_alpha\":{\"value\":0.5},\"hatch_color\":{\"value\":\"#30a2da\"},\"line_alpha\":{\"value\":0.5},\"size\":{\"value\":10},\"x\":{\"field\":\"age\"},\"y\":{\"field\":\"fare\"}},\"id\":\"2061\",\"type\":\"Scatter\"},{\"attributes\":{\"children\":[{\"id\":\"2028\"}],\"margin\":[0,0,0,0],\"name\":\"Row04365\"},\"id\":\"2024\",\"type\":\"Row\"},{\"attributes\":{},\"id\":\"2045\",\"type\":\"SaveTool\"},{\"attributes\":{},\"id\":\"2069\",\"type\":\"AllLabels\"},{\"attributes\":{\"bottom_units\":\"screen\",\"coordinates\":null,\"fill_alpha\":0.5,\"fill_color\":\"lightgrey\",\"group\":null,\"left_units\":\"screen\",\"level\":\"overlay\",\"line_alpha\":1.0,\"line_color\":\"black\",\"line_dash\":[4,4],\"line_width\":2,\"right_units\":\"screen\",\"syncable\":false,\"top_units\":\"screen\"},\"id\":\"2050\",\"type\":\"BoxAnnotation\"},{\"attributes\":{},\"id\":\"2059\",\"type\":\"Selection\"},{\"attributes\":{\"margin\":[5,10,5,10],\"options\":[\"None\"],\"title\":\"Color\",\"value\":\"None\"},\"id\":\"2023\",\"type\":\"Select\"},{\"attributes\":{},\"id\":\"2046\",\"type\":\"PanTool\"},{\"attributes\":{},\"id\":\"2047\",\"type\":\"WheelZoomTool\"},{\"attributes\":{\"overlay\":{\"id\":\"2050\"}},\"id\":\"2048\",\"type\":\"BoxZoomTool\"},{\"attributes\":{},\"id\":\"2049\",\"type\":\"ResetTool\"},{\"attributes\":{\"end\":85.30533333333334,\"reset_end\":85.30533333333334,\"reset_start\":-4.8853333333333335,\"start\":-4.8853333333333335,\"tags\":[[[\"age\",\"age\",null]]]},\"id\":\"2025\",\"type\":\"Range1d\"},{\"attributes\":{},\"id\":\"2068\",\"type\":\"BasicTickFormatter\"},{\"attributes\":{\"margin\":[5,10,5,10],\"options\":[\"age\",\"fare\"],\"title\":\"Y-Axis\",\"value\":\"fare\"},\"id\":\"2022\",\"type\":\"Select\"},{\"attributes\":{\"angle\":{\"value\":0.0},\"fill_alpha\":{\"value\":0.5},\"fill_color\":{\"value\":\"#30a2da\"},\"hatch_alpha\":{\"value\":0.5},\"hatch_color\":{\"value\":\"#30a2da\"},\"hatch_scale\":{\"value\":12.0},\"hatch_weight\":{\"value\":1.0},\"line_alpha\":{\"value\":0.5},\"line_cap\":{\"value\":\"butt\"},\"line_color\":{\"value\":\"black\"},\"line_dash\":{\"value\":[]},\"line_dash_offset\":{\"value\":0},\"line_join\":{\"value\":\"bevel\"},\"line_width\":{\"value\":1},\"marker\":{\"value\":\"circle\"},\"size\":{\"value\":10},\"x\":{\"field\":\"age\"},\"y\":{\"field\":\"fare\"}},\"id\":\"2066\",\"type\":\"Scatter\"},{\"attributes\":{\"tools\":[{\"id\":\"2027\"},{\"id\":\"2045\"},{\"id\":\"2046\"},{\"id\":\"2047\"},{\"id\":\"2048\"},{\"id\":\"2049\"}]},\"id\":\"2051\",\"type\":\"Toolbar\"},{\"attributes\":{\"end\":563.56212,\"reset_end\":563.56212,\"reset_start\":-51.23292000000001,\"start\":-51.23292000000001,\"tags\":[[[\"fare\",\"fare\",null]]]},\"id\":\"2026\",\"type\":\"Range1d\"}],\"root_ids\":[\"2019\",\"2123\"]},\"title\":\"Bokeh Application\",\"version\":\"2.4.3\"}};\n",
       "    var render_items = [{\"docid\":\"f4524854-53d4-4815-a6f6-12d483677fa9\",\"root_ids\":[\"2019\"],\"roots\":{\"2019\":\"d735ad53-4778-4167-b293-f4b6bf28a50d\"}}];\n",
       "    root.Bokeh.embed.embed_items_notebook(docs_json, render_items);\n",
       "  }\n",
       "  if (root.Bokeh !== undefined && root.Bokeh.Panel !== undefined) {\n",
       "    embed_document(root);\n",
       "  } else {\n",
       "    var attempts = 0;\n",
       "    var timer = setInterval(function(root) {\n",
       "      if (root.Bokeh !== undefined && root.Bokeh.Panel !== undefined) {\n",
       "        clearInterval(timer);\n",
       "        embed_document(root);\n",
       "      } else if (document.readyState == \"complete\") {\n",
       "        attempts++;\n",
       "        if (attempts > 200) {\n",
       "          clearInterval(timer);\n",
       "          console.log(\"Bokeh: ERROR: Unable to run BokehJS code because BokehJS library is missing\");\n",
       "        }\n",
       "      }\n",
       "    }, 25, root)\n",
       "  }\n",
       "})(window);</script>"
      ],
      "text/plain": [
       "Row\n",
       "    [0] WidgetBox\n",
       "        [0] Select(name='X-Axis', options=['age', 'fare'], value='age')\n",
       "        [1] Select(name='Y-Axis', options=['age', 'fare'], value='fare')\n",
       "        [2] Select(name='Color', options=['None'], value='None')\n",
       "    [1] ParamFunction(function)"
      ]
     },
     "metadata": {
      "application/vnd.holoviews_exec.v0+json": {
       "id": "2019"
      }
     },
     "output_type": "display_data"
    },
    {
     "data": {},
     "metadata": {},
     "output_type": "display_data"
    },
    {
     "data": {},
     "metadata": {},
     "output_type": "display_data"
    },
    {
     "data": {
      "application/vnd.holoviews_exec.v0+json": "",
      "text/html": [
       "<div id='2174'>\n",
       "  <div class=\"bk-root\" id=\"2ed69891-9cc7-439e-b0eb-47d745013e31\" data-root-id=\"2174\"></div>\n",
       "</div>\n",
       "<script type=\"application/javascript\">(function(root) {\n",
       "  function embed_document(root) {\n",
       "    var docs_json = {\"940d4009-321b-4219-a028-481eb33cbe2a\":{\"defs\":[{\"extends\":null,\"module\":null,\"name\":\"ReactiveHTML1\",\"overrides\":[],\"properties\":[]},{\"extends\":null,\"module\":null,\"name\":\"FlexBox1\",\"overrides\":[],\"properties\":[{\"default\":\"flex-start\",\"kind\":null,\"name\":\"align_content\"},{\"default\":\"flex-start\",\"kind\":null,\"name\":\"align_items\"},{\"default\":\"row\",\"kind\":null,\"name\":\"flex_direction\"},{\"default\":\"wrap\",\"kind\":null,\"name\":\"flex_wrap\"},{\"default\":\"flex-start\",\"kind\":null,\"name\":\"justify_content\"}]},{\"extends\":null,\"module\":null,\"name\":\"TemplateActions1\",\"overrides\":[],\"properties\":[{\"default\":0,\"kind\":null,\"name\":\"open_modal\"},{\"default\":0,\"kind\":null,\"name\":\"close_modal\"}]},{\"extends\":null,\"module\":null,\"name\":\"MaterialTemplateActions1\",\"overrides\":[],\"properties\":[{\"default\":0,\"kind\":null,\"name\":\"open_modal\"},{\"default\":0,\"kind\":null,\"name\":\"close_modal\"}]}],\"roots\":{\"references\":[{\"attributes\":{\"margin\":[20,20,20,20],\"min_width\":250,\"options\":[\"fare\",\"age\"],\"title\":\"Select_Variable\",\"value\":\"fare\",\"width\":250},\"id\":\"2250\",\"type\":\"Select\"},{\"attributes\":{\"end\":0.002676678501349461,\"reset_end\":0.002676678501349461,\"reset_start\":0.0,\"tags\":[[[\"fare_density\",\"Density\",null]]]},\"id\":\"2177\",\"type\":\"Range1d\"},{\"attributes\":{},\"id\":\"2217\",\"type\":\"BasicTickFormatter\"},{\"attributes\":{\"end\":1164.011337890887,\"reset_end\":1164.011337890887,\"reset_start\":-432.01133789088703,\"start\":-432.01133789088703,\"tags\":[[[\"fare\",\"fare\",null]]]},\"id\":\"2176\",\"type\":\"Range1d\"},{\"attributes\":{\"coordinates\":null,\"group\":null,\"text\":\"KDE (Distribution) Plot of Numeric Variables\",\"text_color\":\"black\",\"text_font_size\":\"12pt\"},\"id\":\"2179\",\"type\":\"Title\"},{\"attributes\":{},\"id\":\"2183\",\"type\":\"LinearScale\"},{\"attributes\":{\"fill_alpha\":0.5,\"fill_color\":\"#0000ff\",\"hatch_alpha\":0.5,\"hatch_color\":\"#0000ff\",\"line_alpha\":0.5,\"x\":{\"field\":\"x\"},\"y\":{\"field\":\"y\"}},\"id\":\"2215\",\"type\":\"Patch\"},{\"attributes\":{\"margin\":[5,5,5,5],\"name\":\"VSpacer04571\",\"sizing_mode\":\"stretch_height\"},\"id\":\"2251\",\"type\":\"Spacer\"},{\"attributes\":{\"fill_alpha\":0.5,\"fill_color\":\"#0000ff\",\"hatch_alpha\":0.5,\"hatch_color\":\"#0000ff\",\"line_alpha\":0.5,\"x\":{\"field\":\"x\"},\"y\":{\"field\":\"y\"}},\"id\":\"2210\",\"type\":\"Patch\"},{\"attributes\":{\"bottom_units\":\"screen\",\"coordinates\":null,\"fill_alpha\":0.5,\"fill_color\":\"lightgrey\",\"group\":null,\"left_units\":\"screen\",\"level\":\"overlay\",\"line_alpha\":1.0,\"line_color\":\"black\",\"line_dash\":[4,4],\"line_width\":2,\"right_units\":\"screen\",\"syncable\":false,\"top_units\":\"screen\"},\"id\":\"2200\",\"type\":\"BoxAnnotation\"},{\"attributes\":{},\"id\":\"2218\",\"type\":\"AllLabels\"},{\"attributes\":{},\"id\":\"2197\",\"type\":\"WheelZoomTool\"},{\"attributes\":{\"axis_label\":\"Density\",\"coordinates\":null,\"formatter\":{\"id\":\"2220\"},\"group\":null,\"major_label_policy\":{\"id\":\"2221\"},\"ticker\":{\"id\":\"2192\"}},\"id\":\"2191\",\"type\":\"LinearAxis\"},{\"attributes\":{},\"id\":\"2199\",\"type\":\"ResetTool\"},{\"attributes\":{\"children\":[{\"id\":\"2175\"}],\"margin\":[0,0,0,0],\"name\":\"Column04574\"},\"id\":\"2174\",\"type\":\"Column\"},{\"attributes\":{\"overlay\":{\"id\":\"2200\"}},\"id\":\"2198\",\"type\":\"BoxZoomTool\"},{\"attributes\":{\"tools\":[{\"id\":\"2195\"},{\"id\":\"2196\"},{\"id\":\"2197\"},{\"id\":\"2198\"},{\"id\":\"2199\"}]},\"id\":\"2201\",\"type\":\"Toolbar\"},{\"attributes\":{\"coordinates\":null,\"data_source\":{\"id\":\"2207\"},\"glyph\":{\"id\":\"2210\"},\"group\":null,\"hover_glyph\":null,\"muted_glyph\":{\"id\":\"2212\"},\"nonselection_glyph\":{\"id\":\"2211\"},\"selection_glyph\":{\"id\":\"2215\"},\"view\":{\"id\":\"2214\"}},\"id\":\"2213\",\"type\":\"GlyphRenderer\"},{\"attributes\":{\"data\":{\"x\":{\"__ndarray__\":\"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\",\"dtype\":\"float64\",\"order\":\"little\",\"shape\":[200]},\"y\":{\"__ndarray__\":\"AAAAAAAAAAAAAAAAAAAAAAAAAAAAAAAAAAAAAAAAAAAAAAAAAAAAAAAAAAAAAAAAAAAAAAAAAAAAAAAAAAAAAAAAAAAAAAAAAAAAAAAAAAAAAAAAAAAAAAAAAAAAAAAAAAAAAAAAAAAAAAAAAAAAAAAAAAAAAAAAAAAAAAAAAAAAAAAAAAAAAAAAAAAAAAAAAAAAAAAAAAAAAAAAAAAAAAAAAAAAAAAAAAAAAAAAAAAAAAAAAAAAAAAAAAAAAAAAAAAAAAAAAAAAAAAAAAAAAAAAAAAAAAAAAAAAAAAAAAAAAAAAAAAAAAAAAAAAAAAAAAAAAAAAAAAAAAAAAAAAAAAAAAAAAAAAAAAAAAAAAAAAAAAAAAAAAAAAAAAAAAAAAAAAAAAAAAAAAAAAAAAAAAAAAAAAAAAAAAAAAAAAAAAAAAAAAAAAAAAAAAAAAAAAAAAAAAAAAAAAAAAAAAAAAAAAAAAAAAAAAAAAAAAAAAAAAAAAAAAAAAAAAAAAAAAAAAAAAAAAAAAAAAAAAAAAAAAAAAAAAAAAAAAAAAAAAAAAAAAAAAAAAAAAAAAAAAAAAAAAAAAAAAAAAAAAAAAAAAAAAAAAAAAAAAAAAAAAAAAAAAAAAAAAAAAAAAAAAAAAAAAAAAAAAAAAAAAAAAAAAAAAAAAAAAAAAAAAAAAAAAAAAAAAAAAAAAAAAAAAAAAAAAAAAAAAAAAAAAAAAAAAAAAAAAAAAAAAAAAAAAAAAAAAAAAAAAAAAAAAAAAAAAAAAAAAAAAAAAAAAAAAAAAAAAAAAAAAAAAAAAAAAAAAAAAAAAAAAAAAAAAAAAAAAAAAAAAAAAAAAAAAAAAAAAAAAAAAAAAAAAAAAAAAAAAAAAAAAAAAAAAAAAAAAAAAAAAAAAAAAAAAAAAAAAAAAAAAAAAAAAAAAAAAAAAAAAAAAAAAAAAAAAAAAAAAAAAAAAAAAAAAAAAAAAAAAAAAAAAAAAAAAAAAAAAAAAAAAAAAAAAAAAAAAAAAAAAAAAAAAAAAAAAAAAAAAAAAAAAAAAAAAAAAAAAAAAAAAAAAAAAAAABao0LzE9HJPo4v62id8tE+c92mksOk2D5lC01hRLXgPv3SU72iX+Y+33ISj0eW7T4pE9LyxVHzPtXKo9Ru6vg+m+CUDKS7/z4ZPckiv/QDPzRNyJd8yQg/Ghdkk3RnDj/5KV4RMGoSP4CJGOpWBxY/aDD1hQcGGj+yTR07KVweP31iDJ4sfSE/Bnh2tu7lIz+kMfc0eFsmP29nLRi3zig/j99Wf/AuKz8brXSRcmotP2CY9rhoby8/WWrMhWKWMD9BDUVWl0kxPzclYq3xyjE/ufBoPb0VMj8/7d/tPCcyP5axvA3Y/jE/VoJOyCaeMT8XyWU93QgxP949v6aXRDA/RNbyixmxLj+XKndEXJosP+PiRk5+Vyo/4G/yttn7Jz/XXUo535olPxEDZEp+RyM/FMYaj74TIT/KYn2eJSEePx2+L2HQmxo/wtS0Nt61Fz82EUgFLI0VP6zFNlpTQBQ/JYOfZBXwEz/WwjiZycAUPyoLzd6k2xY/daWctatvGj/nGXuQIbIfPymghPckbyM/+oDymioaKD9vPQAprvstP8D7NtiWmjI/vnb0RQvzNj8vmmePpxQ8P0OS8iuZBEE/NtHorKBqRD+OW6FvWTtIP5R6ntehcUw/wgNX9diBUD/lFQF2W/FSPzR5znVYfVU/bNdpD1AZWD8eiq6GhbZaP0HKKhVwRF0/1onW41axXz+r/vTIiPVgP3lPl13x72E/wyTOUK+/Yj/uJLrupl1jP6Q/co49xGM/4QhH3q3vYz+yaj6xQt5jP1EnCUxzkGM/13NmpN4IYz/BhT3FJUxiPyFHtEioYGE/v5miTChOYD9ziWZVujpeP0mk88f6rls/OAx9/pALWT/EXugmMmJWP47Mc+4Lw1M/PCztgi88UT9PpeakVrJNP+SA9o2qRUk/6E2EXYY+RT+3j7xT16NBP2wwNz6e7zw/ymr1oClxNz9OGqA2IcIyP+iL/PIApy0/acMm+BEmJz81X/4Hb9khP0WdijoLMBs/ThI0gGxzFD/gSnZ0Q2MOP9oTRfdSTAY/uTut+AgpAD/iFOb0hyL3Pg==\",\"dtype\":\"float64\",\"order\":\"little\",\"shape\":[200]}},\"selected\":{\"id\":\"2208\"},\"selection_policy\":{\"id\":\"2235\"}},\"id\":\"2207\",\"type\":\"ColumnDataSource\"},{\"attributes\":{\"axis\":{\"id\":\"2191\"},\"coordinates\":null,\"dimension\":1,\"grid_line_color\":null,\"group\":null,\"ticker\":null},\"id\":\"2194\",\"type\":\"Grid\"},{\"attributes\":{\"client_comm_id\":\"e84ef60a1df440b086cb09d6c8494da8\",\"comm_id\":\"2a0e5c45aec144ba83bb328e18076608\",\"plot_id\":\"2174\"},\"id\":\"2282\",\"type\":\"panel.models.comm_manager.CommManager\"},{\"attributes\":{},\"id\":\"2192\",\"type\":\"BasicTicker\"},{\"attributes\":{\"children\":[{\"id\":\"2178\"},{\"id\":\"2248\"}],\"margin\":[0,0,0,0],\"name\":\"Row04573\"},\"id\":\"2175\",\"type\":\"Row\"},{\"attributes\":{},\"id\":\"2221\",\"type\":\"AllLabels\"},{\"attributes\":{\"children\":[{\"id\":\"2249\"},{\"id\":\"2251\"}],\"margin\":[0,0,0,0],\"name\":\"Column04572\"},\"id\":\"2248\",\"type\":\"Column\"},{\"attributes\":{\"below\":[{\"id\":\"2187\"}],\"center\":[{\"id\":\"2190\"},{\"id\":\"2194\"}],\"height\":400,\"left\":[{\"id\":\"2191\"}],\"margin\":[5,5,5,5],\"min_border_bottom\":10,\"min_border_left\":10,\"min_border_right\":10,\"min_border_top\":10,\"renderers\":[{\"id\":\"2213\"}],\"sizing_mode\":\"fixed\",\"title\":{\"id\":\"2179\"},\"toolbar\":{\"id\":\"2201\"},\"x_range\":{\"id\":\"2176\"},\"x_scale\":{\"id\":\"2183\"},\"y_range\":{\"id\":\"2177\"},\"y_scale\":{\"id\":\"2185\"}},\"id\":\"2178\",\"subtype\":\"Figure\",\"type\":\"Plot\"},{\"attributes\":{},\"id\":\"2235\",\"type\":\"UnionRenderers\"},{\"attributes\":{\"fill_alpha\":0.2,\"fill_color\":\"#0000ff\",\"hatch_alpha\":0.2,\"hatch_color\":\"#0000ff\",\"line_alpha\":0.2,\"x\":{\"field\":\"x\"},\"y\":{\"field\":\"y\"}},\"id\":\"2212\",\"type\":\"Patch\"},{\"attributes\":{},\"id\":\"2196\",\"type\":\"PanTool\"},{\"attributes\":{},\"id\":\"2220\",\"type\":\"BasicTickFormatter\"},{\"attributes\":{},\"id\":\"2208\",\"type\":\"Selection\"},{\"attributes\":{},\"id\":\"2185\",\"type\":\"LinearScale\"},{\"attributes\":{\"fill_alpha\":0.5,\"fill_color\":\"#0000ff\",\"hatch_alpha\":0.1,\"hatch_color\":\"#0000ff\",\"line_alpha\":0.5,\"x\":{\"field\":\"x\"},\"y\":{\"field\":\"y\"}},\"id\":\"2211\",\"type\":\"Patch\"},{\"attributes\":{},\"id\":\"2188\",\"type\":\"BasicTicker\"},{\"attributes\":{\"source\":{\"id\":\"2207\"}},\"id\":\"2214\",\"type\":\"CDSView\"},{\"attributes\":{\"axis\":{\"id\":\"2187\"},\"coordinates\":null,\"grid_line_color\":null,\"group\":null,\"ticker\":null},\"id\":\"2190\",\"type\":\"Grid\"},{\"attributes\":{},\"id\":\"2195\",\"type\":\"SaveTool\"},{\"attributes\":{\"axis_label\":\"fare\",\"coordinates\":null,\"formatter\":{\"id\":\"2217\"},\"group\":null,\"major_label_policy\":{\"id\":\"2218\"},\"ticker\":{\"id\":\"2188\"}},\"id\":\"2187\",\"type\":\"LinearAxis\"},{\"attributes\":{\"children\":[{\"id\":\"2250\"}],\"css_classes\":[\"panel-widget-box\"],\"margin\":[5,5,5,5],\"name\":\"WidgetBox04566\"},\"id\":\"2249\",\"type\":\"Column\"}],\"root_ids\":[\"2174\",\"2282\"]},\"title\":\"Bokeh Application\",\"version\":\"2.4.3\"}};\n",
       "    var render_items = [{\"docid\":\"940d4009-321b-4219-a028-481eb33cbe2a\",\"root_ids\":[\"2174\"],\"roots\":{\"2174\":\"2ed69891-9cc7-439e-b0eb-47d745013e31\"}}];\n",
       "    root.Bokeh.embed.embed_items_notebook(docs_json, render_items);\n",
       "  }\n",
       "  if (root.Bokeh !== undefined && root.Bokeh.Panel !== undefined) {\n",
       "    embed_document(root);\n",
       "  } else {\n",
       "    var attempts = 0;\n",
       "    var timer = setInterval(function(root) {\n",
       "      if (root.Bokeh !== undefined && root.Bokeh.Panel !== undefined) {\n",
       "        clearInterval(timer);\n",
       "        embed_document(root);\n",
       "      } else if (document.readyState == \"complete\") {\n",
       "        attempts++;\n",
       "        if (attempts > 200) {\n",
       "          clearInterval(timer);\n",
       "          console.log(\"Bokeh: ERROR: Unable to run BokehJS code because BokehJS library is missing\");\n",
       "        }\n",
       "      }\n",
       "    }, 25, root)\n",
       "  }\n",
       "})(window);</script>"
      ],
      "text/plain": [
       "Column\n",
       "    [0] Row\n",
       "        [0] HoloViews(DynamicMap)\n",
       "        [1] Column\n",
       "            [0] WidgetBox\n",
       "                [0] Select(margin=(20, 20, 20, 20), options=['fare', 'age'], value='fare', width=250)\n",
       "            [1] VSpacer()"
      ]
     },
     "metadata": {
      "application/vnd.holoviews_exec.v0+json": {
       "id": "2174"
      }
     },
     "output_type": "display_data"
    },
    {
     "data": {},
     "metadata": {},
     "output_type": "display_data"
    },
    {
     "data": {},
     "metadata": {},
     "output_type": "display_data"
    },
    {
     "data": {
      "application/vnd.holoviews_exec.v0+json": "",
      "text/html": [
       "<div id='2333'>\n",
       "  <div class=\"bk-root\" id=\"388f935c-be5f-409d-957d-b8eb80042abf\" data-root-id=\"2333\"></div>\n",
       "</div>\n",
       "<script type=\"application/javascript\">(function(root) {\n",
       "  function embed_document(root) {\n",
       "    var docs_json = {\"521891e0-708e-4695-80ba-b8da3c3a33ab\":{\"defs\":[{\"extends\":null,\"module\":null,\"name\":\"ReactiveHTML1\",\"overrides\":[],\"properties\":[]},{\"extends\":null,\"module\":null,\"name\":\"FlexBox1\",\"overrides\":[],\"properties\":[{\"default\":\"flex-start\",\"kind\":null,\"name\":\"align_content\"},{\"default\":\"flex-start\",\"kind\":null,\"name\":\"align_items\"},{\"default\":\"row\",\"kind\":null,\"name\":\"flex_direction\"},{\"default\":\"wrap\",\"kind\":null,\"name\":\"flex_wrap\"},{\"default\":\"flex-start\",\"kind\":null,\"name\":\"justify_content\"}]},{\"extends\":null,\"module\":null,\"name\":\"TemplateActions1\",\"overrides\":[],\"properties\":[{\"default\":0,\"kind\":null,\"name\":\"open_modal\"},{\"default\":0,\"kind\":null,\"name\":\"close_modal\"}]},{\"extends\":null,\"module\":null,\"name\":\"MaterialTemplateActions1\",\"overrides\":[],\"properties\":[{\"default\":0,\"kind\":null,\"name\":\"open_modal\"},{\"default\":0,\"kind\":null,\"name\":\"close_modal\"}]}],\"roots\":{\"references\":[{\"attributes\":{},\"id\":\"2347\",\"type\":\"CategoricalTicker\"},{\"attributes\":{},\"id\":\"2425\",\"type\":\"UnionRenderers\"},{\"attributes\":{\"data\":{\"bottom\":{\"__ndarray__\":\"cgUn+/Ya5b96fUNaNE7fvw==\",\"dtype\":\"float64\",\"order\":\"little\",\"shape\":[2]},\"top\":{\"__ndarray__\":\"X6ZCg3BM4j8yVSgOCdSYvw==\",\"dtype\":\"float64\",\"order\":\"little\",\"shape\":[2]},\"x\":[[\"age\",0],[\"fare\",0]]},\"selected\":{\"id\":\"2426\"},\"selection_policy\":{\"id\":\"2425\"}},\"id\":\"2390\",\"type\":\"ColumnDataSource\"},{\"attributes\":{\"source\":{\"id\":\"2382\"}},\"id\":\"2388\",\"type\":\"CDSView\"},{\"attributes\":{},\"id\":\"2426\",\"type\":\"Selection\"},{\"attributes\":{\"below\":[{\"id\":\"2346\"}],\"center\":[{\"id\":\"2348\"},{\"id\":\"2352\"}],\"height\":300,\"left\":[{\"id\":\"2349\"}],\"margin\":[5,5,5,5],\"min_border_bottom\":10,\"min_border_left\":10,\"min_border_right\":10,\"min_border_top\":10,\"renderers\":[{\"id\":\"2371\"},{\"id\":\"2379\"},{\"id\":\"2387\"},{\"id\":\"2395\"},{\"id\":\"2403\"}],\"sizing_mode\":\"fixed\",\"title\":{\"id\":\"2338\"},\"toolbar\":{\"id\":\"2359\"},\"width\":700,\"x_range\":{\"id\":\"2334\"},\"x_scale\":{\"id\":\"2342\"},\"y_range\":{\"id\":\"2335\"},\"y_scale\":{\"id\":\"2344\"}},\"id\":\"2337\",\"subtype\":\"Figure\",\"type\":\"Plot\"},{\"attributes\":{},\"id\":\"2344\",\"type\":\"LinearScale\"},{\"attributes\":{},\"id\":\"2342\",\"type\":\"CategoricalScale\"},{\"attributes\":{\"axis\":{\"id\":\"2349\"},\"coordinates\":null,\"dimension\":1,\"grid_line_color\":null,\"group\":null,\"ticker\":null},\"id\":\"2352\",\"type\":\"Grid\"},{\"attributes\":{\"coordinates\":null,\"group\":null,\"text\":\"Violin Plot using first 30 variables... (Standard Scaled)\",\"text_color\":\"black\",\"text_font_size\":\"12pt\"},\"id\":\"2338\",\"type\":\"Title\"},{\"attributes\":{\"coordinates\":null,\"data_source\":{\"id\":\"2374\"},\"glyph\":{\"id\":\"2376\"},\"group\":null,\"hover_glyph\":null,\"muted_glyph\":{\"id\":\"2378\"},\"nonselection_glyph\":{\"id\":\"2377\"},\"selection_glyph\":{\"id\":\"2381\"},\"view\":{\"id\":\"2380\"}},\"id\":\"2379\",\"type\":\"GlyphRenderer\"},{\"attributes\":{\"axis_label\":\"\",\"coordinates\":null,\"formatter\":{\"id\":\"2410\"},\"group\":null,\"major_label_policy\":{\"id\":\"2411\"},\"ticker\":{\"id\":\"2350\"}},\"id\":\"2349\",\"type\":\"LinearAxis\"},{\"attributes\":{\"data\":{\"xs\":[[[\"age\",-6.597884375515205e-08],[\"age\",-3.0707586500415565e-07],[\"age\",-1.3036692076838884e-06],[\"age\",-5.0499824540006344e-06],[\"age\",-1.7854711077253335e-05],[\"age\",-5.76394218338767e-05],[\"age\",-0.00016997374528084596],[\"age\",-0.00045810523687715346],[\"age\",-0.0011291124585328335],[\"age\",-0.0025469260861849924],[\"age\",-0.005262422111299241],[\"age\",-0.009970350418939612],[\"age\",-0.01734455477708452],[\"age\",-0.027749806914537517],[\"age\",-0.04091783918332928],[\"age\",-0.05575766328256984],[\"age\",-0.0704690881537207],[\"age\",-0.08300246176661796],[\"age\",-0.09171140331951154],[\"age\",-0.09591271530575622],[\"age\",-0.0961095856865748],[\"age\",-0.09383204691224184],[\"age\",-0.09125426252512109],[\"age\",-0.09080584980180975],[\"age\",-0.09487807883595958],[\"age\",-0.10556125645132378],[\"age\",-0.12429875486946546],[\"age\",-0.15145700533258877],[\"age\",-0.18598500184546635],[\"age\",-0.22540539639061394],[\"age\",-0.26625930825834976],[\"age\",-0.3048900453954766],[\"age\",-0.3382641474737658],[\"age\",-0.3645190867240611],[\"age\",-0.3830866734509827],[\"age\",-0.3944451989787397],[\"age\",-0.39967509268786894],[\"age\",-0.4],[\"age\",-0.3964414310881571],[\"age\",-0.38965645631105494],[\"age\",-0.37997018711819325],[\"age\",-0.36754632719748503],[\"age\",-0.3525843659978798],[\"age\",-0.33543840432747635],[\"age\",-0.3166245845083641],[\"age\",-0.2967612091957491],[\"age\",-0.27650435978737437],[\"age\",-0.256504027647443],[\"age\",-0.23736670170288843],[\"age\",-0.21960813719749625],[\"age\",-0.2036002894131281],[\"age\",-0.1895265902214236],[\"age\",-0.1773538480761944],[\"age\",-0.16682490238727776],[\"age\",-0.15748288045140602],[\"age\",-0.1487433432148135],[\"age\",-0.1400189347504839],[\"age\",-0.1308722871046289],[\"age\",-0.12114431314052494],[\"age\",-0.11099943995445552],[\"age\",-0.10085821514447982],[\"age\",-0.09123899098354553],[\"age\",-0.08257314626968724],[\"age\",-0.0750660591831346],[\"age\",-0.0686483923956772],[\"age\",-0.0630220293216866],[\"age\",-0.057775047343871205],[\"age\",-0.05252616311151423],[\"age\",-0.047054457920855206],[\"age\",-0.041371243194064655],[\"age\",-0.03570342794057911],[\"age\",-0.030388201321976102],[\"age\",-0.025720826713537526],[\"age\",-0.02182773523802452],[\"age\",-0.018630024752029805],[\"age\",-0.015913285107691744],[\"age\",-0.013456827085099066],[\"age\",-0.01114273800359538],[\"age\",-0.008985902226957351],[\"age\",-0.007082401531518921],[\"age\",-0.0055229685986699344],[\"age\",-0.0043290427909941165],[\"age\",-0.0034425369576888496],[\"age\",-0.0027619118261561046],[\"age\",-0.002192799468999802],[\"age\",-0.0016817812050351278],[\"age\",-0.0012201358992612226],[\"age\",-0.0008249103563498814],[\"age\",-0.00051475469886846],[\"age\",-0.000294762128243576],[\"age\",-0.00015436130501588527],[\"age\",-7.377934473568612e-05],[\"age\",-3.214803699398086e-05],[\"age\",-1.2761439073681624e-05],[\"age\",-4.613110529736259e-06],[\"age\",-1.5182092078594146e-06],[\"age\",-4.5483035536545355e-07],[\"age\",-1.24024888299744e-07],[\"age\",-3.0781258909124835e-08],[\"age\",-6.95292717874501e-09],[\"age\",6.95292717874501e-09],[\"age\",3.0781258909124835e-08],[\"age\",1.24024888299744e-07],[\"age\",4.5483035536545355e-07],[\"age\",1.5182092078594146e-06],[\"age\",4.613110529736259e-06],[\"age\",1.2761439073681624e-05],[\"age\",3.214803699398086e-05],[\"age\",7.377934473568612e-05],[\"age\",0.00015436130501588527],[\"age\",0.000294762128243576],[\"age\",0.00051475469886846],[\"age\",0.0008249103563498814],[\"age\",0.0012201358992612226],[\"age\",0.0016817812050351278],[\"age\",0.002192799468999802],[\"age\",0.0027619118261561046],[\"age\",0.0034425369576888496],[\"age\",0.0043290427909941165],[\"age\",0.0055229685986699344],[\"age\",0.007082401531518921],[\"age\",0.008985902226957351],[\"age\",0.01114273800359538],[\"age\",0.013456827085099066],[\"age\",0.015913285107691744],[\"age\",0.018630024752029805],[\"age\",0.02182773523802452],[\"age\",0.025720826713537526],[\"age\",0.030388201321976102],[\"age\",0.03570342794057911],[\"age\",0.041371243194064655],[\"age\",0.047054457920855206],[\"age\",0.05252616311151423],[\"age\",0.057775047343871205],[\"age\",0.0630220293216866],[\"age\",0.0686483923956772],[\"age\",0.0750660591831346],[\"age\",0.08257314626968724],[\"age\",0.09123899098354553],[\"age\",0.10085821514447982],[\"age\",0.11099943995445552],[\"age\",0.12114431314052494],[\"age\",0.1308722871046289],[\"age\",0.1400189347504839],[\"age\",0.1487433432148135],[\"age\",0.15748288045140602],[\"age\",0.16682490238727776],[\"age\",0.1773538480761944],[\"age\",0.1895265902214236],[\"age\",0.2036002894131281],[\"age\",0.21960813719749625],[\"age\",0.23736670170288843],[\"age\",0.256504027647443],[\"age\",0.27650435978737437],[\"age\",0.2967612091957491],[\"age\",0.3166245845083641],[\"age\",0.33543840432747635],[\"age\",0.3525843659978798],[\"age\",0.36754632719748503],[\"age\",0.37997018711819325],[\"age\",0.38965645631105494],[\"age\",0.3964414310881571],[\"age\",0.4],[\"age\",0.39967509268786894],[\"age\",0.3944451989787397],[\"age\",0.3830866734509827],[\"age\",0.3645190867240611],[\"age\",0.3382641474737658],[\"age\",0.3048900453954766],[\"age\",0.26625930825834976],[\"age\",0.22540539639061394],[\"age\",0.18598500184546635],[\"age\",0.15145700533258877],[\"age\",0.12429875486946546],[\"age\",0.10556125645132378],[\"age\",0.09487807883595958],[\"age\",0.09080584980180975],[\"age\",0.09125426252512109],[\"age\",0.09383204691224184],[\"age\",0.0961095856865748],[\"age\",0.09591271530575622],[\"age\",0.09171140331951154],[\"age\",0.08300246176661796],[\"age\",0.0704690881537207],[\"age\",0.05575766328256984],[\"age\",0.04091783918332928],[\"age\",0.027749806914537517],[\"age\",0.01734455477708452],[\"age\",0.009970350418939612],[\"age\",0.005262422111299241],[\"age\",0.0025469260861849924],[\"age\",0.0011291124585328335],[\"age\",0.00045810523687715346],[\"age\",0.00016997374528084596],[\"age\",5.76394218338767e-05],[\"age\",1.7854711077253335e-05],[\"age\",5.0499824540006344e-06],[\"age\",1.3036692076838884e-06],[\"age\",3.0707586500415565e-07],[\"age\",6.597884375515205e-08]],[[\"fare\",-7.292389829672681e-08],[\"fare\",-9.465441985287456e-07],[\"fare\",-9.760825040572744e-06],[\"fare\",-7.993904245659057e-05],[\"fare\",-0.0005193688724910195],[\"fare\",-0.0026729180213289484],[\"fare\",-0.010881164338647949],[\"fare\",-0.03501111499645058],[\"fare\",-0.0890810567172717],[\"fare\",-0.17969467235953915],[\"fare\",-0.28909429405290527],[\"fare\",-0.37511198503629123],[\"fare\",-0.4],[\"fare\",-0.36051237923014084],[\"fare\",-0.28473131366413484],[\"fare\",-0.2051826919012615],[\"fare\",-0.14114479776856],[\"fare\",-0.09817639697507748],[\"fare\",-0.07336904453193432],[\"fare\",-0.060502734269746096],[\"fare\",-0.054016120886676816],[\"fare\",-0.04997477974673351],[\"fare\",-0.04530616989973362],[\"fare\",-0.03829005348974745],[\"fare\",-0.02968199215763494],[\"fare\",-0.02192690018598667],[\"fare\",-0.0167857383179431],[\"fare\",-0.01405640307199834],[\"fare\",-0.012505799141093782],[\"fare\",-0.011367579604083272],[\"fare\",-0.01061588309921714],[\"fare\",-0.010287497668922289],[\"fare\",-0.010060942435480768],[\"fare\",-0.009415516091825504],[\"fare\",-0.008014039186695989],[\"fare\",-0.005982890903268903],[\"fare\",-0.0038412195633109256],[\"fare\",-0.002131668039558554],[\"fare\",-0.00114496347418715],[\"fare\",-0.000939453868298066],[\"fare\",-0.0014620613245424398],[\"fare\",-0.0025464845523679915],[\"fare\",-0.003843631548357165],[\"fare\",-0.004891672432815112],[\"fare\",-0.005337434365694322],[\"fare\",-0.005129630368712698],[\"fare\",-0.004571350233033864],[\"fare\",-0.00416947479366823],[\"fare\",-0.0042728688842781125],[\"fare\",-0.004741739291793452],[\"fare\",-0.004999980330435184],[\"fare\",-0.004523092956496824],[\"fare\",-0.0033314930181011894],[\"fare\",-0.001949365632833005],[\"fare\",-0.000895230948126213],[\"fare\",-0.00032064423199774873],[\"fare\",-8.926571887462863e-05],[\"fare\",-1.928039397068721e-05],[\"fare\",-3.2275840026539565e-06],[\"fare\",-4.185322295858834e-07],[\"fare\",-4.2027932725599e-08],[\"fare\",-3.267627542615993e-09],[\"fare\",-1.9668564726417566e-10],[\"fare\",-9.165082828843729e-12],[\"fare\",-3.3060654194260886e-13],[\"fare\",-9.231894629357531e-15],[\"fare\",-1.9955862232311412e-16],[\"fare\",-3.3392421109613674e-18],[\"fare\",-4.3253516950971226e-20],[\"fare\",-4.3376240310429e-22],[\"fare\",-1.281017518721212e-23],[\"fare\",-1.1139470054758898e-21],[\"fare\",-1.0169693302998958e-19],[\"fare\",-7.186278827675794e-18],[\"fare\",-3.930477100979406e-16],[\"fare\",-1.6639162956743864e-14],[\"fare\",-5.45208574980048e-13],[\"fare\",-1.3827347535415041e-11],[\"fare\",-2.7143139411773177e-10],[\"fare\",-4.124072335903162e-09],[\"fare\",-4.849952320228016e-08],[\"fare\",-4.414623411061912e-07],[\"fare\",-3.110246808222174e-06],[\"fare\",-1.6960593373245074e-05],[\"fare\",-7.15866812901899e-05],[\"fare\",-0.00023386671450515277],[\"fare\",-0.0005913568035371118],[\"fare\",-0.001157379482216261],[\"fare\",-0.0017532625583391902],[\"fare\",-0.002055716093170022],[\"fare\",-0.0018656248213791415],[\"fare\",-0.0013104802638230187],[\"fare\",-0.0007124947298330364],[\"fare\",-0.0002998318924704198],[\"fare\",-9.766051128126922e-05],[\"fare\",-2.4620970021407353e-05],[\"fare\",-4.8043686359551965e-06],[\"fare\",-7.256254141774023e-07],[\"fare\",-8.482690954590625e-08],[\"fare\",-7.675378527343429e-09],[\"fare\",7.675378527343429e-09],[\"fare\",8.482690954590625e-08],[\"fare\",7.256254141774023e-07],[\"fare\",4.8043686359551965e-06],[\"fare\",2.4620970021407353e-05],[\"fare\",9.766051128126922e-05],[\"fare\",0.0002998318924704198],[\"fare\",0.0007124947298330364],[\"fare\",0.0013104802638230187],[\"fare\",0.0018656248213791415],[\"fare\",0.002055716093170022],[\"fare\",0.0017532625583391902],[\"fare\",0.001157379482216261],[\"fare\",0.0005913568035371118],[\"fare\",0.00023386671450515277],[\"fare\",7.15866812901899e-05],[\"fare\",1.6960593373245074e-05],[\"fare\",3.110246808222174e-06],[\"fare\",4.414623411061912e-07],[\"fare\",4.849952320228016e-08],[\"fare\",4.124072335903162e-09],[\"fare\",2.7143139411773177e-10],[\"fare\",1.3827347535415041e-11],[\"fare\",5.45208574980048e-13],[\"fare\",1.6639162956743864e-14],[\"fare\",3.930477100979406e-16],[\"fare\",7.186278827675794e-18],[\"fare\",1.0169693302998958e-19],[\"fare\",1.1139470054758898e-21],[\"fare\",1.281017518721212e-23],[\"fare\",4.3376240310429e-22],[\"fare\",4.3253516950971226e-20],[\"fare\",3.3392421109613674e-18],[\"fare\",1.9955862232311412e-16],[\"fare\",9.231894629357531e-15],[\"fare\",3.3060654194260886e-13],[\"fare\",9.165082828843729e-12],[\"fare\",1.9668564726417566e-10],[\"fare\",3.267627542615993e-09],[\"fare\",4.2027932725599e-08],[\"fare\",4.185322295858834e-07],[\"fare\",3.2275840026539565e-06],[\"fare\",1.928039397068721e-05],[\"fare\",8.926571887462863e-05],[\"fare\",0.00032064423199774873],[\"fare\",0.000895230948126213],[\"fare\",0.001949365632833005],[\"fare\",0.0033314930181011894],[\"fare\",0.004523092956496824],[\"fare\",0.004999980330435184],[\"fare\",0.004741739291793452],[\"fare\",0.0042728688842781125],[\"fare\",0.00416947479366823],[\"fare\",0.004571350233033864],[\"fare\",0.005129630368712698],[\"fare\",0.005337434365694322],[\"fare\",0.004891672432815112],[\"fare\",0.003843631548357165],[\"fare\",0.0025464845523679915],[\"fare\",0.0014620613245424398],[\"fare\",0.000939453868298066],[\"fare\",0.00114496347418715],[\"fare\",0.002131668039558554],[\"fare\",0.0038412195633109256],[\"fare\",0.005982890903268903],[\"fare\",0.008014039186695989],[\"fare\",0.009415516091825504],[\"fare\",0.010060942435480768],[\"fare\",0.010287497668922289],[\"fare\",0.01061588309921714],[\"fare\",0.011367579604083272],[\"fare\",0.012505799141093782],[\"fare\",0.01405640307199834],[\"fare\",0.0167857383179431],[\"fare\",0.02192690018598667],[\"fare\",0.02968199215763494],[\"fare\",0.03829005348974745],[\"fare\",0.04530616989973362],[\"fare\",0.04997477974673351],[\"fare\",0.054016120886676816],[\"fare\",0.060502734269746096],[\"fare\",0.07336904453193432],[\"fare\",0.09817639697507748],[\"fare\",0.14114479776856],[\"fare\",0.2051826919012615],[\"fare\",0.28473131366413484],[\"fare\",0.36051237923014084],[\"fare\",0.4],[\"fare\",0.37511198503629123],[\"fare\",0.28909429405290527],[\"fare\",0.17969467235953915],[\"fare\",0.0890810567172717],[\"fare\",0.03501111499645058],[\"fare\",0.010881164338647949],[\"fare\",0.0026729180213289484],[\"fare\",0.0005193688724910195],[\"fare\",7.993904245659057e-05],[\"fare\",9.760825040572744e-06],[\"fare\",9.465441985287456e-07],[\"fare\",7.292389829672681e-08]]],\"ys\":[{\"__ndarray__\":\"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\",\"dtype\":\"float64\",\"order\":\"little\",\"shape\":[200]},{\"__ndarray__\":\"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\",\"dtype\":\"float64\",\"order\":\"little\",\"shape\":[200]}]},\"selected\":{\"id\":\"2422\"},\"selection_policy\":{\"id\":\"2421\"}},\"id\":\"2374\",\"type\":\"ColumnDataSource\"},{\"attributes\":{},\"id\":\"2408\",\"type\":\"AllLabels\"},{\"attributes\":{\"axis_label\":\"Variable\",\"coordinates\":null,\"formatter\":{\"id\":\"2407\"},\"group\":null,\"major_label_orientation\":1.2217304763960306,\"major_label_policy\":{\"id\":\"2408\"},\"ticker\":{\"id\":\"2347\"}},\"id\":\"2346\",\"type\":\"CategoricalAxis\"},{\"attributes\":{\"fill_alpha\":{\"value\":0.1},\"fill_color\":{\"value\":\"white\"},\"hatch_alpha\":{\"value\":0.1},\"hatch_color\":{\"value\":\"white\"},\"line_alpha\":{\"value\":0.1},\"line_color\":{\"value\":\"white\"},\"x\":{\"field\":\"x\"},\"y\":{\"field\":\"y\"}},\"id\":\"2401\",\"type\":\"Scatter\"},{\"attributes\":{},\"id\":\"2427\",\"type\":\"UnionRenderers\"},{\"attributes\":{\"line_alpha\":{\"value\":0.1},\"x0\":{\"field\":\"x\"},\"x1\":{\"field\":\"x\"},\"y0\":{\"field\":\"y0\"},\"y1\":{\"field\":\"y1\"}},\"id\":\"2385\",\"type\":\"Segment\"},{\"attributes\":{\"overlay\":{\"id\":\"2358\"}},\"id\":\"2356\",\"type\":\"BoxZoomTool\"},{\"attributes\":{\"children\":[{\"id\":\"2337\"}],\"margin\":[0,0,0,0],\"name\":\"Row05000\"},\"id\":\"2333\",\"type\":\"Row\"},{\"attributes\":{},\"id\":\"2428\",\"type\":\"Selection\"},{\"attributes\":{\"axis\":{\"id\":\"2346\"},\"coordinates\":null,\"grid_line_color\":null,\"group\":null,\"ticker\":null},\"id\":\"2348\",\"type\":\"Grid\"},{\"attributes\":{\"coordinates\":null,\"data_source\":{\"id\":\"2390\"},\"glyph\":{\"id\":\"2392\"},\"group\":null,\"hover_glyph\":null,\"muted_glyph\":{\"id\":\"2394\"},\"nonselection_glyph\":{\"id\":\"2393\"},\"selection_glyph\":{\"id\":\"2397\"},\"view\":{\"id\":\"2396\"}},\"id\":\"2395\",\"type\":\"GlyphRenderer\"},{\"attributes\":{},\"id\":\"2354\",\"type\":\"PanTool\"},{\"attributes\":{\"data\":{\"xs\":[[[\"age\",-6.597884375515205e-08],[\"age\",-3.0707586500415565e-07],[\"age\",-1.3036692076838884e-06],[\"age\",-5.0499824540006344e-06],[\"age\",-1.7854711077253335e-05],[\"age\",-5.76394218338767e-05],[\"age\",-0.00016997374528084596],[\"age\",-0.00045810523687715346],[\"age\",-0.0011291124585328335],[\"age\",-0.0025469260861849924],[\"age\",-0.005262422111299241],[\"age\",-0.009970350418939612],[\"age\",-0.01734455477708452],[\"age\",-0.027749806914537517],[\"age\",-0.04091783918332928],[\"age\",-0.05575766328256984],[\"age\",-0.0704690881537207],[\"age\",-0.08300246176661796],[\"age\",-0.09171140331951154],[\"age\",-0.09591271530575622],[\"age\",-0.0961095856865748],[\"age\",-0.09383204691224184],[\"age\",-0.09125426252512109],[\"age\",-0.09080584980180975],[\"age\",-0.09487807883595958],[\"age\",-0.10556125645132378],[\"age\",-0.12429875486946546],[\"age\",-0.15145700533258877],[\"age\",-0.18598500184546635],[\"age\",-0.22540539639061394],[\"age\",-0.26625930825834976],[\"age\",-0.3048900453954766],[\"age\",-0.3382641474737658],[\"age\",-0.3645190867240611],[\"age\",-0.3830866734509827],[\"age\",-0.3944451989787397],[\"age\",-0.39967509268786894],[\"age\",-0.4],[\"age\",-0.3964414310881571],[\"age\",-0.38965645631105494],[\"age\",-0.37997018711819325],[\"age\",-0.36754632719748503],[\"age\",-0.3525843659978798],[\"age\",-0.33543840432747635],[\"age\",-0.3166245845083641],[\"age\",-0.2967612091957491],[\"age\",-0.27650435978737437],[\"age\",-0.256504027647443],[\"age\",-0.23736670170288843],[\"age\",-0.21960813719749625],[\"age\",-0.2036002894131281],[\"age\",-0.1895265902214236],[\"age\",-0.1773538480761944],[\"age\",-0.16682490238727776],[\"age\",-0.15748288045140602],[\"age\",-0.1487433432148135],[\"age\",-0.1400189347504839],[\"age\",-0.1308722871046289],[\"age\",-0.12114431314052494],[\"age\",-0.11099943995445552],[\"age\",-0.10085821514447982],[\"age\",-0.09123899098354553],[\"age\",-0.08257314626968724],[\"age\",-0.0750660591831346],[\"age\",-0.0686483923956772],[\"age\",-0.0630220293216866],[\"age\",-0.057775047343871205],[\"age\",-0.05252616311151423],[\"age\",-0.047054457920855206],[\"age\",-0.041371243194064655],[\"age\",-0.03570342794057911],[\"age\",-0.030388201321976102],[\"age\",-0.025720826713537526],[\"age\",-0.02182773523802452],[\"age\",-0.018630024752029805],[\"age\",-0.015913285107691744],[\"age\",-0.013456827085099066],[\"age\",-0.01114273800359538],[\"age\",-0.008985902226957351],[\"age\",-0.007082401531518921],[\"age\",-0.0055229685986699344],[\"age\",-0.0043290427909941165],[\"age\",-0.0034425369576888496],[\"age\",-0.0027619118261561046],[\"age\",-0.002192799468999802],[\"age\",-0.0016817812050351278],[\"age\",-0.0012201358992612226],[\"age\",-0.0008249103563498814],[\"age\",-0.00051475469886846],[\"age\",-0.000294762128243576],[\"age\",-0.00015436130501588527],[\"age\",-7.377934473568612e-05],[\"age\",-3.214803699398086e-05],[\"age\",-1.2761439073681624e-05],[\"age\",-4.613110529736259e-06],[\"age\",-1.5182092078594146e-06],[\"age\",-4.5483035536545355e-07],[\"age\",-1.24024888299744e-07],[\"age\",-3.0781258909124835e-08],[\"age\",-6.95292717874501e-09],[\"age\",6.95292717874501e-09],[\"age\",3.0781258909124835e-08],[\"age\",1.24024888299744e-07],[\"age\",4.5483035536545355e-07],[\"age\",1.5182092078594146e-06],[\"age\",4.613110529736259e-06],[\"age\",1.2761439073681624e-05],[\"age\",3.214803699398086e-05],[\"age\",7.377934473568612e-05],[\"age\",0.00015436130501588527],[\"age\",0.000294762128243576],[\"age\",0.00051475469886846],[\"age\",0.0008249103563498814],[\"age\",0.0012201358992612226],[\"age\",0.0016817812050351278],[\"age\",0.002192799468999802],[\"age\",0.0027619118261561046],[\"age\",0.0034425369576888496],[\"age\",0.0043290427909941165],[\"age\",0.0055229685986699344],[\"age\",0.007082401531518921],[\"age\",0.008985902226957351],[\"age\",0.01114273800359538],[\"age\",0.013456827085099066],[\"age\",0.015913285107691744],[\"age\",0.018630024752029805],[\"age\",0.02182773523802452],[\"age\",0.025720826713537526],[\"age\",0.030388201321976102],[\"age\",0.03570342794057911],[\"age\",0.041371243194064655],[\"age\",0.047054457920855206],[\"age\",0.05252616311151423],[\"age\",0.057775047343871205],[\"age\",0.0630220293216866],[\"age\",0.0686483923956772],[\"age\",0.0750660591831346],[\"age\",0.08257314626968724],[\"age\",0.09123899098354553],[\"age\",0.10085821514447982],[\"age\",0.11099943995445552],[\"age\",0.12114431314052494],[\"age\",0.1308722871046289],[\"age\",0.1400189347504839],[\"age\",0.1487433432148135],[\"age\",0.15748288045140602],[\"age\",0.16682490238727776],[\"age\",0.1773538480761944],[\"age\",0.1895265902214236],[\"age\",0.2036002894131281],[\"age\",0.21960813719749625],[\"age\",0.23736670170288843],[\"age\",0.256504027647443],[\"age\",0.27650435978737437],[\"age\",0.2967612091957491],[\"age\",0.3166245845083641],[\"age\",0.33543840432747635],[\"age\",0.3525843659978798],[\"age\",0.36754632719748503],[\"age\",0.37997018711819325],[\"age\",0.38965645631105494],[\"age\",0.3964414310881571],[\"age\",0.4],[\"age\",0.39967509268786894],[\"age\",0.3944451989787397],[\"age\",0.3830866734509827],[\"age\",0.3645190867240611],[\"age\",0.3382641474737658],[\"age\",0.3048900453954766],[\"age\",0.26625930825834976],[\"age\",0.22540539639061394],[\"age\",0.18598500184546635],[\"age\",0.15145700533258877],[\"age\",0.12429875486946546],[\"age\",0.10556125645132378],[\"age\",0.09487807883595958],[\"age\",0.09080584980180975],[\"age\",0.09125426252512109],[\"age\",0.09383204691224184],[\"age\",0.0961095856865748],[\"age\",0.09591271530575622],[\"age\",0.09171140331951154],[\"age\",0.08300246176661796],[\"age\",0.0704690881537207],[\"age\",0.05575766328256984],[\"age\",0.04091783918332928],[\"age\",0.027749806914537517],[\"age\",0.01734455477708452],[\"age\",0.009970350418939612],[\"age\",0.005262422111299241],[\"age\",0.0025469260861849924],[\"age\",0.0011291124585328335],[\"age\",0.00045810523687715346],[\"age\",0.00016997374528084596],[\"age\",5.76394218338767e-05],[\"age\",1.7854711077253335e-05],[\"age\",5.0499824540006344e-06],[\"age\",1.3036692076838884e-06],[\"age\",3.0707586500415565e-07],[\"age\",6.597884375515205e-08]],[[\"fare\",-7.292389829672681e-08],[\"fare\",-9.465441985287456e-07],[\"fare\",-9.760825040572744e-06],[\"fare\",-7.993904245659057e-05],[\"fare\",-0.0005193688724910195],[\"fare\",-0.0026729180213289484],[\"fare\",-0.010881164338647949],[\"fare\",-0.03501111499645058],[\"fare\",-0.0890810567172717],[\"fare\",-0.17969467235953915],[\"fare\",-0.28909429405290527],[\"fare\",-0.37511198503629123],[\"fare\",-0.4],[\"fare\",-0.36051237923014084],[\"fare\",-0.28473131366413484],[\"fare\",-0.2051826919012615],[\"fare\",-0.14114479776856],[\"fare\",-0.09817639697507748],[\"fare\",-0.07336904453193432],[\"fare\",-0.060502734269746096],[\"fare\",-0.054016120886676816],[\"fare\",-0.04997477974673351],[\"fare\",-0.04530616989973362],[\"fare\",-0.03829005348974745],[\"fare\",-0.02968199215763494],[\"fare\",-0.02192690018598667],[\"fare\",-0.0167857383179431],[\"fare\",-0.01405640307199834],[\"fare\",-0.012505799141093782],[\"fare\",-0.011367579604083272],[\"fare\",-0.01061588309921714],[\"fare\",-0.010287497668922289],[\"fare\",-0.010060942435480768],[\"fare\",-0.009415516091825504],[\"fare\",-0.008014039186695989],[\"fare\",-0.005982890903268903],[\"fare\",-0.0038412195633109256],[\"fare\",-0.002131668039558554],[\"fare\",-0.00114496347418715],[\"fare\",-0.000939453868298066],[\"fare\",-0.0014620613245424398],[\"fare\",-0.0025464845523679915],[\"fare\",-0.003843631548357165],[\"fare\",-0.004891672432815112],[\"fare\",-0.005337434365694322],[\"fare\",-0.005129630368712698],[\"fare\",-0.004571350233033864],[\"fare\",-0.00416947479366823],[\"fare\",-0.0042728688842781125],[\"fare\",-0.004741739291793452],[\"fare\",-0.004999980330435184],[\"fare\",-0.004523092956496824],[\"fare\",-0.0033314930181011894],[\"fare\",-0.001949365632833005],[\"fare\",-0.000895230948126213],[\"fare\",-0.00032064423199774873],[\"fare\",-8.926571887462863e-05],[\"fare\",-1.928039397068721e-05],[\"fare\",-3.2275840026539565e-06],[\"fare\",-4.185322295858834e-07],[\"fare\",-4.2027932725599e-08],[\"fare\",-3.267627542615993e-09],[\"fare\",-1.9668564726417566e-10],[\"fare\",-9.165082828843729e-12],[\"fare\",-3.3060654194260886e-13],[\"fare\",-9.231894629357531e-15],[\"fare\",-1.9955862232311412e-16],[\"fare\",-3.3392421109613674e-18],[\"fare\",-4.3253516950971226e-20],[\"fare\",-4.3376240310429e-22],[\"fare\",-1.281017518721212e-23],[\"fare\",-1.1139470054758898e-21],[\"fare\",-1.0169693302998958e-19],[\"fare\",-7.186278827675794e-18],[\"fare\",-3.930477100979406e-16],[\"fare\",-1.6639162956743864e-14],[\"fare\",-5.45208574980048e-13],[\"fare\",-1.3827347535415041e-11],[\"fare\",-2.7143139411773177e-10],[\"fare\",-4.124072335903162e-09],[\"fare\",-4.849952320228016e-08],[\"fare\",-4.414623411061912e-07],[\"fare\",-3.110246808222174e-06],[\"fare\",-1.6960593373245074e-05],[\"fare\",-7.15866812901899e-05],[\"fare\",-0.00023386671450515277],[\"fare\",-0.0005913568035371118],[\"fare\",-0.001157379482216261],[\"fare\",-0.0017532625583391902],[\"fare\",-0.002055716093170022],[\"fare\",-0.0018656248213791415],[\"fare\",-0.0013104802638230187],[\"fare\",-0.0007124947298330364],[\"fare\",-0.0002998318924704198],[\"fare\",-9.766051128126922e-05],[\"fare\",-2.4620970021407353e-05],[\"fare\",-4.8043686359551965e-06],[\"fare\",-7.256254141774023e-07],[\"fare\",-8.482690954590625e-08],[\"fare\",-7.675378527343429e-09],[\"fare\",7.675378527343429e-09],[\"fare\",8.482690954590625e-08],[\"fare\",7.256254141774023e-07],[\"fare\",4.8043686359551965e-06],[\"fare\",2.4620970021407353e-05],[\"fare\",9.766051128126922e-05],[\"fare\",0.0002998318924704198],[\"fare\",0.0007124947298330364],[\"fare\",0.0013104802638230187],[\"fare\",0.0018656248213791415],[\"fare\",0.002055716093170022],[\"fare\",0.0017532625583391902],[\"fare\",0.001157379482216261],[\"fare\",0.0005913568035371118],[\"fare\",0.00023386671450515277],[\"fare\",7.15866812901899e-05],[\"fare\",1.6960593373245074e-05],[\"fare\",3.110246808222174e-06],[\"fare\",4.414623411061912e-07],[\"fare\",4.849952320228016e-08],[\"fare\",4.124072335903162e-09],[\"fare\",2.7143139411773177e-10],[\"fare\",1.3827347535415041e-11],[\"fare\",5.45208574980048e-13],[\"fare\",1.6639162956743864e-14],[\"fare\",3.930477100979406e-16],[\"fare\",7.186278827675794e-18],[\"fare\",1.0169693302998958e-19],[\"fare\",1.1139470054758898e-21],[\"fare\",1.281017518721212e-23],[\"fare\",4.3376240310429e-22],[\"fare\",4.3253516950971226e-20],[\"fare\",3.3392421109613674e-18],[\"fare\",1.9955862232311412e-16],[\"fare\",9.231894629357531e-15],[\"fare\",3.3060654194260886e-13],[\"fare\",9.165082828843729e-12],[\"fare\",1.9668564726417566e-10],[\"fare\",3.267627542615993e-09],[\"fare\",4.2027932725599e-08],[\"fare\",4.185322295858834e-07],[\"fare\",3.2275840026539565e-06],[\"fare\",1.928039397068721e-05],[\"fare\",8.926571887462863e-05],[\"fare\",0.00032064423199774873],[\"fare\",0.000895230948126213],[\"fare\",0.001949365632833005],[\"fare\",0.0033314930181011894],[\"fare\",0.004523092956496824],[\"fare\",0.004999980330435184],[\"fare\",0.004741739291793452],[\"fare\",0.0042728688842781125],[\"fare\",0.00416947479366823],[\"fare\",0.004571350233033864],[\"fare\",0.005129630368712698],[\"fare\",0.005337434365694322],[\"fare\",0.004891672432815112],[\"fare\",0.003843631548357165],[\"fare\",0.0025464845523679915],[\"fare\",0.0014620613245424398],[\"fare\",0.000939453868298066],[\"fare\",0.00114496347418715],[\"fare\",0.002131668039558554],[\"fare\",0.0038412195633109256],[\"fare\",0.005982890903268903],[\"fare\",0.008014039186695989],[\"fare\",0.009415516091825504],[\"fare\",0.010060942435480768],[\"fare\",0.010287497668922289],[\"fare\",0.01061588309921714],[\"fare\",0.011367579604083272],[\"fare\",0.012505799141093782],[\"fare\",0.01405640307199834],[\"fare\",0.0167857383179431],[\"fare\",0.02192690018598667],[\"fare\",0.02968199215763494],[\"fare\",0.03829005348974745],[\"fare\",0.04530616989973362],[\"fare\",0.04997477974673351],[\"fare\",0.054016120886676816],[\"fare\",0.060502734269746096],[\"fare\",0.07336904453193432],[\"fare\",0.09817639697507748],[\"fare\",0.14114479776856],[\"fare\",0.2051826919012615],[\"fare\",0.28473131366413484],[\"fare\",0.36051237923014084],[\"fare\",0.4],[\"fare\",0.37511198503629123],[\"fare\",0.28909429405290527],[\"fare\",0.17969467235953915],[\"fare\",0.0890810567172717],[\"fare\",0.03501111499645058],[\"fare\",0.010881164338647949],[\"fare\",0.0026729180213289484],[\"fare\",0.0005193688724910195],[\"fare\",7.993904245659057e-05],[\"fare\",9.760825040572744e-06],[\"fare\",9.465441985287456e-07],[\"fare\",7.292389829672681e-08]]],\"ys\":[{\"__ndarray__\":\"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\",\"dtype\":\"float64\",\"order\":\"little\",\"shape\":[200]},{\"__ndarray__\":\"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\",\"dtype\":\"float64\",\"order\":\"little\",\"shape\":[200]}]},\"selected\":{\"id\":\"2420\"},\"selection_policy\":{\"id\":\"2419\"}},\"id\":\"2366\",\"type\":\"ColumnDataSource\"},{\"attributes\":{},\"id\":\"2350\",\"type\":\"BasicTicker\"},{\"attributes\":{},\"id\":\"2353\",\"type\":\"SaveTool\"},{\"attributes\":{},\"id\":\"2355\",\"type\":\"WheelZoomTool\"},{\"attributes\":{\"callback\":null,\"renderers\":[{\"id\":\"2395\"}],\"tags\":[\"hv_created\"],\"tooltips\":[[\"Variable\",\"@{Variable}\"],[\"value\",\"@{value}\"]]},\"id\":\"2336\",\"type\":\"HoverTool\"},{\"attributes\":{\"fill_alpha\":{\"value\":0.5},\"fill_color\":{\"value\":\"#30a2da\"},\"line_color\":{\"value\":\"#1f77b4\"},\"line_width\":{\"value\":0},\"xs\":{\"field\":\"xs\"},\"ys\":{\"field\":\"ys\"}},\"id\":\"2368\",\"type\":\"Patches\"},{\"attributes\":{\"bottom\":{\"field\":\"bottom\"},\"fill_alpha\":{\"value\":1.0},\"fill_color\":{\"value\":\"black\"},\"hatch_alpha\":{\"value\":1.0},\"hatch_color\":{\"value\":\"black\"},\"hatch_scale\":{\"value\":12.0},\"hatch_weight\":{\"value\":1.0},\"line_alpha\":{\"value\":1.0},\"line_cap\":{\"value\":\"butt\"},\"line_color\":{\"value\":\"black\"},\"line_dash\":{\"value\":[]},\"line_dash_offset\":{\"value\":0},\"line_join\":{\"value\":\"bevel\"},\"line_width\":{\"value\":1},\"top\":{\"field\":\"top\"},\"width\":{\"value\":0.1},\"x\":{\"field\":\"x\"}},\"id\":\"2397\",\"type\":\"VBar\"},{\"attributes\":{},\"id\":\"2357\",\"type\":\"ResetTool\"},{\"attributes\":{\"factors\":[\"age\",\"fare\"],\"tags\":[[[\"Variable\",\"Variable\",null]]]},\"id\":\"2334\",\"type\":\"FactorRange\"},{\"attributes\":{\"bottom_units\":\"screen\",\"coordinates\":null,\"fill_alpha\":0.5,\"fill_color\":\"lightgrey\",\"group\":null,\"left_units\":\"screen\",\"level\":\"overlay\",\"line_alpha\":1.0,\"line_color\":\"black\",\"line_dash\":[4,4],\"line_width\":2,\"right_units\":\"screen\",\"syncable\":false,\"top_units\":\"screen\"},\"id\":\"2358\",\"type\":\"BoxAnnotation\"},{\"attributes\":{\"angle\":{\"value\":0.0},\"fill_alpha\":{\"value\":1.0},\"fill_color\":{\"value\":\"white\"},\"hatch_alpha\":{\"value\":1.0},\"hatch_color\":{\"value\":\"white\"},\"hatch_scale\":{\"value\":12.0},\"hatch_weight\":{\"value\":1.0},\"line_alpha\":{\"value\":1.0},\"line_cap\":{\"value\":\"butt\"},\"line_color\":{\"value\":\"white\"},\"line_dash\":{\"value\":[]},\"line_dash_offset\":{\"value\":0},\"line_join\":{\"value\":\"bevel\"},\"line_width\":{\"value\":1},\"marker\":{\"value\":\"circle\"},\"size\":{\"value\":4},\"x\":{\"field\":\"x\"},\"y\":{\"field\":\"y\"}},\"id\":\"2405\",\"type\":\"Scatter\"},{\"attributes\":{},\"id\":\"2419\",\"type\":\"UnionRenderers\"},{\"attributes\":{\"client_comm_id\":\"e152c3cd506f4aa281e54d2c7bb29ee1\",\"comm_id\":\"b7c8804bf0f94439b03f5a6be6519252\",\"plot_id\":\"2333\"},\"id\":\"2502\",\"type\":\"panel.models.comm_manager.CommManager\"},{\"attributes\":{},\"id\":\"2420\",\"type\":\"Selection\"},{\"attributes\":{\"fill_alpha\":{\"value\":0.5},\"fill_color\":{\"value\":\"#30a2da\"},\"hatch_alpha\":{\"value\":0.2},\"line_alpha\":{\"value\":0.2},\"line_color\":{\"value\":\"#1f77b4\"},\"line_width\":{\"value\":0},\"xs\":{\"field\":\"xs\"},\"ys\":{\"field\":\"ys\"}},\"id\":\"2370\",\"type\":\"Patches\"},{\"attributes\":{\"end\":10.835581096311659,\"reset_end\":10.835581096311659,\"reset_start\":-3.185393759266196,\"start\":-3.185393759266196,\"tags\":[[[\"value\",\"value\",null]]]},\"id\":\"2335\",\"type\":\"Range1d\"},{\"attributes\":{},\"id\":\"2407\",\"type\":\"CategoricalTickFormatter\"},{\"attributes\":{\"line_alpha\":{\"value\":1.0},\"line_cap\":{\"value\":\"butt\"},\"line_color\":{\"value\":\"black\"},\"line_dash\":{\"value\":[]},\"line_dash_offset\":{\"value\":0},\"line_join\":{\"value\":\"bevel\"},\"line_width\":{\"value\":1},\"x0\":{\"field\":\"x\"},\"x1\":{\"field\":\"x\"},\"y0\":{\"field\":\"y0\"},\"y1\":{\"field\":\"y1\"}},\"id\":\"2389\",\"type\":\"Segment\"},{\"attributes\":{\"bottom\":{\"field\":\"bottom\"},\"fill_color\":{\"value\":\"black\"},\"top\":{\"field\":\"top\"},\"width\":{\"value\":0.1},\"x\":{\"field\":\"x\"}},\"id\":\"2392\",\"type\":\"VBar\"},{\"attributes\":{\"source\":{\"id\":\"2366\"}},\"id\":\"2372\",\"type\":\"CDSView\"},{\"attributes\":{\"fill_alpha\":{\"value\":0.2},\"fill_color\":{\"value\":\"white\"},\"hatch_alpha\":{\"value\":0.2},\"hatch_color\":{\"value\":\"white\"},\"line_alpha\":{\"value\":0.2},\"line_color\":{\"value\":\"white\"},\"x\":{\"field\":\"x\"},\"y\":{\"field\":\"y\"}},\"id\":\"2402\",\"type\":\"Scatter\"},{\"attributes\":{\"fill_alpha\":{\"value\":0.5},\"fill_color\":{\"value\":\"#30a2da\"},\"hatch_alpha\":{\"value\":0.1},\"line_alpha\":{\"value\":0.1},\"line_color\":{\"value\":\"#1f77b4\"},\"line_width\":{\"value\":0},\"xs\":{\"field\":\"xs\"},\"ys\":{\"field\":\"ys\"}},\"id\":\"2369\",\"type\":\"Patches\"},{\"attributes\":{\"tools\":[{\"id\":\"2336\"},{\"id\":\"2353\"},{\"id\":\"2354\"},{\"id\":\"2355\"},{\"id\":\"2356\"},{\"id\":\"2357\"}]},\"id\":\"2359\",\"type\":\"Toolbar\"},{\"attributes\":{},\"id\":\"2410\",\"type\":\"BasicTickFormatter\"},{\"attributes\":{},\"id\":\"2421\",\"type\":\"UnionRenderers\"},{\"attributes\":{\"line_alpha\":{\"value\":0.2},\"xs\":{\"field\":\"xs\"},\"ys\":{\"field\":\"ys\"}},\"id\":\"2378\",\"type\":\"MultiLine\"},{\"attributes\":{},\"id\":\"2422\",\"type\":\"Selection\"},{\"attributes\":{\"line_alpha\":{\"value\":1.0},\"line_cap\":{\"value\":\"butt\"},\"line_color\":{\"value\":\"black\"},\"line_dash\":{\"value\":[]},\"line_dash_offset\":{\"value\":0},\"line_join\":{\"value\":\"bevel\"},\"line_width\":{\"value\":1},\"xs\":{\"field\":\"xs\"},\"ys\":{\"field\":\"ys\"}},\"id\":\"2381\",\"type\":\"MultiLine\"},{\"attributes\":{\"xs\":{\"field\":\"xs\"},\"ys\":{\"field\":\"ys\"}},\"id\":\"2376\",\"type\":\"MultiLine\"},{\"attributes\":{\"source\":{\"id\":\"2398\"}},\"id\":\"2404\",\"type\":\"CDSView\"},{\"attributes\":{\"coordinates\":null,\"data_source\":{\"id\":\"2398\"},\"glyph\":{\"id\":\"2400\"},\"group\":null,\"hover_glyph\":null,\"muted_glyph\":{\"id\":\"2402\"},\"nonselection_glyph\":{\"id\":\"2401\"},\"selection_glyph\":{\"id\":\"2405\"},\"view\":{\"id\":\"2404\"}},\"id\":\"2403\",\"type\":\"GlyphRenderer\"},{\"attributes\":{\"coordinates\":null,\"data_source\":{\"id\":\"2366\"},\"glyph\":{\"id\":\"2368\"},\"group\":null,\"hover_glyph\":null,\"muted_glyph\":{\"id\":\"2370\"},\"nonselection_glyph\":{\"id\":\"2369\"},\"selection_glyph\":{\"id\":\"2373\"},\"view\":{\"id\":\"2372\"}},\"id\":\"2371\",\"type\":\"GlyphRenderer\"},{\"attributes\":{\"bottom\":{\"field\":\"bottom\"},\"fill_alpha\":{\"value\":0.2},\"fill_color\":{\"value\":\"black\"},\"hatch_alpha\":{\"value\":0.2},\"line_alpha\":{\"value\":0.2},\"top\":{\"field\":\"top\"},\"width\":{\"value\":0.1},\"x\":{\"field\":\"x\"}},\"id\":\"2394\",\"type\":\"VBar\"},{\"attributes\":{\"line_alpha\":{\"value\":0.1},\"xs\":{\"field\":\"xs\"},\"ys\":{\"field\":\"ys\"}},\"id\":\"2377\",\"type\":\"MultiLine\"},{\"attributes\":{\"source\":{\"id\":\"2374\"}},\"id\":\"2380\",\"type\":\"CDSView\"},{\"attributes\":{\"data\":{\"x\":[[\"age\",0],[\"fare\",0]],\"y0\":{\"__ndarray__\":\"c0gI/MUiAMAW+X7E3r/kvw==\",\"dtype\":\"float64\",\"order\":\"little\",\"shape\":[2]},\"y1\":{\"__ndarray__\":\"QaIlw0HnAkC1rjqzciHlPw==\",\"dtype\":\"float64\",\"order\":\"little\",\"shape\":[2]}},\"selected\":{\"id\":\"2424\"},\"selection_policy\":{\"id\":\"2423\"}},\"id\":\"2382\",\"type\":\"ColumnDataSource\"},{\"attributes\":{},\"id\":\"2411\",\"type\":\"AllLabels\"},{\"attributes\":{\"coordinates\":null,\"data_source\":{\"id\":\"2382\"},\"glyph\":{\"id\":\"2384\"},\"group\":null,\"hover_glyph\":null,\"muted_glyph\":{\"id\":\"2386\"},\"nonselection_glyph\":{\"id\":\"2385\"},\"selection_glyph\":{\"id\":\"2389\"},\"view\":{\"id\":\"2388\"}},\"id\":\"2387\",\"type\":\"GlyphRenderer\"},{\"attributes\":{\"fill_alpha\":{\"value\":0.5},\"fill_color\":{\"value\":\"#30a2da\"},\"hatch_alpha\":{\"value\":1.0},\"hatch_color\":{\"value\":\"black\"},\"hatch_scale\":{\"value\":12.0},\"hatch_weight\":{\"value\":1.0},\"line_alpha\":{\"value\":1.0},\"line_cap\":{\"value\":\"butt\"},\"line_color\":{\"value\":\"#1f77b4\"},\"line_dash\":{\"value\":[]},\"line_dash_offset\":{\"value\":0},\"line_join\":{\"value\":\"bevel\"},\"line_width\":{\"value\":0},\"xs\":{\"field\":\"xs\"},\"ys\":{\"field\":\"ys\"}},\"id\":\"2373\",\"type\":\"Patches\"},{\"attributes\":{},\"id\":\"2423\",\"type\":\"UnionRenderers\"},{\"attributes\":{\"fill_color\":{\"value\":\"white\"},\"hatch_color\":{\"value\":\"white\"},\"line_color\":{\"value\":\"white\"},\"x\":{\"field\":\"x\"},\"y\":{\"field\":\"y\"}},\"id\":\"2400\",\"type\":\"Scatter\"},{\"attributes\":{\"data\":{\"x\":[[\"age\",0],[\"fare\",0]],\"y\":{\"__ndarray__\":\"ivwnoOj2vb/yxsHnfd/Wvw==\",\"dtype\":\"float64\",\"order\":\"little\",\"shape\":[2]}},\"selected\":{\"id\":\"2428\"},\"selection_policy\":{\"id\":\"2427\"}},\"id\":\"2398\",\"type\":\"ColumnDataSource\"},{\"attributes\":{},\"id\":\"2424\",\"type\":\"Selection\"},{\"attributes\":{\"line_alpha\":{\"value\":0.2},\"x0\":{\"field\":\"x\"},\"x1\":{\"field\":\"x\"},\"y0\":{\"field\":\"y0\"},\"y1\":{\"field\":\"y1\"}},\"id\":\"2386\",\"type\":\"Segment\"},{\"attributes\":{\"source\":{\"id\":\"2390\"}},\"id\":\"2396\",\"type\":\"CDSView\"},{\"attributes\":{\"x0\":{\"field\":\"x\"},\"x1\":{\"field\":\"x\"},\"y0\":{\"field\":\"y0\"},\"y1\":{\"field\":\"y1\"}},\"id\":\"2384\",\"type\":\"Segment\"},{\"attributes\":{\"bottom\":{\"field\":\"bottom\"},\"fill_alpha\":{\"value\":0.1},\"fill_color\":{\"value\":\"black\"},\"hatch_alpha\":{\"value\":0.1},\"line_alpha\":{\"value\":0.1},\"top\":{\"field\":\"top\"},\"width\":{\"value\":0.1},\"x\":{\"field\":\"x\"}},\"id\":\"2393\",\"type\":\"VBar\"}],\"root_ids\":[\"2333\",\"2502\"]},\"title\":\"Bokeh Application\",\"version\":\"2.4.3\"}};\n",
       "    var render_items = [{\"docid\":\"521891e0-708e-4695-80ba-b8da3c3a33ab\",\"root_ids\":[\"2333\"],\"roots\":{\"2333\":\"388f935c-be5f-409d-957d-b8eb80042abf\"}}];\n",
       "    root.Bokeh.embed.embed_items_notebook(docs_json, render_items);\n",
       "  }\n",
       "  if (root.Bokeh !== undefined && root.Bokeh.Panel !== undefined) {\n",
       "    embed_document(root);\n",
       "  } else {\n",
       "    var attempts = 0;\n",
       "    var timer = setInterval(function(root) {\n",
       "      if (root.Bokeh !== undefined && root.Bokeh.Panel !== undefined) {\n",
       "        clearInterval(timer);\n",
       "        embed_document(root);\n",
       "      } else if (document.readyState == \"complete\") {\n",
       "        attempts++;\n",
       "        if (attempts > 200) {\n",
       "          clearInterval(timer);\n",
       "          console.log(\"Bokeh: ERROR: Unable to run BokehJS code because BokehJS library is missing\");\n",
       "        }\n",
       "      }\n",
       "    }, 25, root)\n",
       "  }\n",
       "})(window);</script>"
      ],
      "text/plain": [
       "HoloViews(Violin)"
      ]
     },
     "metadata": {
      "application/vnd.holoviews_exec.v0+json": {
       "id": "2333"
      }
     },
     "output_type": "display_data"
    },
    {
     "name": "stdout",
     "output_type": "stream",
     "text": [
      "No date vars could be found in data set\n"
     ]
    },
    {
     "data": {},
     "metadata": {},
     "output_type": "display_data"
    },
    {
     "data": {},
     "metadata": {},
     "output_type": "display_data"
    },
    {
     "data": {
      "application/vnd.holoviews_exec.v0+json": "",
      "text/html": [
       "<div id='2593'>\n",
       "  <div class=\"bk-root\" id=\"cdb0e8fb-4d16-43bb-93ec-58bc14e33900\" data-root-id=\"2593\"></div>\n",
       "</div>\n",
       "<script type=\"application/javascript\">(function(root) {\n",
       "  function embed_document(root) {\n",
       "    var docs_json = {\"a9aba653-da85-4097-94d6-528ecf3417ab\":{\"defs\":[{\"extends\":null,\"module\":null,\"name\":\"ReactiveHTML1\",\"overrides\":[],\"properties\":[]},{\"extends\":null,\"module\":null,\"name\":\"FlexBox1\",\"overrides\":[],\"properties\":[{\"default\":\"flex-start\",\"kind\":null,\"name\":\"align_content\"},{\"default\":\"flex-start\",\"kind\":null,\"name\":\"align_items\"},{\"default\":\"row\",\"kind\":null,\"name\":\"flex_direction\"},{\"default\":\"wrap\",\"kind\":null,\"name\":\"flex_wrap\"},{\"default\":\"flex-start\",\"kind\":null,\"name\":\"justify_content\"}]},{\"extends\":null,\"module\":null,\"name\":\"TemplateActions1\",\"overrides\":[],\"properties\":[{\"default\":0,\"kind\":null,\"name\":\"open_modal\"},{\"default\":0,\"kind\":null,\"name\":\"close_modal\"}]},{\"extends\":null,\"module\":null,\"name\":\"MaterialTemplateActions1\",\"overrides\":[],\"properties\":[{\"default\":0,\"kind\":null,\"name\":\"open_modal\"},{\"default\":0,\"kind\":null,\"name\":\"close_modal\"}]}],\"roots\":{\"references\":[{\"attributes\":{\"high\":1.0,\"low\":0.09606669176903912,\"nan_color\":\"white\",\"palette\":[\"#75968f\",\"#a5bab7\",\"#c9d9d3\",\"#e2e2e2\",\"#dfccce\",\"#ddb7b1\",\"#cc7878\",\"#933b41\",\"#550b1d\"]},\"id\":\"2631\",\"type\":\"LinearColorMapper\"},{\"attributes\":{},\"id\":\"2660\",\"type\":\"UnionRenderers\"},{\"attributes\":{\"below\":[{\"id\":\"2606\"}],\"center\":[{\"id\":\"2608\"},{\"id\":\"2611\"}],\"height\":500,\"left\":[{\"id\":\"2609\"}],\"margin\":[5,5,5,5],\"min_border_bottom\":10,\"min_border_left\":10,\"min_border_right\":10,\"min_border_top\":10,\"renderers\":[{\"id\":\"2639\"},{\"id\":\"2649\"}],\"right\":[{\"id\":\"2642\"}],\"sizing_mode\":\"fixed\",\"title\":{\"id\":\"2598\"},\"toolbar\":{\"id\":\"2618\"},\"toolbar_location\":\"above\",\"x_range\":{\"id\":\"2594\"},\"x_scale\":{\"id\":\"2602\"},\"y_range\":{\"id\":\"2595\"},\"y_scale\":{\"id\":\"2604\"}},\"id\":\"2597\",\"subtype\":\"Figure\",\"type\":\"Plot\"},{\"attributes\":{\"text\":{\"field\":\"value\"},\"text_align\":{\"value\":\"center\"},\"text_alpha\":{\"value\":0.1},\"text_baseline\":{\"value\":\"middle\"},\"text_color\":{\"value\":\"black\"},\"text_font_size\":{\"value\":\"7pt\"},\"x\":{\"field\":\"columns\"},\"y\":{\"field\":\"index\"}},\"id\":\"2647\",\"type\":\"Text\"},{\"attributes\":{\"fill_alpha\":{\"value\":0.2},\"fill_color\":{\"field\":\"zvalues\",\"transform\":{\"id\":\"2631\"}},\"hatch_alpha\":{\"value\":0.2},\"height\":{\"value\":1},\"line_alpha\":{\"value\":0},\"line_color\":{\"value\":\"#1f77b4\"},\"width\":{\"value\":1},\"x\":{\"field\":\"columns\"},\"y\":{\"field\":\"index\"}},\"id\":\"2638\",\"type\":\"Rect\"},{\"attributes\":{},\"id\":\"2612\",\"type\":\"SaveTool\"},{\"attributes\":{\"fill_color\":{\"field\":\"zvalues\",\"transform\":{\"id\":\"2631\"}},\"height\":{\"value\":1},\"line_alpha\":{\"value\":0},\"line_color\":{\"value\":\"#1f77b4\"},\"width\":{\"value\":1},\"x\":{\"field\":\"columns\"},\"y\":{\"field\":\"index\"}},\"id\":\"2635\",\"type\":\"Rect\"},{\"attributes\":{},\"id\":\"2613\",\"type\":\"PanTool\"},{\"attributes\":{\"axis\":{\"id\":\"2609\"},\"coordinates\":null,\"dimension\":1,\"grid_line_color\":null,\"group\":null,\"ticker\":null},\"id\":\"2611\",\"type\":\"Grid\"},{\"attributes\":{},\"id\":\"2626\",\"type\":\"CategoricalTickFormatter\"},{\"attributes\":{\"text\":{\"field\":\"value\"},\"text_align\":{\"value\":\"center\"},\"text_alpha\":{\"value\":0.2},\"text_baseline\":{\"value\":\"middle\"},\"text_color\":{\"value\":\"black\"},\"text_font_size\":{\"value\":\"7pt\"},\"x\":{\"field\":\"columns\"},\"y\":{\"field\":\"index\"}},\"id\":\"2648\",\"type\":\"Text\"},{\"attributes\":{\"axis_label\":\"\",\"coordinates\":null,\"formatter\":{\"id\":\"2629\"},\"group\":null,\"major_label_policy\":{\"id\":\"2630\"},\"ticker\":{\"id\":\"2610\"}},\"id\":\"2609\",\"type\":\"CategoricalAxis\"},{\"attributes\":{\"fill_color\":{\"field\":\"zvalues\",\"transform\":{\"id\":\"2631\"}},\"height\":{\"value\":1},\"line_alpha\":{\"value\":0},\"line_color\":{\"value\":\"#1f77b4\"},\"width\":{\"value\":1},\"x\":{\"field\":\"columns\"},\"y\":{\"field\":\"index\"}},\"id\":\"2637\",\"type\":\"Rect\"},{\"attributes\":{},\"id\":\"2607\",\"type\":\"CategoricalTicker\"},{\"attributes\":{},\"id\":\"2614\",\"type\":\"WheelZoomTool\"},{\"attributes\":{\"source\":{\"id\":\"2643\"}},\"id\":\"2650\",\"type\":\"CDSView\"},{\"attributes\":{},\"id\":\"2604\",\"type\":\"CategoricalScale\"},{\"attributes\":{},\"id\":\"2627\",\"type\":\"AllLabels\"},{\"attributes\":{},\"id\":\"2610\",\"type\":\"CategoricalTicker\"},{\"attributes\":{\"fill_alpha\":{\"value\":0.1},\"fill_color\":{\"field\":\"zvalues\",\"transform\":{\"id\":\"2631\"}},\"hatch_alpha\":{\"value\":0.1},\"height\":{\"value\":1},\"line_alpha\":{\"value\":0},\"line_color\":{\"value\":\"#1f77b4\"},\"width\":{\"value\":1},\"x\":{\"field\":\"columns\"},\"y\":{\"field\":\"index\"}},\"id\":\"2636\",\"type\":\"Rect\"},{\"attributes\":{\"overlay\":{\"id\":\"2617\"}},\"id\":\"2615\",\"type\":\"BoxZoomTool\"},{\"attributes\":{},\"id\":\"2616\",\"type\":\"ResetTool\"},{\"attributes\":{},\"id\":\"2629\",\"type\":\"CategoricalTickFormatter\"},{\"attributes\":{},\"id\":\"2662\",\"type\":\"UnionRenderers\"},{\"attributes\":{\"bottom_units\":\"screen\",\"coordinates\":null,\"fill_alpha\":0.5,\"fill_color\":\"lightgrey\",\"group\":null,\"left_units\":\"screen\",\"level\":\"overlay\",\"line_alpha\":1.0,\"line_color\":\"black\",\"line_dash\":[4,4],\"line_width\":2,\"right_units\":\"screen\",\"syncable\":false,\"top_units\":\"screen\"},\"id\":\"2617\",\"type\":\"BoxAnnotation\"},{\"attributes\":{},\"id\":\"2630\",\"type\":\"AllLabels\"},{\"attributes\":{},\"id\":\"2644\",\"type\":\"Selection\"},{\"attributes\":{},\"id\":\"2633\",\"type\":\"Selection\"},{\"attributes\":{\"text\":{\"field\":\"value\"},\"text_align\":{\"value\":\"center\"},\"text_baseline\":{\"value\":\"middle\"},\"text_color\":{\"value\":\"black\"},\"text_font_size\":{\"value\":\"7pt\"},\"x\":{\"field\":\"columns\"},\"y\":{\"field\":\"index\"}},\"id\":\"2646\",\"type\":\"Text\"},{\"attributes\":{\"coordinates\":null,\"data_source\":{\"id\":\"2643\"},\"glyph\":{\"id\":\"2646\"},\"group\":null,\"hover_glyph\":null,\"muted_glyph\":{\"id\":\"2648\"},\"nonselection_glyph\":{\"id\":\"2647\"},\"selection_glyph\":{\"id\":\"2651\"},\"view\":{\"id\":\"2650\"}},\"id\":\"2649\",\"type\":\"GlyphRenderer\"},{\"attributes\":{\"angle\":{\"value\":0},\"text\":{\"field\":\"value\"},\"text_align\":{\"value\":\"center\"},\"text_alpha\":{\"value\":1.0},\"text_baseline\":{\"value\":\"middle\"},\"text_color\":{\"value\":\"black\"},\"text_font_size\":{\"value\":\"7pt\"},\"text_font_style\":{\"value\":\"normal\"},\"text_line_height\":{\"value\":1.2},\"x\":{\"field\":\"columns\"},\"x_offset\":{\"value\":0},\"y\":{\"field\":\"index\"},\"y_offset\":{\"value\":0}},\"id\":\"2651\",\"type\":\"Text\"},{\"attributes\":{\"children\":[{\"id\":\"2597\"}],\"margin\":[0,0,0,0],\"name\":\"Row05301\"},\"id\":\"2593\",\"type\":\"Row\"},{\"attributes\":{\"axis_label\":\"\",\"coordinates\":null,\"formatter\":{\"id\":\"2626\"},\"group\":null,\"major_label_orientation\":1.2217304763960306,\"major_label_policy\":{\"id\":\"2627\"},\"ticker\":{\"id\":\"2607\"}},\"id\":\"2606\",\"type\":\"CategoricalAxis\"},{\"attributes\":{\"bar_line_color\":\"black\",\"color_mapper\":{\"id\":\"2631\"},\"coordinates\":null,\"group\":null,\"label_standoff\":8,\"location\":[0,0],\"major_label_policy\":{\"id\":\"2656\"},\"major_tick_line_color\":\"black\",\"ticker\":{\"id\":\"2641\"}},\"id\":\"2642\",\"type\":\"ColorBar\"},{\"attributes\":{\"coordinates\":null,\"group\":null,\"text\":\"Heatmap of all Continuous Variables including target\",\"text_color\":\"black\",\"text_font_size\":\"12pt\"},\"id\":\"2598\",\"type\":\"Title\"},{\"attributes\":{},\"id\":\"2602\",\"type\":\"CategoricalScale\"},{\"attributes\":{\"coordinates\":null,\"data_source\":{\"id\":\"2632\"},\"glyph\":{\"id\":\"2635\"},\"group\":null,\"hover_glyph\":null,\"muted_glyph\":{\"id\":\"2638\"},\"nonselection_glyph\":{\"id\":\"2636\"},\"selection_glyph\":{\"id\":\"2637\"},\"view\":{\"id\":\"2640\"}},\"id\":\"2639\",\"type\":\"GlyphRenderer\"},{\"attributes\":{},\"id\":\"2656\",\"type\":\"NoOverlap\"},{\"attributes\":{},\"id\":\"2641\",\"type\":\"BasicTicker\"},{\"attributes\":{\"factors\":[\"age\",\"fare\"],\"tags\":[[[\"columns\",\"columns\",null]]]},\"id\":\"2594\",\"type\":\"FactorRange\"},{\"attributes\":{\"data\":{\"columns\":[\"age\",\"age\",\"fare\",\"fare\"],\"index\":[\"age\",\"fare\",\"age\",\"fare\"],\"value\":[\"1\",\"0.096067\",\"0.096067\",\"1\"]},\"selected\":{\"id\":\"2644\"},\"selection_policy\":{\"id\":\"2662\"}},\"id\":\"2643\",\"type\":\"ColumnDataSource\"},{\"attributes\":{\"data\":{\"columns\":[\"age\",\"age\",\"fare\",\"fare\"],\"index\":[\"age\",\"fare\",\"age\",\"fare\"],\"value\":[\"1\",\"0.096067\",\"0.096067\",\"1\"],\"zvalues\":{\"__ndarray__\":\"AAAAAAAA8D8OCGKj05e4Pw4IYqPTl7g/AAAAAAAA8D8=\",\"dtype\":\"float64\",\"order\":\"little\",\"shape\":[4]}},\"selected\":{\"id\":\"2633\"},\"selection_policy\":{\"id\":\"2660\"}},\"id\":\"2632\",\"type\":\"ColumnDataSource\"},{\"attributes\":{\"source\":{\"id\":\"2632\"}},\"id\":\"2640\",\"type\":\"CDSView\"},{\"attributes\":{\"callback\":null,\"renderers\":[{\"id\":\"2639\"}],\"tags\":[\"hv_created\"],\"tooltips\":[[\"columns\",\"@{columns}\"],[\"index\",\"@{index}\"],[\"value\",\"@{value}\"]]},\"id\":\"2596\",\"type\":\"HoverTool\"},{\"attributes\":{\"tools\":[{\"id\":\"2596\"},{\"id\":\"2612\"},{\"id\":\"2613\"},{\"id\":\"2614\"},{\"id\":\"2615\"},{\"id\":\"2616\"}]},\"id\":\"2618\",\"type\":\"Toolbar\"},{\"attributes\":{\"factors\":[\"age\",\"fare\"],\"tags\":[[[\"index\",\"index\",null]]]},\"id\":\"2595\",\"type\":\"FactorRange\"},{\"attributes\":{\"client_comm_id\":\"c3a64da15de3452e9008d787feff3f9c\",\"comm_id\":\"f9a82b1b97b94d7cb538dd50e45b24aa\",\"plot_id\":\"2593\"},\"id\":\"2808\",\"type\":\"panel.models.comm_manager.CommManager\"},{\"attributes\":{\"axis\":{\"id\":\"2606\"},\"coordinates\":null,\"grid_line_color\":null,\"group\":null,\"ticker\":null},\"id\":\"2608\",\"type\":\"Grid\"}],\"root_ids\":[\"2593\",\"2808\"]},\"title\":\"Bokeh Application\",\"version\":\"2.4.3\"}};\n",
       "    var render_items = [{\"docid\":\"a9aba653-da85-4097-94d6-528ecf3417ab\",\"root_ids\":[\"2593\"],\"roots\":{\"2593\":\"cdb0e8fb-4d16-43bb-93ec-58bc14e33900\"}}];\n",
       "    root.Bokeh.embed.embed_items_notebook(docs_json, render_items);\n",
       "  }\n",
       "  if (root.Bokeh !== undefined && root.Bokeh.Panel !== undefined) {\n",
       "    embed_document(root);\n",
       "  } else {\n",
       "    var attempts = 0;\n",
       "    var timer = setInterval(function(root) {\n",
       "      if (root.Bokeh !== undefined && root.Bokeh.Panel !== undefined) {\n",
       "        clearInterval(timer);\n",
       "        embed_document(root);\n",
       "      } else if (document.readyState == \"complete\") {\n",
       "        attempts++;\n",
       "        if (attempts > 200) {\n",
       "          clearInterval(timer);\n",
       "          console.log(\"Bokeh: ERROR: Unable to run BokehJS code because BokehJS library is missing\");\n",
       "        }\n",
       "      }\n",
       "    }, 25, root)\n",
       "  }\n",
       "})(window);</script>"
      ],
      "text/plain": [
       "HoloViews(Overlay)"
      ]
     },
     "metadata": {
      "application/vnd.holoviews_exec.v0+json": {
       "id": "2593"
      }
     },
     "output_type": "display_data"
    },
    {
     "data": {},
     "metadata": {},
     "output_type": "display_data"
    },
    {
     "data": {},
     "metadata": {},
     "output_type": "display_data"
    },
    {
     "data": {
      "application/vnd.holoviews_exec.v0+json": "",
      "text/html": [
       "<div id='2874'>\n",
       "  <div class=\"bk-root\" id=\"33860f7f-9b48-4f31-a79f-1981f8cd46ed\" data-root-id=\"2874\"></div>\n",
       "</div>\n",
       "<script type=\"application/javascript\">(function(root) {\n",
       "  function embed_document(root) {\n",
       "    var docs_json = {\"89ca9556-4bad-4900-9e47-190dc8a21f0a\":{\"defs\":[{\"extends\":null,\"module\":null,\"name\":\"ReactiveHTML1\",\"overrides\":[],\"properties\":[]},{\"extends\":null,\"module\":null,\"name\":\"FlexBox1\",\"overrides\":[],\"properties\":[{\"default\":\"flex-start\",\"kind\":null,\"name\":\"align_content\"},{\"default\":\"flex-start\",\"kind\":null,\"name\":\"align_items\"},{\"default\":\"row\",\"kind\":null,\"name\":\"flex_direction\"},{\"default\":\"wrap\",\"kind\":null,\"name\":\"flex_wrap\"},{\"default\":\"flex-start\",\"kind\":null,\"name\":\"justify_content\"}]},{\"extends\":null,\"module\":null,\"name\":\"TemplateActions1\",\"overrides\":[],\"properties\":[{\"default\":0,\"kind\":null,\"name\":\"open_modal\"},{\"default\":0,\"kind\":null,\"name\":\"close_modal\"}]},{\"extends\":null,\"module\":null,\"name\":\"MaterialTemplateActions1\",\"overrides\":[],\"properties\":[{\"default\":0,\"kind\":null,\"name\":\"open_modal\"},{\"default\":0,\"kind\":null,\"name\":\"close_modal\"}]}],\"roots\":{\"references\":[{\"attributes\":{},\"id\":\"2922\",\"type\":\"BasicTickFormatter\"},{\"attributes\":{\"overlay\":{\"id\":\"2902\"}},\"id\":\"2900\",\"type\":\"BoxZoomTool\"},{\"attributes\":{\"children\":[{\"id\":\"2876\"},{\"id\":\"2877\"}],\"css_classes\":[\"panel-widget-box\"],\"margin\":[5,5,5,5],\"name\":\"WidgetBox05624\"},\"id\":\"2875\",\"type\":\"Column\"},{\"attributes\":{},\"id\":\"2901\",\"type\":\"ResetTool\"},{\"attributes\":{},\"id\":\"2920\",\"type\":\"AllLabels\"},{\"attributes\":{\"data\":{\"age\":{\"__ndarray__\":\"4PBft5TQPkBu27Zt2xY8QJZmjYsFcj1A\",\"dtype\":\"float64\",\"order\":\"little\",\"shape\":[3]},\"embarked\":[\"C\",\"Q\",\"S\"]},\"selected\":{\"id\":\"2910\"},\"selection_policy\":{\"id\":\"2931\"}},\"id\":\"2909\",\"type\":\"ColumnDataSource\"},{\"attributes\":{\"bottom_units\":\"screen\",\"coordinates\":null,\"fill_alpha\":0.5,\"fill_color\":\"lightgrey\",\"group\":null,\"left_units\":\"screen\",\"level\":\"overlay\",\"line_alpha\":1.0,\"line_color\":\"black\",\"line_dash\":[4,4],\"line_width\":2,\"right_units\":\"screen\",\"syncable\":false,\"top_units\":\"screen\"},\"id\":\"2902\",\"type\":\"BoxAnnotation\"},{\"attributes\":{\"children\":[{\"id\":\"2875\"},{\"id\":\"2878\"}],\"margin\":[0,0,0,0],\"name\":\"Row05665\"},\"id\":\"2874\",\"type\":\"Row\"},{\"attributes\":{\"tools\":[{\"id\":\"2897\"},{\"id\":\"2898\"},{\"id\":\"2899\"},{\"id\":\"2900\"},{\"id\":\"2901\"}]},\"id\":\"2903\",\"type\":\"Toolbar\"},{\"attributes\":{\"margin\":[5,10,5,10],\"options\":[\"embarked\",\"class\",\"who\",\"deck\",\"embark_town\",\"pclass\",\"sibsp\",\"parch\",\"sex\",\"adult_male\",\"alive\",\"alone\",\"survived\"],\"title\":\"X-Axis\",\"value\":\"embarked\"},\"id\":\"2876\",\"type\":\"Select\"},{\"attributes\":{\"fill_alpha\":{\"value\":0.1},\"fill_color\":{\"value\":\"#30a2da\"},\"hatch_alpha\":{\"value\":0.1},\"hatch_color\":{\"value\":\"#30a2da\"},\"line_alpha\":{\"value\":0.1},\"top\":{\"field\":\"age\"},\"width\":{\"value\":0.8},\"x\":{\"field\":\"embarked\"}},\"id\":\"2913\",\"type\":\"VBar\"},{\"attributes\":{},\"id\":\"2886\",\"type\":\"CategoricalScale\"},{\"attributes\":{\"children\":[{\"id\":\"2881\"}],\"margin\":[0,0,0,0],\"name\":\"Row05629\"},\"id\":\"2878\",\"type\":\"Row\"},{\"attributes\":{},\"id\":\"2910\",\"type\":\"Selection\"},{\"attributes\":{\"factors\":[\"C\",\"Q\",\"S\"],\"tags\":[[[\"embarked\",\"embarked\",null]]]},\"id\":\"2879\",\"type\":\"FactorRange\"},{\"attributes\":{\"fill_color\":{\"value\":\"#30a2da\"},\"hatch_color\":{\"value\":\"#30a2da\"},\"top\":{\"field\":\"age\"},\"width\":{\"value\":0.8},\"x\":{\"field\":\"embarked\"}},\"id\":\"2912\",\"type\":\"VBar\"},{\"attributes\":{},\"id\":\"2888\",\"type\":\"LinearScale\"},{\"attributes\":{\"margin\":[5,10,5,10],\"options\":[\"age\",\"fare\"],\"title\":\"Y-Axis\",\"value\":\"age\"},\"id\":\"2877\",\"type\":\"Select\"},{\"attributes\":{},\"id\":\"2931\",\"type\":\"UnionRenderers\"},{\"attributes\":{\"source\":{\"id\":\"2909\"}},\"id\":\"2916\",\"type\":\"CDSView\"},{\"attributes\":{\"below\":[{\"id\":\"2890\"}],\"center\":[{\"id\":\"2892\"},{\"id\":\"2896\"}],\"height\":400,\"left\":[{\"id\":\"2893\"}],\"margin\":[5,5,5,5],\"min_border_bottom\":10,\"min_border_left\":10,\"min_border_right\":10,\"min_border_top\":10,\"renderers\":[{\"id\":\"2915\"}],\"sizing_mode\":\"fixed\",\"title\":{\"id\":\"2882\"},\"toolbar\":{\"id\":\"2903\"},\"x_range\":{\"id\":\"2879\"},\"x_scale\":{\"id\":\"2886\"},\"y_range\":{\"id\":\"2880\"},\"y_scale\":{\"id\":\"2888\"}},\"id\":\"2881\",\"subtype\":\"Figure\",\"type\":\"Plot\"},{\"attributes\":{\"axis_label\":\"embarked\",\"coordinates\":null,\"formatter\":{\"id\":\"2919\"},\"group\":null,\"major_label_orientation\":1.2217304763960306,\"major_label_policy\":{\"id\":\"2920\"},\"ticker\":{\"id\":\"2891\"}},\"id\":\"2890\",\"type\":\"CategoricalAxis\"},{\"attributes\":{\"fill_alpha\":{\"value\":0.2},\"fill_color\":{\"value\":\"#30a2da\"},\"hatch_alpha\":{\"value\":0.2},\"hatch_color\":{\"value\":\"#30a2da\"},\"line_alpha\":{\"value\":0.2},\"top\":{\"field\":\"age\"},\"width\":{\"value\":0.8},\"x\":{\"field\":\"embarked\"}},\"id\":\"2914\",\"type\":\"VBar\"},{\"attributes\":{\"coordinates\":null,\"data_source\":{\"id\":\"2909\"},\"glyph\":{\"id\":\"2912\"},\"group\":null,\"hover_glyph\":null,\"muted_glyph\":{\"id\":\"2914\"},\"nonselection_glyph\":{\"id\":\"2913\"},\"selection_glyph\":{\"id\":\"2917\"},\"view\":{\"id\":\"2916\"}},\"id\":\"2915\",\"type\":\"GlyphRenderer\"},{\"attributes\":{\"end\":31.08731758241758,\"reset_end\":31.08731758241758,\"reset_start\":0.0,\"tags\":[[[\"age\",\"age\",null]]]},\"id\":\"2880\",\"type\":\"Range1d\"},{\"attributes\":{\"coordinates\":null,\"group\":null,\"text\":\"Average of each numeric var by categorical var\",\"text_color\":\"black\",\"text_font_size\":\"12pt\"},\"id\":\"2882\",\"type\":\"Title\"},{\"attributes\":{},\"id\":\"2898\",\"type\":\"PanTool\"},{\"attributes\":{\"bottom\":{\"value\":0},\"fill_alpha\":{\"value\":1.0},\"fill_color\":{\"value\":\"#30a2da\"},\"hatch_alpha\":{\"value\":1.0},\"hatch_color\":{\"value\":\"#30a2da\"},\"hatch_scale\":{\"value\":12.0},\"hatch_weight\":{\"value\":1.0},\"line_alpha\":{\"value\":1.0},\"line_cap\":{\"value\":\"butt\"},\"line_color\":{\"value\":\"black\"},\"line_dash\":{\"value\":[]},\"line_dash_offset\":{\"value\":0},\"line_join\":{\"value\":\"bevel\"},\"line_width\":{\"value\":1},\"top\":{\"field\":\"age\"},\"width\":{\"value\":0.8},\"x\":{\"field\":\"embarked\"}},\"id\":\"2917\",\"type\":\"VBar\"},{\"attributes\":{\"axis\":{\"id\":\"2890\"},\"coordinates\":null,\"grid_line_color\":null,\"group\":null,\"ticker\":null},\"id\":\"2892\",\"type\":\"Grid\"},{\"attributes\":{\"axis\":{\"id\":\"2893\"},\"coordinates\":null,\"dimension\":1,\"grid_line_color\":null,\"group\":null,\"ticker\":null},\"id\":\"2896\",\"type\":\"Grid\"},{\"attributes\":{\"axis_label\":\"age\",\"coordinates\":null,\"formatter\":{\"id\":\"2922\"},\"group\":null,\"major_label_policy\":{\"id\":\"2923\"},\"ticker\":{\"id\":\"2894\"}},\"id\":\"2893\",\"type\":\"LinearAxis\"},{\"attributes\":{\"client_comm_id\":\"f97fb44f47444ae19b3fe4dc821afbdd\",\"comm_id\":\"a49229933d7f4c5fb8caebb2636eafaa\",\"plot_id\":\"2874\"},\"id\":\"2974\",\"type\":\"panel.models.comm_manager.CommManager\"},{\"attributes\":{},\"id\":\"2891\",\"type\":\"CategoricalTicker\"},{\"attributes\":{},\"id\":\"2897\",\"type\":\"SaveTool\"},{\"attributes\":{},\"id\":\"2919\",\"type\":\"CategoricalTickFormatter\"},{\"attributes\":{},\"id\":\"2894\",\"type\":\"BasicTicker\"},{\"attributes\":{},\"id\":\"2923\",\"type\":\"AllLabels\"},{\"attributes\":{},\"id\":\"2899\",\"type\":\"WheelZoomTool\"}],\"root_ids\":[\"2874\",\"2974\"]},\"title\":\"Bokeh Application\",\"version\":\"2.4.3\"}};\n",
       "    var render_items = [{\"docid\":\"89ca9556-4bad-4900-9e47-190dc8a21f0a\",\"root_ids\":[\"2874\"],\"roots\":{\"2874\":\"33860f7f-9b48-4f31-a79f-1981f8cd46ed\"}}];\n",
       "    root.Bokeh.embed.embed_items_notebook(docs_json, render_items);\n",
       "  }\n",
       "  if (root.Bokeh !== undefined && root.Bokeh.Panel !== undefined) {\n",
       "    embed_document(root);\n",
       "  } else {\n",
       "    var attempts = 0;\n",
       "    var timer = setInterval(function(root) {\n",
       "      if (root.Bokeh !== undefined && root.Bokeh.Panel !== undefined) {\n",
       "        clearInterval(timer);\n",
       "        embed_document(root);\n",
       "      } else if (document.readyState == \"complete\") {\n",
       "        attempts++;\n",
       "        if (attempts > 200) {\n",
       "          clearInterval(timer);\n",
       "          console.log(\"Bokeh: ERROR: Unable to run BokehJS code because BokehJS library is missing\");\n",
       "        }\n",
       "      }\n",
       "    }, 25, root)\n",
       "  }\n",
       "})(window);</script>"
      ],
      "text/plain": [
       "Row\n",
       "    [0] WidgetBox\n",
       "        [0] Select(name='X-Axis', options=['embarked', 'class', ...], value='embarked')\n",
       "        [1] Select(name='Y-Axis', options=['age', 'fare'], value='age')\n",
       "    [1] ParamFunction(function)"
      ]
     },
     "metadata": {
      "application/vnd.holoviews_exec.v0+json": {
       "id": "2874"
      }
     },
     "output_type": "display_data"
    },
    {
     "name": "stdout",
     "output_type": "stream",
     "text": [
      "Time to run AutoViz (in seconds) = 0\n"
     ]
    }
   ],
   "source": [
    "from autoviz.AutoViz_Class import AutoViz_Class\n",
    "\n",
    "AV = AutoViz_Class()\n",
    "filename = '/Users/abhisheksingh/Desktop/DATA_SCIENCE/Feature_Engineering/titanic.csv'\n",
    "sep = ','\n",
    "dft = AV.AutoViz(\n",
    "    filename,\n",
    "    sep=\",\",\n",
    "    depVar=\"\",\n",
    "    dfte=None,\n",
    "    header=0,\n",
    "    verbose=1,\n",
    "    lowess=False,\n",
    "    chart_format=\"bokeh\",\n",
    "    max_rows_analyzed=150000,\n",
    "    max_cols_analyzed=100,\n",
    ")"
   ]
  },
  {
   "attachments": {},
   "cell_type": "markdown",
   "metadata": {},
   "source": [
    "## Standardization(Why standardization?)\n",
    "Standardization comes into picture when features of input data set have large differences between their ranges, or simply when they are measured in different measurement units (e.g., Pounds, Meters, Miles … etc).\n",
    "\n",
    "We try to bring all the variables or features to a similar scale. standarisation means centering the variable at zero. z=(x-x_mean)/std"
   ]
  },
  {
   "cell_type": "code",
   "execution_count": 94,
   "metadata": {},
   "outputs": [],
   "source": [
    "import pandas as pd\n",
    "df = pd.read_csv('titanic.csv',usecols=['survived',\t'pclass',\t'age',\t'fare'])"
   ]
  },
  {
   "cell_type": "code",
   "execution_count": 95,
   "metadata": {},
   "outputs": [
    {
     "data": {
      "text/html": [
       "<div>\n",
       "<style scoped>\n",
       "    .dataframe tbody tr th:only-of-type {\n",
       "        vertical-align: middle;\n",
       "    }\n",
       "\n",
       "    .dataframe tbody tr th {\n",
       "        vertical-align: top;\n",
       "    }\n",
       "\n",
       "    .dataframe thead th {\n",
       "        text-align: right;\n",
       "    }\n",
       "</style>\n",
       "<table border=\"1\" class=\"dataframe\">\n",
       "  <thead>\n",
       "    <tr style=\"text-align: right;\">\n",
       "      <th></th>\n",
       "      <th>survived</th>\n",
       "      <th>pclass</th>\n",
       "      <th>age</th>\n",
       "      <th>fare</th>\n",
       "    </tr>\n",
       "  </thead>\n",
       "  <tbody>\n",
       "    <tr>\n",
       "      <th>0</th>\n",
       "      <td>0</td>\n",
       "      <td>3</td>\n",
       "      <td>22.0</td>\n",
       "      <td>7.2500</td>\n",
       "    </tr>\n",
       "    <tr>\n",
       "      <th>1</th>\n",
       "      <td>1</td>\n",
       "      <td>1</td>\n",
       "      <td>38.0</td>\n",
       "      <td>71.2833</td>\n",
       "    </tr>\n",
       "    <tr>\n",
       "      <th>2</th>\n",
       "      <td>1</td>\n",
       "      <td>3</td>\n",
       "      <td>26.0</td>\n",
       "      <td>7.9250</td>\n",
       "    </tr>\n",
       "    <tr>\n",
       "      <th>3</th>\n",
       "      <td>1</td>\n",
       "      <td>1</td>\n",
       "      <td>35.0</td>\n",
       "      <td>53.1000</td>\n",
       "    </tr>\n",
       "    <tr>\n",
       "      <th>4</th>\n",
       "      <td>0</td>\n",
       "      <td>3</td>\n",
       "      <td>35.0</td>\n",
       "      <td>8.0500</td>\n",
       "    </tr>\n",
       "  </tbody>\n",
       "</table>\n",
       "</div>"
      ],
      "text/plain": [
       "   survived  pclass   age     fare\n",
       "0         0       3  22.0   7.2500\n",
       "1         1       1  38.0  71.2833\n",
       "2         1       3  26.0   7.9250\n",
       "3         1       1  35.0  53.1000\n",
       "4         0       3  35.0   8.0500"
      ]
     },
     "execution_count": 95,
     "metadata": {},
     "output_type": "execute_result"
    }
   ],
   "source": [
    "df.head()"
   ]
  },
  {
   "cell_type": "code",
   "execution_count": 96,
   "metadata": {},
   "outputs": [
    {
     "data": {
      "text/plain": [
       "177"
      ]
     },
     "execution_count": 96,
     "metadata": {},
     "output_type": "execute_result"
    }
   ],
   "source": [
    "df['age'].isnull().sum()"
   ]
  },
  {
   "cell_type": "code",
   "execution_count": 97,
   "metadata": {},
   "outputs": [
    {
     "data": {
      "text/plain": [
       "0"
      ]
     },
     "execution_count": 97,
     "metadata": {},
     "output_type": "execute_result"
    }
   ],
   "source": [
    "df['survived'].isnull().sum()"
   ]
  },
  {
   "cell_type": "code",
   "execution_count": 98,
   "metadata": {},
   "outputs": [
    {
     "data": {
      "text/plain": [
       "0"
      ]
     },
     "execution_count": 98,
     "metadata": {},
     "output_type": "execute_result"
    }
   ],
   "source": [
    "df['pclass'].isnull().sum()"
   ]
  },
  {
   "cell_type": "code",
   "execution_count": 99,
   "metadata": {},
   "outputs": [],
   "source": [
    "df['age'].fillna(df.age.median(),inplace=True)"
   ]
  },
  {
   "cell_type": "code",
   "execution_count": 100,
   "metadata": {},
   "outputs": [
    {
     "data": {
      "text/plain": [
       "survived    0\n",
       "pclass      0\n",
       "age         0\n",
       "fare        0\n",
       "dtype: int64"
      ]
     },
     "execution_count": 100,
     "metadata": {},
     "output_type": "execute_result"
    }
   ],
   "source": [
    "df.isnull().sum()"
   ]
  },
  {
   "cell_type": "code",
   "execution_count": 101,
   "metadata": {},
   "outputs": [],
   "source": [
    "X = df.iloc[:,1:]\n",
    "y = df.iloc[:,0]"
   ]
  },
  {
   "cell_type": "code",
   "execution_count": 102,
   "metadata": {},
   "outputs": [
    {
     "data": {
      "text/html": [
       "<div>\n",
       "<style scoped>\n",
       "    .dataframe tbody tr th:only-of-type {\n",
       "        vertical-align: middle;\n",
       "    }\n",
       "\n",
       "    .dataframe tbody tr th {\n",
       "        vertical-align: top;\n",
       "    }\n",
       "\n",
       "    .dataframe thead th {\n",
       "        text-align: right;\n",
       "    }\n",
       "</style>\n",
       "<table border=\"1\" class=\"dataframe\">\n",
       "  <thead>\n",
       "    <tr style=\"text-align: right;\">\n",
       "      <th></th>\n",
       "      <th>pclass</th>\n",
       "      <th>age</th>\n",
       "      <th>fare</th>\n",
       "    </tr>\n",
       "  </thead>\n",
       "  <tbody>\n",
       "    <tr>\n",
       "      <th>0</th>\n",
       "      <td>3</td>\n",
       "      <td>22.0</td>\n",
       "      <td>7.2500</td>\n",
       "    </tr>\n",
       "    <tr>\n",
       "      <th>1</th>\n",
       "      <td>1</td>\n",
       "      <td>38.0</td>\n",
       "      <td>71.2833</td>\n",
       "    </tr>\n",
       "    <tr>\n",
       "      <th>2</th>\n",
       "      <td>3</td>\n",
       "      <td>26.0</td>\n",
       "      <td>7.9250</td>\n",
       "    </tr>\n",
       "    <tr>\n",
       "      <th>3</th>\n",
       "      <td>1</td>\n",
       "      <td>35.0</td>\n",
       "      <td>53.1000</td>\n",
       "    </tr>\n",
       "    <tr>\n",
       "      <th>4</th>\n",
       "      <td>3</td>\n",
       "      <td>35.0</td>\n",
       "      <td>8.0500</td>\n",
       "    </tr>\n",
       "  </tbody>\n",
       "</table>\n",
       "</div>"
      ],
      "text/plain": [
       "   pclass   age     fare\n",
       "0       3  22.0   7.2500\n",
       "1       1  38.0  71.2833\n",
       "2       3  26.0   7.9250\n",
       "3       1  35.0  53.1000\n",
       "4       3  35.0   8.0500"
      ]
     },
     "execution_count": 102,
     "metadata": {},
     "output_type": "execute_result"
    }
   ],
   "source": [
    "X.head()"
   ]
  },
  {
   "cell_type": "code",
   "execution_count": 105,
   "metadata": {},
   "outputs": [],
   "source": [
    "y = df[['survived']]\n"
   ]
  },
  {
   "cell_type": "code",
   "execution_count": 106,
   "metadata": {},
   "outputs": [
    {
     "data": {
      "text/plain": [
       "(891, 1)"
      ]
     },
     "execution_count": 106,
     "metadata": {},
     "output_type": "execute_result"
    }
   ],
   "source": [
    "y.shape"
   ]
  },
  {
   "cell_type": "code",
   "execution_count": 114,
   "metadata": {},
   "outputs": [],
   "source": [
    "from sklearn.model_selection import train_test_split\n",
    "X_train, X_test, y_train, y_test = train_test_split(X, y, test_size=0.33, random_state=42)"
   ]
  },
  {
   "cell_type": "code",
   "execution_count": 115,
   "metadata": {},
   "outputs": [
    {
     "name": "stdout",
     "output_type": "stream",
     "text": [
      "(596, 3)\n",
      "(295, 3)\n",
      "(596, 1)\n",
      "(295, 1)\n"
     ]
    }
   ],
   "source": [
    "print(X_train.shape)\n",
    "print(X_test.shape)\n",
    "print(y_train.shape)\n",
    "print(y_test.shape)"
   ]
  },
  {
   "cell_type": "code",
   "execution_count": 116,
   "metadata": {},
   "outputs": [],
   "source": [
    "from sklearn.preprocessing import StandardScaler\n",
    "scaler = StandardScaler()\n",
    "X_train_scaled = scaler.fit_transform(X_train)"
   ]
  },
  {
   "cell_type": "code",
   "execution_count": 117,
   "metadata": {},
   "outputs": [
    {
     "data": {
      "text/plain": [
       "array([[-1.62580285,  1.91349292,  0.38784185],\n",
       "       [ 0.80576177, -0.09452019, -0.31908053],\n",
       "       [-0.41002054, -0.32621401,  0.18792449],\n",
       "       ...,\n",
       "       [ 0.80576177,  0.90948636, -0.34613654],\n",
       "       [-1.62580285, -1.17575802,  1.71250117],\n",
       "       [-1.62580285, -0.63513911,  0.8821286 ]])"
      ]
     },
     "execution_count": 117,
     "metadata": {},
     "output_type": "execute_result"
    }
   ],
   "source": [
    "X_train_scaled"
   ]
  },
  {
   "cell_type": "code",
   "execution_count": 118,
   "metadata": {},
   "outputs": [],
   "source": [
    "X_test_scaled=scaler.transform(X_test)"
   ]
  },
  {
   "cell_type": "code",
   "execution_count": 119,
   "metadata": {},
   "outputs": [
    {
     "data": {
      "text/plain": [
       "array([[ 0.80576177, -0.09452019, -0.32402243],\n",
       "       [-0.41002054,  0.13717363, -0.4162854 ],\n",
       "       [ 0.80576177, -0.71237038, -0.46634591],\n",
       "       [-0.41002054, -1.79360821,  0.0211365 ],\n",
       "       [ 0.80576177, -1.17575802, -0.40186603],\n",
       "       [-1.62580285, -0.24898274,  0.91250512],\n",
       "       [ 0.80576177, -0.09452019, -0.46974808],\n",
       "       [ 0.80576177, -1.02129548, -0.2704781 ],\n",
       "       [ 0.80576177, -1.02129548, -0.46974808],\n",
       "       [-1.62580285, -0.78960166, -0.10944269],\n",
       "       [-1.62580285,  0.60056127,  0.41190006],\n",
       "       [ 0.80576177,  1.14118018, -0.46391578],\n",
       "       [ 0.80576177, -0.09452019, -0.12531819],\n",
       "       [ 0.80576177,  0.05994235, -0.47995459],\n",
       "       [-0.41002054,  0.52332999, -0.36768297],\n",
       "       [-1.62580285, -1.02129548,  0.14555873],\n",
       "       [-1.62580285,  0.98671764,  0.40128918],\n",
       "       [ 0.80576177, -0.09452019, -0.46820835],\n",
       "       [-0.41002054, -0.17175147, -0.36768297],\n",
       "       [-1.62580285,  1.372874  ,  0.39051499],\n",
       "       [ 0.80576177, -0.40344529, -0.46691358],\n",
       "       [-1.62580285,  0.36886745, -0.10425778],\n",
       "       [ 0.80576177, -0.78960166, -0.46772233],\n",
       "       [ 0.80576177, -0.71237038, -0.44107264],\n",
       "       [ 0.80576177, -0.09452019, -0.33852151],\n",
       "       [ 0.80576177, -1.48468312, -0.07801247],\n",
       "       [-1.62580285,  0.83225509, -0.08149629],\n",
       "       [-0.41002054,  0.13717363, -0.36768297],\n",
       "       [ 0.80576177, -1.94807076, -0.07801247],\n",
       "       [ 0.80576177,  0.13717363, -0.46772233],\n",
       "       [ 0.80576177, -0.78960166, -0.46691358],\n",
       "       [ 0.80576177, -0.55790784, -0.46974808],\n",
       "       [-1.62580285, -0.09452019, -0.02365939],\n",
       "       [ 0.80576177, -0.09452019, -0.47363627],\n",
       "       [ 0.80576177, -0.86683293, -0.46391578],\n",
       "       [ 0.80576177, -0.17175147, -0.3394119 ],\n",
       "       [-1.62580285, -0.09452019,  0.06973893],\n",
       "       [ 0.80576177, -0.09452019, -0.46974808],\n",
       "       [-1.62580285,  0.05994235, -0.01774545],\n",
       "       [ 0.80576177, -0.09452019, -0.46691358],\n",
       "       [-0.41002054, -0.63513911,  0.80849591],\n",
       "       [ 0.80576177, -0.01728892, -0.48343841],\n",
       "       [ 0.80576177, -0.09452019, -0.46391578],\n",
       "       [ 0.80576177, -0.09452019, -0.46974808],\n",
       "       [ 0.80576177,  1.21841146, -0.3394119 ],\n",
       "       [ 0.80576177, -1.02129548,  0.04786783],\n",
       "       [ 0.80576177, -0.78960166, -0.46181033],\n",
       "       [ 0.80576177, -0.48067656, -0.44107264],\n",
       "       [ 0.80576177, -0.40344529, -0.48335676],\n",
       "       [-1.62580285,  2.22241801,  1.58176062],\n",
       "       [ 0.80576177, -1.87083949, -0.24601552],\n",
       "       [-1.62580285,  1.75903037,  1.19731538],\n",
       "       [ 0.80576177,  0.83225509, -0.07801247],\n",
       "       [-1.62580285, -1.40745185,  1.71250117],\n",
       "       [ 0.80576177,  2.76303693, -0.46974808],\n",
       "       [-1.62580285, -0.86683293,  0.9280579 ],\n",
       "       [-0.41002054,  0.2144049 , -0.4162854 ],\n",
       "       [-1.62580285,  1.60456783,  4.19162962],\n",
       "       [-0.41002054,  0.44609872, -0.21215518],\n",
       "       [ 0.80576177, -0.78960166, -0.4672363 ],\n",
       "       [ 0.80576177, -0.63513911, -0.46926205],\n",
       "       [-0.41002054, -1.2529893 , -0.24131664],\n",
       "       [-0.41002054, -0.09452019, -0.11495032],\n",
       "       [-1.62580285, -0.09452019, -0.11640839],\n",
       "       [ 0.80576177, -0.09452019, -0.46974808],\n",
       "       [-0.41002054,  2.14518674, -0.4162854 ],\n",
       "       [-0.41002054, -0.63513911,  0.80849591],\n",
       "       [ 0.80576177, -0.01728892, -0.46731796],\n",
       "       [ 0.80576177, -0.9440642 , -0.47987294],\n",
       "       [-1.62580285,  1.75903037,  0.9011652 ],\n",
       "       [-0.41002054, -0.24898274, -0.11495032],\n",
       "       [-1.62580285, -0.86683293,  4.48040973],\n",
       "       [-1.62580285, -0.24898274, -0.03718642],\n",
       "       [-1.62580285,  0.75502382,  0.99626266],\n",
       "       [ 0.80576177, -0.48067656, -0.46772233],\n",
       "       [ 0.80576177,  0.52332999, -0.31810849],\n",
       "       [ 0.80576177,  0.09855799, -0.46974808],\n",
       "       [-1.62580285, -0.55790784,  0.34191255],\n",
       "       [-0.41002054,  0.67779254, -0.36768297],\n",
       "       [ 0.80576177,  0.90948636, -0.22746495],\n",
       "       [ 0.80576177, -1.02129548,  0.15114801],\n",
       "       [-0.41002054, -0.01728892, -0.4162854 ],\n",
       "       [-1.62580285,  0.83225509,  1.99439528],\n",
       "       [ 0.80576177, -0.09452019, -0.46999109],\n",
       "       [-1.62580285,  2.06795547, -0.02365939],\n",
       "       [-1.62580285,  3.22642457,  0.34199421],\n",
       "       [-1.62580285,  0.13717363,  1.58176062],\n",
       "       [-1.62580285,  0.05994235,  0.48634343],\n",
       "       [-1.62580285,  0.67779254, -0.62041562],\n",
       "       [ 0.80576177, -0.09452019, -0.47946856],\n",
       "       [ 0.80576177, -1.56191439, -0.22138964],\n",
       "       [ 0.80576177, -1.56191439, -0.01239918],\n",
       "       [-1.62580285,  2.45411184,  0.00793219],\n",
       "       [ 0.80576177, -0.09452019, -0.47015245],\n",
       "       [ 0.80576177, -0.09452019, -0.46691358],\n",
       "       [ 0.80576177, -0.09452019, -0.46772233],\n",
       "       [-1.62580285,  1.45010528,  0.39051499],\n",
       "       [ 0.80576177,  1.21841146, -0.46391578],\n",
       "       [-0.41002054,  0.52332999, -0.36768297],\n",
       "       [ 0.80576177, -0.17175147, -0.46691358],\n",
       "       [-1.62580285,  2.68580566, -0.11495032],\n",
       "       [ 0.80576177,  0.44609872, -0.48189869],\n",
       "       [-1.62580285, -0.78960166,  1.15025267],\n",
       "       [ 0.80576177,  0.67779254, -0.48335676],\n",
       "       [ 0.80576177,  0.09855799, -0.46391578],\n",
       "       [ 0.80576177, -0.32621401, -0.46926205],\n",
       "       [-0.41002054,  0.83225509,  0.13778234],\n",
       "       [-1.62580285,  1.372874  ,  0.12806185],\n",
       "       [ 0.80576177,  0.05994235, -0.43572637],\n",
       "       [-1.62580285,  0.83225509, -0.01774545],\n",
       "       [-1.62580285, -0.09452019,  0.39051499],\n",
       "       [ 0.80576177, -0.67375475, -0.47946856],\n",
       "       [-1.62580285, -0.09452019,  1.11185675],\n",
       "       [-1.62580285,  0.52332999, -0.10936104],\n",
       "       [-1.62580285, -0.09452019,  3.69118787],\n",
       "       [ 0.80576177, -0.71237038, -0.42900369],\n",
       "       [-1.62580285,  3.22642457,  0.05329575],\n",
       "       [-0.41002054,  0.52332999, -0.37011309],\n",
       "       [-0.41002054, -0.55790784, -0.0566274 ],\n",
       "       [ 0.80576177,  1.45010528,  0.04786783],\n",
       "       [-0.41002054, -0.48067656, -0.39684443],\n",
       "       [-1.62580285,  0.2144049 ,  0.86276928],\n",
       "       [-1.62580285,  2.60857438,  0.8951696 ],\n",
       "       [-0.41002054, -2.1928939 , -0.0566274 ],\n",
       "       [ 0.80576177, -0.32621401, -0.47946856],\n",
       "       [-1.62580285,  0.44609872, -0.10425778],\n",
       "       [-1.62580285,  1.52733655, -0.11632674],\n",
       "       [-1.62580285, -0.40344529,  0.91930946],\n",
       "       [ 0.80576177, -0.09452019, -0.3393322 ],\n",
       "       [ 0.80576177, -0.63513911, -0.46391578],\n",
       "       [ 0.80576177, -0.09452019, -0.4672363 ],\n",
       "       [ 0.80576177, -0.09452019, -0.32402243],\n",
       "       [-0.41002054, -0.09452019, -0.62041562],\n",
       "       [ 0.80576177, -1.87083949, -0.37788948],\n",
       "       [-1.62580285,  1.52733655,  0.48634343],\n",
       "       [ 0.80576177, -1.09852675, -0.3394119 ],\n",
       "       [-1.62580285, -0.09452019,  1.53526365],\n",
       "       [ 0.80576177, -0.01728892, -0.46926205],\n",
       "       [ 0.80576177,  0.98671764, -0.47363627],\n",
       "       [ 0.80576177, -0.86683293, -0.2743663 ],\n",
       "       [ 0.80576177, -0.63513911, -0.45646406],\n",
       "       [-0.41002054,  1.14118018, -0.11495032],\n",
       "       [-0.41002054, -0.09452019, -0.36768297],\n",
       "       [-0.41002054,  0.60056127, -0.11495032],\n",
       "       [ 0.80576177,  0.75502382, -0.05419727],\n",
       "       [-0.41002054,  0.36886745,  0.01141601],\n",
       "       [-0.41002054,  0.05994235, -0.36768297],\n",
       "       [-0.41002054,  2.8402682 , -0.4162854 ],\n",
       "       [-1.62580285, -0.09452019,  2.22809133],\n",
       "       [ 0.80576177,  1.06394891, -0.46391578],\n",
       "       [ 0.80576177, -0.09452019, -0.45103614],\n",
       "       [ 0.80576177, -0.40344529, -0.47468997],\n",
       "       [ 0.80576177, -0.86683293, -0.46885768],\n",
       "       [ 0.80576177, -0.09452019, -0.15091612],\n",
       "       [ 0.80576177, -0.09452019, -0.46391578],\n",
       "       [ 0.80576177, -0.09452019, -0.48335676],\n",
       "       [ 0.80576177, -0.09452019,  0.47791772],\n",
       "       [ 0.80576177, -0.09452019, -0.46901904],\n",
       "       [-0.41002054,  0.52332999, -0.11495032],\n",
       "       [ 0.80576177,  0.2144049 , -0.31908053],\n",
       "       [ 0.80576177, -0.44206093, -0.47987294],\n",
       "       [-1.62580285, -0.09452019, -0.10425778],\n",
       "       [-0.41002054,  0.75502382, -0.36768297],\n",
       "       [-1.62580285, -0.09452019,  0.9770647 ],\n",
       "       [ 0.80576177, -0.09452019, -0.45597804],\n",
       "       [-1.62580285,  2.76303693,  0.58452035],\n",
       "       [-0.41002054, -0.48067656, -0.4162854 ],\n",
       "       [-1.62580285, -0.09452019,  0.38784185],\n",
       "       [ 0.80576177, -0.55790784, -0.46691358],\n",
       "       [ 0.80576177,  0.44609872, -0.48335676],\n",
       "       [-1.62580285, -0.48067656,  0.61133139],\n",
       "       [-0.41002054, -0.86683293, -0.36768297],\n",
       "       [-1.62580285,  0.52332999, -0.10741694],\n",
       "       [ 0.80576177, -1.56191439, -0.32402243],\n",
       "       [ 0.80576177, -0.9440642 , -0.48189869],\n",
       "       [ 0.80576177, -0.09452019, -0.47995459],\n",
       "       [ 0.80576177,  0.67779254, -0.01021207],\n",
       "       [-0.41002054, -0.9440642 , -0.4162854 ],\n",
       "       [ 0.80576177, -1.94807076, -0.29575137],\n",
       "       [-1.62580285,  1.25702709, -0.06634788],\n",
       "       [-0.41002054, -0.48067656, -0.36768297],\n",
       "       [ 0.80576177,  0.2144049 , -0.46634591],\n",
       "       [ 0.80576177, -0.24898274, -0.46772233],\n",
       "       [ 0.80576177, -1.79360821, -0.01239918],\n",
       "       [-1.62580285, -0.40344529,  4.19162962],\n",
       "       [-1.62580285,  1.21841146, -0.10425778],\n",
       "       [-0.41002054, -0.01728892, -0.08149629],\n",
       "       [ 0.80576177, -0.09452019, -0.46691358],\n",
       "       [-1.62580285, -0.09452019,  0.06973893],\n",
       "       [-0.41002054,  0.98671764, -0.36768297],\n",
       "       [ 0.80576177,  0.52332999, -0.15091612],\n",
       "       [-0.41002054,  0.29163617, -0.38177767],\n",
       "       [ 0.80576177, -0.9440642 , -0.48327511],\n",
       "       [ 0.80576177, -0.01728892, -0.43572637],\n",
       "       [-0.41002054,  1.60456783, -0.11495032],\n",
       "       [-1.62580285,  0.44609872,  1.12927197],\n",
       "       [-1.62580285,  0.67779254,  3.80289181],\n",
       "       [-0.41002054,  0.36886745, -0.36768297],\n",
       "       [-1.62580285, -0.9440642 ,  0.48771985],\n",
       "       [ 0.80576177, -1.40745185, -0.01239918],\n",
       "       [ 0.80576177,  2.45411184, -0.49915255],\n",
       "       [ 0.80576177,  0.05994235, -0.45200819],\n",
       "       [-0.41002054, -1.71637694, -0.11009007],\n",
       "       [ 0.80576177,  2.60857438, -0.43402529],\n",
       "       [ 0.80576177, -0.71237038, -0.47987294],\n",
       "       [ 0.80576177, -0.09452019, -0.18574851],\n",
       "       [ 0.80576177, -0.01728892, -0.43605104],\n",
       "       [-1.62580285,  0.52332999,  1.71250117],\n",
       "       [ 0.80576177, -0.09452019, -0.3393322 ],\n",
       "       [ 0.80576177,  1.60456783, -0.46391578],\n",
       "       [-1.62580285, -0.17175147,  3.49135022],\n",
       "       [ 0.80576177,  0.05994235, -0.47946856],\n",
       "       [-1.62580285,  0.29163617,  1.12927197],\n",
       "       [ 0.80576177, -0.09452019, -0.4702341 ],\n",
       "       [ 0.80576177, -0.09452019, -0.12531819],\n",
       "       [ 0.80576177, -2.10253331, -0.21069711],\n",
       "       [-0.41002054, -0.32621401, -0.03718642],\n",
       "       [-1.62580285,  1.6817991 ,  0.57285576],\n",
       "       [-0.41002054, -0.32621401, -0.11495032],\n",
       "       [ 0.80576177, -0.09452019, -0.47946856],\n",
       "       [ 0.80576177, -0.09452019, -0.46691358],\n",
       "       [-0.41002054, -0.40344529, -0.36768297],\n",
       "       [ 0.80576177, -0.86683293, -0.22746495],\n",
       "       [-1.62580285, -0.09452019, -0.02746594],\n",
       "       [ 0.80576177, -0.32621401, -0.48335676],\n",
       "       [-0.41002054, -0.40344529, -0.33852151],\n",
       "       [ 0.80576177, -0.55790784, -0.47420395],\n",
       "       [-1.62580285, -2.18594308,  2.32586387],\n",
       "       [-0.41002054, -0.40344529, -0.11495032],\n",
       "       [ 0.80576177, -0.24898274, -0.46634591],\n",
       "       [-0.41002054,  0.36886745, -0.21215518],\n",
       "       [-1.62580285, -0.63513911,  4.48040973],\n",
       "       [ 0.80576177, -0.09452019, -0.46974808],\n",
       "       [ 0.80576177, -0.09452019, -0.47987294],\n",
       "       [ 0.80576177, -0.09452019, -0.45200819],\n",
       "       [ 0.80576177, -0.55790784, -0.46926205],\n",
       "       [-1.62580285,  2.53134311,  0.93486224],\n",
       "       [ 0.80576177, -0.86683293, -0.42908339],\n",
       "       [-1.62580285,  0.98671764,  3.80289181],\n",
       "       [-0.41002054,  2.14518674, -0.3803196 ],\n",
       "       [ 0.80576177, -0.78960166, -0.62041562],\n",
       "       [-0.41002054,  0.98671764, -0.11495032],\n",
       "       [ 0.80576177, -0.09452019, -0.47995459],\n",
       "       [ 0.80576177, -0.71237038, -0.45200819],\n",
       "       [ 0.80576177,  0.40748308, -0.49526435],\n",
       "       [ 0.80576177, -0.09452019, -0.43572637],\n",
       "       [ 0.80576177, -0.09452019, -0.46391578],\n",
       "       [ 0.80576177, -0.48067656, -0.46691358],\n",
       "       [ 0.80576177, -0.55790784, -0.47946856],\n",
       "       [-1.62580285,  1.75903037, -0.02746594],\n",
       "       [ 0.80576177,  0.05994235, -0.37788948],\n",
       "       [-0.41002054,  0.56194563, -0.11495032],\n",
       "       [ 0.80576177, -0.09452019, -0.46974808],\n",
       "       [ 0.80576177, -0.55790784, -0.47987294],\n",
       "       [-1.62580285,  1.60456783,  1.97787045],\n",
       "       [ 0.80576177, -0.17175147, -0.48481483],\n",
       "       [ 0.80576177, -0.55790784, -0.46391578],\n",
       "       [-1.62580285,  1.6817991 ,  0.8951696 ],\n",
       "       [-0.41002054,  0.52332999, -0.4162854 ],\n",
       "       [-0.41002054, -0.01728892, -0.11495032],\n",
       "       [-1.62580285, -0.55790784,  2.32586387],\n",
       "       [-1.62580285,  1.60456783,  1.44858996],\n",
       "       [-0.41002054,  0.83225509, -0.36768297],\n",
       "       [ 0.80576177, -0.17175147, -0.45200819],\n",
       "       [-1.62580285, -0.09452019, -0.62041562],\n",
       "       [-1.62580285,  2.76303693, -0.10425778],\n",
       "       [ 0.80576177, -0.9440642 , -0.45200819],\n",
       "       [-1.62580285, -0.09452019, -0.10425778],\n",
       "       [-1.62580285, -1.94807076,  0.9709894 ],\n",
       "       [ 0.80576177, -0.09452019, -0.46691358],\n",
       "       [ 0.80576177, -2.17976458, -0.40397343],\n",
       "       [-0.41002054,  0.52332999, -0.08092861],\n",
       "       [-0.41002054,  1.06394891, -0.11009007],\n",
       "       [-1.62580285,  0.67779254,  2.36304473],\n",
       "       [-0.41002054,  0.13717363, -0.11009007],\n",
       "       [ 0.80576177, -0.01728892, -0.46391578],\n",
       "       [ 0.80576177, -0.86683293, -0.45905554],\n",
       "       [-0.41002054, -0.09452019, -0.32782897],\n",
       "       [-1.62580285,  0.75502382,  1.53526365],\n",
       "       [-0.41002054,  0.75502382, -0.36768297],\n",
       "       [ 0.80576177, -0.24898274, -0.45200819],\n",
       "       [ 0.80576177, -0.71237038, -0.48335676],\n",
       "       [-1.62580285, -0.09452019,  1.97787045],\n",
       "       [ 0.80576177,  1.52733655, -0.62041562],\n",
       "       [-0.41002054, -0.48067656, -0.32791062],\n",
       "       [ 0.80576177, -2.17976458,  0.15114801],\n",
       "       [ 0.80576177, -0.09452019, -0.4672363 ],\n",
       "       [ 0.80576177, -0.09452019, -0.1645248 ],\n",
       "       [-0.41002054, -2.02530203, -0.11495032],\n",
       "       [ 0.80576177, -1.94807076, -0.40397343],\n",
       "       [ 0.80576177, -0.78960166, -0.47169217],\n",
       "       [ 0.80576177,  0.87087073, -0.46974808],\n",
       "       [ 0.80576177, -2.17976458, -0.31438165],\n",
       "       [ 0.80576177, -0.09452019, -0.32402243],\n",
       "       [ 0.80576177, -0.63513911, -0.46634591]])"
      ]
     },
     "execution_count": 119,
     "metadata": {},
     "output_type": "execute_result"
    }
   ],
   "source": [
    "X_test_scaled"
   ]
  },
  {
   "cell_type": "code",
   "execution_count": null,
   "metadata": {},
   "outputs": [],
   "source": []
  }
 ],
 "metadata": {
  "kernelspec": {
   "display_name": "deep_dive",
   "language": "python",
   "name": "python3"
  },
  "language_info": {
   "codemirror_mode": {
    "name": "ipython",
    "version": 3
   },
   "file_extension": ".py",
   "mimetype": "text/x-python",
   "name": "python",
   "nbconvert_exporter": "python",
   "pygments_lexer": "ipython3",
   "version": "3.9.15"
  },
  "orig_nbformat": 4,
  "vscode": {
   "interpreter": {
    "hash": "eb08a34c302cc27a4d23545ca3618b33f7d05e4192c0f50f032f1e9033ce8b7f"
   }
  }
 },
 "nbformat": 4,
 "nbformat_minor": 2
}
